{
  "nbformat": 4,
  "nbformat_minor": 0,
  "metadata": {
    "colab": {
      "name": "milestone2.ipynb",
      "provenance": [],
      "collapsed_sections": [],
      "mount_file_id": "https://github.com/AnikaD15/EN-HU-Translation/blob/main/milestone3.ipynb",
      "authorship_tag": "ABX9TyN1Rgfgjup070BLfGKgpJ0j",
      "include_colab_link": true
    },
    "kernelspec": {
      "display_name": "Python 3",
      "name": "python3"
    },
    "language_info": {
      "name": "python"
    }
  },
  "cells": [
    {
      "cell_type": "markdown",
      "metadata": {
        "id": "view-in-github",
        "colab_type": "text"
      },
      "source": [
        "<a href=\"https://colab.research.google.com/github/AnikaD15/EN-HU-Translation/blob/main/milestone3.ipynb\" target=\"_parent\"><img src=\"https://colab.research.google.com/assets/colab-badge.svg\" alt=\"Open In Colab\"/></a>"
      ]
    },
    {
      "cell_type": "code",
      "metadata": {
        "id": "UGMBEXTfhJFd"
      },
      "source": [
        "import numpy as np\n",
        "import tensorflow as tf\n",
        "from tensorflow import keras\n",
        "from tensorflow.keras.callbacks import EarlyStopping\n",
        "from nltk.translate.bleu_score import corpus_bleu\n",
        "from nltk.translate.bleu_score import sentence_bleu"
      ],
      "execution_count": 2,
      "outputs": []
    },
    {
      "cell_type": "code",
      "metadata": {
        "id": "emOrdz_9hvkr"
      },
      "source": [
        "## Config \n",
        "batch_size = 64  # Batch size for training.\n",
        "epochs = 100  # Number of epochs to train for.\n",
        "latent_dim = 256  # Latent dimensionality of the encoding space.\n",
        "num_samples = 10000  # Number of samples to train on.\n",
        "# Path to the data txt file on disk.\n",
        "base_path = \"/content/drive/MyDrive/DeepLearning/\"\n",
        "data_path1 = base_path + \"hun1.txt\"\n",
        "data_path2 = base_path + \"hun2.tsv\""
      ],
      "execution_count": 3,
      "outputs": []
    },
    {
      "cell_type": "markdown",
      "metadata": {
        "id": "c_VN1BTmPytY"
      },
      "source": [
        "# Functions"
      ]
    },
    {
      "cell_type": "code",
      "metadata": {
        "id": "UUPMHdkTP1HY"
      },
      "source": [
        "def getLines(data_path):\n",
        "  with open(data_path1, \"r\", encoding=\"utf-8\") as f:\n",
        "    lines = f.read().split(\"\\n\")\n",
        "  return lines"
      ],
      "execution_count": 4,
      "outputs": []
    },
    {
      "cell_type": "code",
      "metadata": {
        "id": "G-Zu7rYNQJcG"
      },
      "source": [
        "def getTextAndChars(lines):\n",
        "  input_texts = []\n",
        "  target_texts = []\n",
        "  input_characters = set()\n",
        "  target_characters = set()\n",
        "\n",
        "  for line in lines[: min(num_samples, len(lines) - 1)]:\n",
        "    # input_text, target_text, _ = line.split(\"\\t\")\n",
        "    target_text, input_text, _ = line.split(\"\\t\")\n",
        "    # We use \"tab\" as the \"start sequence\" character\n",
        "    # for the targets, and \"\\n\" as \"end sequence\" character.\n",
        "    target_text = \"\\t\" + target_text + \"\\n\"\n",
        "    input_texts.append(input_text)\n",
        "    target_texts.append(target_text)\n",
        "\n",
        "    for char in input_text:\n",
        "        if char not in input_characters:\n",
        "            input_characters.add(char)\n",
        "\n",
        "    for char in target_text:\n",
        "        if char not in target_characters:\n",
        "            target_characters.add(char)\n",
        "\n",
        "  input_characters = sorted(list(input_characters))\n",
        "  target_characters = sorted(list(target_characters)) \n",
        "\n",
        "  return input_texts, target_texts, input_characters, target_characters \n",
        "\n"
      ],
      "execution_count": 5,
      "outputs": []
    },
    {
      "cell_type": "code",
      "metadata": {
        "id": "BH53RsOOQ63h"
      },
      "source": [
        "def numTokens(charSet):\n",
        "  return len(charSet)"
      ],
      "execution_count": 6,
      "outputs": []
    },
    {
      "cell_type": "code",
      "metadata": {
        "id": "FoGsWg2nRdHC"
      },
      "source": [
        "def maxSeqLength(text):\n",
        "  return max([len(txt) for txt in text])"
      ],
      "execution_count": 7,
      "outputs": []
    },
    {
      "cell_type": "code",
      "metadata": {
        "id": "U-D9-S42R1hy"
      },
      "source": [
        "def makeTokenIndex(charSet):\n",
        "  return dict([(char, i) for i, char in enumerate(charSet)])"
      ],
      "execution_count": 8,
      "outputs": []
    },
    {
      "cell_type": "code",
      "metadata": {
        "id": "yqIG0zwoSOss"
      },
      "source": [
        "def setInputAndTargetData(input_text, target_text, input_token_index, target_token_index):\n",
        "  encoder_input_data = np.zeros(\n",
        "      (len(input_text), max_encoder_seq_length, num_encoder_tokens), dtype=\"float32\"\n",
        "  )\n",
        "  decoder_input_data = np.zeros(\n",
        "      (len(input_text), max_decoder_seq_length, num_decoder_tokens), dtype=\"float32\"\n",
        "  )\n",
        "  decoder_target_data = np.zeros(\n",
        "      (len(input_text), max_decoder_seq_length, num_decoder_tokens), dtype=\"float32\"\n",
        "  )\n",
        "\n",
        "  \n",
        "  for i, (input_text, target_text) in enumerate(zip(input_text, target_text)):\n",
        "    for t, char in enumerate(input_text):\n",
        "        encoder_input_data[i, t, input_token_index[char]] = 1.0\n",
        "\n",
        "    encoder_input_data[i, t + 1 :, input_token_index[\" \"]] = 1.0\n",
        "    for t, char in enumerate(target_text):\n",
        "        # decoder_target_data is ahead of decoder_input_data by one timestep\n",
        "        decoder_input_data[i, t, target_token_index[char]] = 1.0\n",
        "        if t > 0:\n",
        "            # decoder_target_data will be ahead by one timestep\n",
        "            # and will not include the start character.\n",
        "            decoder_target_data[i, t - 1, target_token_index[char]] = 1.0\n",
        "    decoder_input_data[i, t + 1 :, target_token_index[\" \"]] = 1.0\n",
        "    decoder_target_data[i, t:, target_token_index[\" \"]] = 1.0\n",
        "\n",
        "  return encoder_input_data, decoder_input_data, decoder_target_data"
      ],
      "execution_count": 9,
      "outputs": []
    },
    {
      "cell_type": "code",
      "metadata": {
        "id": "j7O7HqEwj7LM"
      },
      "source": [
        "# Define an input sequence and process it.\n",
        "def getInputsAndOutputs(num_encoder_tokens, num_decoder_tokens, latent_dim=latent_dim):\n",
        "  encoder_inputs = keras.Input(shape=(None, num_encoder_tokens))\n",
        "  encoder = keras.layers.LSTM(latent_dim, return_state=True)\n",
        "  encoder_outputs, state_h, state_c = encoder(encoder_inputs)\n",
        "\n",
        "  # We discard `encoder_outputs` and only keep the states.\n",
        "  encoder_states = [state_h, state_c]\n",
        "\n",
        "  # Set up the decoder, using `encoder_states` as initial state.\n",
        "  decoder_inputs = keras.Input(shape=(None, num_decoder_tokens))\n",
        "\n",
        "  # We set up our decoder to return full output sequences,\n",
        "  # and to return internal states as well. We don't use the\n",
        "  # return states in the training model, but we will use them in inference.\n",
        "  decoder_lstm = keras.layers.LSTM(latent_dim, return_sequences=True, return_state=True)\n",
        "  decoder_outputs, _, _ = decoder_lstm(decoder_inputs, initial_state=encoder_states)\n",
        "  decoder_dense = keras.layers.Dense(num_decoder_tokens, activation=\"softmax\")\n",
        "  decoder_outputs = decoder_dense(decoder_outputs)\n",
        "\n",
        "  return encoder_inputs, decoder_inputs, decoder_outputs"
      ],
      "execution_count": 10,
      "outputs": []
    },
    {
      "cell_type": "code",
      "metadata": {
        "id": "SSZq_5zkYFX-"
      },
      "source": [
        "def splitData(data, valid_split, test_split):\n",
        "  # array index boundary\n",
        "  v_point = int(len(data)*(1-valid_split-test_split))\n",
        "  t_point = int(len(data)*(1-test_split))\n",
        "\n",
        "  data_train = data[:t_point]\n",
        "  data_valid = data[v_point:t_point]\n",
        "  data_test = data[t_point:]\n",
        "\n",
        "  return data_train, data_valid, data_test"
      ],
      "execution_count": 11,
      "outputs": []
    },
    {
      "cell_type": "code",
      "metadata": {
        "id": "ZB8RhX0HpdV0"
      },
      "source": [
        "def decode_sequence(input_seq):\n",
        "    # Encode the input as state vectors.\n",
        "    states_value = encoder_model.predict(input_seq)\n",
        "\n",
        "    # Generate empty target sequence of length 1.\n",
        "    target_seq = np.zeros((1, 1, num_decoder_tokens))\n",
        "    # Populate the first character of target sequence with the start character.\n",
        "    target_seq[0, 0, target_token_index[\"\\t\"]] = 1.0\n",
        "\n",
        "    # Sampling loop for a batch of sequences\n",
        "    # (to simplify, here we assume a batch of size 1).\n",
        "    stop_condition = False\n",
        "    decoded_sentence = \"\"\n",
        "    while not stop_condition:\n",
        "        output_tokens, h, c = decoder_model.predict([target_seq] + states_value)\n",
        "\n",
        "        # Sample a token\n",
        "        sampled_token_index = np.argmax(output_tokens[0, -1, :])\n",
        "        sampled_char = reverse_target_char_index[sampled_token_index]\n",
        "        decoded_sentence += sampled_char\n",
        "\n",
        "        # Exit condition: either hit max length\n",
        "        # or find stop character.\n",
        "        if sampled_char == \"\\n\" or len(decoded_sentence) > max_decoder_seq_length:\n",
        "            stop_condition = True\n",
        "\n",
        "        # Update the target sequence (of length 1).\n",
        "        target_seq = np.zeros((1, 1, num_decoder_tokens))\n",
        "        target_seq[0, 0, sampled_token_index] = 1.0\n",
        "\n",
        "        # Update states\n",
        "        states_value = [h, c]\n",
        "        \n",
        "    return decoded_sentence"
      ],
      "execution_count": 12,
      "outputs": []
    },
    {
      "cell_type": "markdown",
      "metadata": {
        "id": "tn_4qmSN_asO"
      },
      "source": [
        "## Prepare Data"
      ]
    },
    {
      "cell_type": "code",
      "metadata": {
        "colab": {
          "base_uri": "https://localhost:8080/"
        },
        "id": "Zv2Zkpyxh5J9",
        "outputId": "ad9c32fa-b220-4e0e-d7ff-4f030483ce1d"
      },
      "source": [
        "# Vectorize the data.\n",
        "lines1 = getLines(data_path1)\n",
        "lines2 = getLines(data_path2)\n",
        "\n",
        "lines = lines1+lines2\n",
        "\n",
        "input_text, target_text, input_characters, target_characters = getTextAndChars(lines)\n",
        "\n",
        "num_encoder_tokens = numTokens(input_characters)\n",
        "num_decoder_tokens = numTokens(target_characters)\n",
        "max_encoder_seq_length = maxSeqLength(input_text)\n",
        "max_decoder_seq_length = maxSeqLength(target_text)\n",
        "\n",
        "print(\"Number of samples:\", len(input_text))\n",
        "print(\"Number of unique input tokens:\", num_encoder_tokens)\n",
        "print(\"Number of unique output tokens:\", num_decoder_tokens)\n",
        "print(\"Max sequence length for inputs:\", max_encoder_seq_length)\n",
        "print(\"Max sequence length for outputs:\", max_decoder_seq_length)\n",
        "\n",
        "# character's lexographical order\n",
        "input_token_index = makeTokenIndex(input_characters) \n",
        "target_token_index = makeTokenIndex(target_characters)\n",
        "\n",
        "# encoder_input_data, decoder_input_data, decoder_target_data = setInputAndTargetData(input_text, target_text, input_token_index, target_token_index)\n",
        "                                                                                    \n",
        "encoder_inputs, decoder_inputs, decoder_outputs = getInputsAndOutputs(num_encoder_tokens, num_decoder_tokens)                                                                          \n"
      ],
      "execution_count": 13,
      "outputs": [
        {
          "output_type": "stream",
          "name": "stdout",
          "text": [
            "Number of samples: 10000\n",
            "Number of unique input tokens: 81\n",
            "Number of unique output tokens: 72\n",
            "Max sequence length for inputs: 54\n",
            "Max sequence length for outputs: 17\n"
          ]
        }
      ]
    },
    {
      "cell_type": "markdown",
      "source": [
        "## Split Data"
      ],
      "metadata": {
        "id": "upoHKugRTHyK"
      }
    },
    {
      "cell_type": "code",
      "source": [
        "# training, validation, test data\n",
        "valid_split = 0.2\n",
        "test_split  = 0.1\n",
        "\n",
        "input_text_train, input_text_valid, input_text_test = splitData(input_text, valid_split, test_split)\n",
        "target_text_train, target_text_valid, target_text_test = splitData(target_text, valid_split, test_split)"
      ],
      "metadata": {
        "id": "qohTgHGjTRx9"
      },
      "execution_count": 14,
      "outputs": []
    },
    {
      "cell_type": "markdown",
      "metadata": {
        "id": "CfYXsKzGFqt9"
      },
      "source": [
        "## Define Model"
      ]
    },
    {
      "cell_type": "code",
      "metadata": {
        "id": "_SfoIpUYkyDn"
      },
      "source": [
        "# Define the model that will turn \n",
        "# `encoder_input_data` & `decoder_input_data` into `decoder_target_data`\n",
        "model = keras.Model([encoder_inputs, decoder_inputs], decoder_outputs)"
      ],
      "execution_count": 15,
      "outputs": []
    },
    {
      "cell_type": "markdown",
      "metadata": {
        "id": "lQdAqvrYGhBu"
      },
      "source": [
        "## Train Model"
      ]
    },
    {
      "cell_type": "code",
      "metadata": {
        "id": "o2_L2KVYI6kJ"
      },
      "source": [
        "# training, validation, test encoder/decoder data\n",
        "encoder_input_data_train, decoder_input_data_train, decoder_target_data_train = setInputAndTargetData(input_text_train, target_text_train, input_token_index, target_token_index)\n",
        "encoder_input_data_valid, decoder_input_data_valid, decoder_target_data_valid = setInputAndTargetData(input_text_valid, target_text_valid, input_token_index, target_token_index)\n",
        "encoder_input_data_test, decoder_input_data_test, decoder_target_data_test = setInputAndTargetData(input_text_test, target_text_test, input_token_index, target_token_index)"
      ],
      "execution_count": 16,
      "outputs": []
    },
    {
      "cell_type": "code",
      "metadata": {
        "id": "J99m4f7TpAeX"
      },
      "source": [
        "model.compile(\n",
        "    optimizer=\"rmsprop\", loss=\"categorical_crossentropy\", metrics=[\"accuracy\"]\n",
        ")"
      ],
      "execution_count": 17,
      "outputs": []
    },
    {
      "cell_type": "code",
      "metadata": {
        "id": "SaFvxKaAHrRP"
      },
      "source": [
        "es = EarlyStopping(monitor='val_accuracy', \n",
        "                   patience=20, verbose=1,\n",
        "                   restore_best_weights=True)"
      ],
      "execution_count": 18,
      "outputs": []
    },
    {
      "cell_type": "code",
      "metadata": {
        "id": "Yi13jaVCH5Dq",
        "colab": {
          "base_uri": "https://localhost:8080/"
        },
        "outputId": "5457f977-346f-4d38-a207-920ac7cc7cbe"
      },
      "source": [
        "model.fit(\n",
        "    [encoder_input_data_train, decoder_input_data_train],\n",
        "    decoder_target_data_train,\n",
        "    batch_size=batch_size,\n",
        "    callbacks=[es],\n",
        "    epochs=epochs,\n",
        "    validation_data = ([encoder_input_data_valid, decoder_input_data_valid],\n",
        "    decoder_target_data_valid)\n",
        ")\n",
        "# Save model\n",
        "model.save(base_path + \"model\")"
      ],
      "execution_count": 19,
      "outputs": [
        {
          "output_type": "stream",
          "name": "stdout",
          "text": [
            "Epoch 1/100\n",
            "141/141 [==============================] - 58s 381ms/step - loss: 2.4180 - accuracy: 0.3568 - val_loss: 2.5538 - val_accuracy: 0.2966\n",
            "Epoch 2/100\n",
            "141/141 [==============================] - 53s 376ms/step - loss: 1.8921 - accuracy: 0.4841 - val_loss: 2.0013 - val_accuracy: 0.4319\n",
            "Epoch 3/100\n",
            "141/141 [==============================] - 53s 375ms/step - loss: 1.6114 - accuracy: 0.5366 - val_loss: 1.7859 - val_accuracy: 0.4726\n",
            "Epoch 4/100\n",
            "141/141 [==============================] - 54s 381ms/step - loss: 1.4886 - accuracy: 0.5638 - val_loss: 1.7118 - val_accuracy: 0.4973\n",
            "Epoch 5/100\n",
            "141/141 [==============================] - 53s 376ms/step - loss: 1.4123 - accuracy: 0.5828 - val_loss: 1.5922 - val_accuracy: 0.5279\n",
            "Epoch 6/100\n",
            "141/141 [==============================] - 53s 378ms/step - loss: 1.3439 - accuracy: 0.6010 - val_loss: 1.5134 - val_accuracy: 0.5496\n",
            "Epoch 7/100\n",
            "141/141 [==============================] - 53s 375ms/step - loss: 1.2890 - accuracy: 0.6165 - val_loss: 1.4810 - val_accuracy: 0.5539\n",
            "Epoch 8/100\n",
            "141/141 [==============================] - 53s 376ms/step - loss: 1.2406 - accuracy: 0.6294 - val_loss: 1.4130 - val_accuracy: 0.5796\n",
            "Epoch 9/100\n",
            "141/141 [==============================] - 53s 375ms/step - loss: 1.1897 - accuracy: 0.6422 - val_loss: 1.3657 - val_accuracy: 0.5900\n",
            "Epoch 10/100\n",
            "141/141 [==============================] - 53s 373ms/step - loss: 1.1409 - accuracy: 0.6584 - val_loss: 1.3152 - val_accuracy: 0.6063\n",
            "Epoch 11/100\n",
            "141/141 [==============================] - 53s 374ms/step - loss: 1.1014 - accuracy: 0.6694 - val_loss: 1.2587 - val_accuracy: 0.6175\n",
            "Epoch 12/100\n",
            "141/141 [==============================] - 53s 374ms/step - loss: 1.0644 - accuracy: 0.6803 - val_loss: 1.2550 - val_accuracy: 0.6122\n",
            "Epoch 13/100\n",
            "141/141 [==============================] - 53s 378ms/step - loss: 1.0312 - accuracy: 0.6888 - val_loss: 1.1688 - val_accuracy: 0.6440\n",
            "Epoch 14/100\n",
            "141/141 [==============================] - 54s 380ms/step - loss: 0.9944 - accuracy: 0.7001 - val_loss: 1.1611 - val_accuracy: 0.6368\n",
            "Epoch 15/100\n",
            "141/141 [==============================] - 53s 379ms/step - loss: 0.9626 - accuracy: 0.7083 - val_loss: 1.1126 - val_accuracy: 0.6599\n",
            "Epoch 16/100\n",
            "141/141 [==============================] - 53s 377ms/step - loss: 0.9332 - accuracy: 0.7165 - val_loss: 1.0511 - val_accuracy: 0.6789\n",
            "Epoch 17/100\n",
            "141/141 [==============================] - 52s 372ms/step - loss: 0.9046 - accuracy: 0.7253 - val_loss: 1.0330 - val_accuracy: 0.6835\n",
            "Epoch 18/100\n",
            "141/141 [==============================] - 53s 373ms/step - loss: 0.8817 - accuracy: 0.7312 - val_loss: 1.0269 - val_accuracy: 0.6839\n",
            "Epoch 19/100\n",
            "141/141 [==============================] - 53s 374ms/step - loss: 0.8614 - accuracy: 0.7377 - val_loss: 0.9850 - val_accuracy: 0.6967\n",
            "Epoch 20/100\n",
            "141/141 [==============================] - 53s 375ms/step - loss: 0.8305 - accuracy: 0.7470 - val_loss: 0.9482 - val_accuracy: 0.7084\n",
            "Epoch 21/100\n",
            "141/141 [==============================] - 52s 370ms/step - loss: 0.8086 - accuracy: 0.7532 - val_loss: 0.9217 - val_accuracy: 0.7139\n",
            "Epoch 22/100\n",
            "141/141 [==============================] - 53s 377ms/step - loss: 0.7845 - accuracy: 0.7614 - val_loss: 0.8851 - val_accuracy: 0.7308\n",
            "Epoch 23/100\n",
            "141/141 [==============================] - 53s 378ms/step - loss: 0.7627 - accuracy: 0.7685 - val_loss: 0.8697 - val_accuracy: 0.7296\n",
            "Epoch 24/100\n",
            "141/141 [==============================] - 53s 375ms/step - loss: 0.7408 - accuracy: 0.7750 - val_loss: 0.8329 - val_accuracy: 0.7451\n",
            "Epoch 25/100\n",
            "141/141 [==============================] - 53s 377ms/step - loss: 0.7205 - accuracy: 0.7809 - val_loss: 0.8207 - val_accuracy: 0.7455\n",
            "Epoch 26/100\n",
            "141/141 [==============================] - 53s 373ms/step - loss: 0.7008 - accuracy: 0.7870 - val_loss: 0.7932 - val_accuracy: 0.7557\n",
            "Epoch 27/100\n",
            "141/141 [==============================] - 53s 376ms/step - loss: 0.6825 - accuracy: 0.7924 - val_loss: 0.7489 - val_accuracy: 0.7757\n",
            "Epoch 28/100\n",
            "141/141 [==============================] - 53s 375ms/step - loss: 0.6638 - accuracy: 0.7980 - val_loss: 0.7318 - val_accuracy: 0.7786\n",
            "Epoch 29/100\n",
            "141/141 [==============================] - 53s 377ms/step - loss: 0.6462 - accuracy: 0.8031 - val_loss: 0.7051 - val_accuracy: 0.7892\n",
            "Epoch 30/100\n",
            "141/141 [==============================] - 53s 378ms/step - loss: 0.6296 - accuracy: 0.8084 - val_loss: 0.6846 - val_accuracy: 0.7935\n",
            "Epoch 31/100\n",
            "141/141 [==============================] - 53s 376ms/step - loss: 0.6124 - accuracy: 0.8141 - val_loss: 0.6638 - val_accuracy: 0.8014\n",
            "Epoch 32/100\n",
            "141/141 [==============================] - 54s 381ms/step - loss: 0.5974 - accuracy: 0.8172 - val_loss: 0.6581 - val_accuracy: 0.7997\n",
            "Epoch 33/100\n",
            "141/141 [==============================] - 54s 383ms/step - loss: 0.5825 - accuracy: 0.8229 - val_loss: 0.6170 - val_accuracy: 0.8164\n",
            "Epoch 34/100\n",
            "141/141 [==============================] - 54s 380ms/step - loss: 0.5680 - accuracy: 0.8272 - val_loss: 0.6086 - val_accuracy: 0.8186\n",
            "Epoch 35/100\n",
            "141/141 [==============================] - 53s 376ms/step - loss: 0.5542 - accuracy: 0.8310 - val_loss: 0.5990 - val_accuracy: 0.8207\n",
            "Epoch 36/100\n",
            "141/141 [==============================] - 54s 380ms/step - loss: 0.5405 - accuracy: 0.8353 - val_loss: 0.5785 - val_accuracy: 0.8270\n",
            "Epoch 37/100\n",
            "141/141 [==============================] - 54s 383ms/step - loss: 0.5287 - accuracy: 0.8389 - val_loss: 0.5564 - val_accuracy: 0.8344\n",
            "Epoch 38/100\n",
            "141/141 [==============================] - 54s 381ms/step - loss: 0.5155 - accuracy: 0.8427 - val_loss: 0.5672 - val_accuracy: 0.8298\n",
            "Epoch 39/100\n",
            "141/141 [==============================] - 55s 392ms/step - loss: 0.5037 - accuracy: 0.8455 - val_loss: 0.5317 - val_accuracy: 0.8409\n",
            "Epoch 40/100\n",
            "141/141 [==============================] - 57s 407ms/step - loss: 0.4920 - accuracy: 0.8496 - val_loss: 0.5192 - val_accuracy: 0.8439\n",
            "Epoch 41/100\n",
            "141/141 [==============================] - 55s 391ms/step - loss: 0.4801 - accuracy: 0.8530 - val_loss: 0.5130 - val_accuracy: 0.8468\n",
            "Epoch 42/100\n",
            "141/141 [==============================] - 54s 381ms/step - loss: 0.4681 - accuracy: 0.8579 - val_loss: 0.4931 - val_accuracy: 0.8526\n",
            "Epoch 43/100\n",
            "141/141 [==============================] - 53s 378ms/step - loss: 0.4571 - accuracy: 0.8600 - val_loss: 0.4779 - val_accuracy: 0.8568\n",
            "Epoch 44/100\n",
            "141/141 [==============================] - 53s 379ms/step - loss: 0.4473 - accuracy: 0.8634 - val_loss: 0.4668 - val_accuracy: 0.8609\n",
            "Epoch 45/100\n",
            "141/141 [==============================] - 53s 378ms/step - loss: 0.4363 - accuracy: 0.8675 - val_loss: 0.4390 - val_accuracy: 0.8710\n",
            "Epoch 46/100\n",
            "141/141 [==============================] - 54s 384ms/step - loss: 0.4262 - accuracy: 0.8698 - val_loss: 0.4498 - val_accuracy: 0.8666\n",
            "Epoch 47/100\n",
            "141/141 [==============================] - 54s 384ms/step - loss: 0.4156 - accuracy: 0.8730 - val_loss: 0.4322 - val_accuracy: 0.8709\n",
            "Epoch 48/100\n",
            "141/141 [==============================] - 54s 380ms/step - loss: 0.4067 - accuracy: 0.8758 - val_loss: 0.4140 - val_accuracy: 0.8744\n",
            "Epoch 49/100\n",
            "141/141 [==============================] - 54s 384ms/step - loss: 0.3962 - accuracy: 0.8790 - val_loss: 0.3990 - val_accuracy: 0.8810\n",
            "Epoch 50/100\n",
            "141/141 [==============================] - 54s 382ms/step - loss: 0.3868 - accuracy: 0.8814 - val_loss: 0.3933 - val_accuracy: 0.8831\n",
            "Epoch 51/100\n",
            "141/141 [==============================] - 54s 386ms/step - loss: 0.3782 - accuracy: 0.8840 - val_loss: 0.3835 - val_accuracy: 0.8856\n",
            "Epoch 52/100\n",
            "141/141 [==============================] - 54s 386ms/step - loss: 0.3690 - accuracy: 0.8865 - val_loss: 0.3690 - val_accuracy: 0.8904\n",
            "Epoch 53/100\n",
            "141/141 [==============================] - 55s 390ms/step - loss: 0.3607 - accuracy: 0.8888 - val_loss: 0.3686 - val_accuracy: 0.8899\n",
            "Epoch 54/100\n",
            "141/141 [==============================] - 55s 390ms/step - loss: 0.3532 - accuracy: 0.8915 - val_loss: 0.3602 - val_accuracy: 0.8916\n",
            "Epoch 55/100\n",
            "141/141 [==============================] - 54s 386ms/step - loss: 0.3435 - accuracy: 0.8946 - val_loss: 0.3364 - val_accuracy: 0.8998\n",
            "Epoch 56/100\n",
            "141/141 [==============================] - 54s 383ms/step - loss: 0.3346 - accuracy: 0.8976 - val_loss: 0.3349 - val_accuracy: 0.8999\n",
            "Epoch 57/100\n",
            "141/141 [==============================] - 54s 386ms/step - loss: 0.3287 - accuracy: 0.8992 - val_loss: 0.3355 - val_accuracy: 0.8994\n",
            "Epoch 58/100\n",
            "141/141 [==============================] - 54s 384ms/step - loss: 0.3205 - accuracy: 0.9012 - val_loss: 0.3186 - val_accuracy: 0.9061\n",
            "Epoch 59/100\n",
            "141/141 [==============================] - 54s 381ms/step - loss: 0.3129 - accuracy: 0.9036 - val_loss: 0.3055 - val_accuracy: 0.9109\n",
            "Epoch 60/100\n",
            "141/141 [==============================] - 54s 379ms/step - loss: 0.3054 - accuracy: 0.9060 - val_loss: 0.3006 - val_accuracy: 0.9115\n",
            "Epoch 61/100\n",
            "141/141 [==============================] - 53s 378ms/step - loss: 0.2974 - accuracy: 0.9085 - val_loss: 0.2935 - val_accuracy: 0.9127\n",
            "Epoch 62/100\n",
            "141/141 [==============================] - 53s 379ms/step - loss: 0.2901 - accuracy: 0.9107 - val_loss: 0.2849 - val_accuracy: 0.9155\n",
            "Epoch 63/100\n",
            "141/141 [==============================] - 54s 382ms/step - loss: 0.2835 - accuracy: 0.9127 - val_loss: 0.2764 - val_accuracy: 0.9181\n",
            "Epoch 64/100\n",
            "141/141 [==============================] - 54s 385ms/step - loss: 0.2763 - accuracy: 0.9149 - val_loss: 0.2755 - val_accuracy: 0.9167\n",
            "Epoch 65/100\n",
            "141/141 [==============================] - 54s 380ms/step - loss: 0.2695 - accuracy: 0.9177 - val_loss: 0.2676 - val_accuracy: 0.9225\n",
            "Epoch 66/100\n",
            "141/141 [==============================] - 54s 380ms/step - loss: 0.2633 - accuracy: 0.9188 - val_loss: 0.2498 - val_accuracy: 0.9285\n",
            "Epoch 67/100\n",
            "141/141 [==============================] - 54s 380ms/step - loss: 0.2555 - accuracy: 0.9220 - val_loss: 0.2481 - val_accuracy: 0.9281\n",
            "Epoch 68/100\n",
            "141/141 [==============================] - 53s 377ms/step - loss: 0.2496 - accuracy: 0.9234 - val_loss: 0.2365 - val_accuracy: 0.9308\n",
            "Epoch 69/100\n",
            "141/141 [==============================] - 54s 383ms/step - loss: 0.2430 - accuracy: 0.9258 - val_loss: 0.2250 - val_accuracy: 0.9360\n",
            "Epoch 70/100\n",
            "141/141 [==============================] - 54s 383ms/step - loss: 0.2380 - accuracy: 0.9274 - val_loss: 0.2328 - val_accuracy: 0.9321\n",
            "Epoch 71/100\n",
            "141/141 [==============================] - 54s 385ms/step - loss: 0.2321 - accuracy: 0.9294 - val_loss: 0.2204 - val_accuracy: 0.9360\n",
            "Epoch 72/100\n",
            "141/141 [==============================] - 54s 381ms/step - loss: 0.2256 - accuracy: 0.9312 - val_loss: 0.2164 - val_accuracy: 0.9376\n",
            "Epoch 73/100\n",
            "141/141 [==============================] - 54s 382ms/step - loss: 0.2200 - accuracy: 0.9323 - val_loss: 0.2072 - val_accuracy: 0.9403\n",
            "Epoch 74/100\n",
            "141/141 [==============================] - 54s 383ms/step - loss: 0.2146 - accuracy: 0.9347 - val_loss: 0.1969 - val_accuracy: 0.9438\n",
            "Epoch 75/100\n",
            "141/141 [==============================] - 54s 382ms/step - loss: 0.2094 - accuracy: 0.9362 - val_loss: 0.1948 - val_accuracy: 0.9434\n",
            "Epoch 76/100\n",
            "141/141 [==============================] - 56s 394ms/step - loss: 0.2034 - accuracy: 0.9381 - val_loss: 0.1887 - val_accuracy: 0.9463\n",
            "Epoch 77/100\n",
            "141/141 [==============================] - 54s 387ms/step - loss: 0.1982 - accuracy: 0.9396 - val_loss: 0.1854 - val_accuracy: 0.9465\n",
            "Epoch 78/100\n",
            "141/141 [==============================] - 55s 388ms/step - loss: 0.1936 - accuracy: 0.9412 - val_loss: 0.1821 - val_accuracy: 0.9478\n",
            "Epoch 79/100\n",
            "141/141 [==============================] - 54s 384ms/step - loss: 0.1875 - accuracy: 0.9434 - val_loss: 0.1740 - val_accuracy: 0.9500\n",
            "Epoch 80/100\n",
            "141/141 [==============================] - 54s 384ms/step - loss: 0.1827 - accuracy: 0.9445 - val_loss: 0.1700 - val_accuracy: 0.9519\n",
            "Epoch 81/100\n",
            "141/141 [==============================] - 55s 393ms/step - loss: 0.1789 - accuracy: 0.9463 - val_loss: 0.1620 - val_accuracy: 0.9551\n",
            "Epoch 82/100\n",
            "141/141 [==============================] - 55s 391ms/step - loss: 0.1741 - accuracy: 0.9471 - val_loss: 0.1664 - val_accuracy: 0.9514\n",
            "Epoch 83/100\n",
            "141/141 [==============================] - 54s 382ms/step - loss: 0.1681 - accuracy: 0.9494 - val_loss: 0.1533 - val_accuracy: 0.9565\n",
            "Epoch 84/100\n",
            "141/141 [==============================] - 54s 382ms/step - loss: 0.1643 - accuracy: 0.9511 - val_loss: 0.1514 - val_accuracy: 0.9582\n",
            "Epoch 85/100\n",
            "141/141 [==============================] - 54s 380ms/step - loss: 0.1603 - accuracy: 0.9516 - val_loss: 0.1512 - val_accuracy: 0.9567\n",
            "Epoch 86/100\n",
            "141/141 [==============================] - 54s 382ms/step - loss: 0.1565 - accuracy: 0.9531 - val_loss: 0.1432 - val_accuracy: 0.9603\n",
            "Epoch 87/100\n",
            "141/141 [==============================] - 54s 380ms/step - loss: 0.1520 - accuracy: 0.9547 - val_loss: 0.1375 - val_accuracy: 0.9606\n",
            "Epoch 88/100\n",
            "141/141 [==============================] - 53s 375ms/step - loss: 0.1481 - accuracy: 0.9558 - val_loss: 0.1398 - val_accuracy: 0.9601\n",
            "Epoch 89/100\n",
            "141/141 [==============================] - 54s 382ms/step - loss: 0.1438 - accuracy: 0.9569 - val_loss: 0.1424 - val_accuracy: 0.9586\n",
            "Epoch 90/100\n",
            "141/141 [==============================] - 54s 380ms/step - loss: 0.1394 - accuracy: 0.9583 - val_loss: 0.1209 - val_accuracy: 0.9674\n",
            "Epoch 91/100\n",
            "141/141 [==============================] - 54s 381ms/step - loss: 0.1363 - accuracy: 0.9597 - val_loss: 0.1296 - val_accuracy: 0.9635\n",
            "Epoch 92/100\n",
            "141/141 [==============================] - 53s 379ms/step - loss: 0.1334 - accuracy: 0.9601 - val_loss: 0.1221 - val_accuracy: 0.9651\n",
            "Epoch 93/100\n",
            "141/141 [==============================] - 55s 394ms/step - loss: 0.1295 - accuracy: 0.9614 - val_loss: 0.1266 - val_accuracy: 0.9642\n",
            "Epoch 94/100\n",
            "141/141 [==============================] - 55s 388ms/step - loss: 0.1261 - accuracy: 0.9623 - val_loss: 0.1081 - val_accuracy: 0.9708\n",
            "Epoch 95/100\n",
            "141/141 [==============================] - 56s 396ms/step - loss: 0.1233 - accuracy: 0.9634 - val_loss: 0.1203 - val_accuracy: 0.9660\n",
            "Epoch 96/100\n",
            "141/141 [==============================] - 54s 386ms/step - loss: 0.1206 - accuracy: 0.9639 - val_loss: 0.1052 - val_accuracy: 0.9719\n",
            "Epoch 97/100\n",
            "141/141 [==============================] - 55s 387ms/step - loss: 0.1176 - accuracy: 0.9655 - val_loss: 0.0984 - val_accuracy: 0.9739\n",
            "Epoch 98/100\n",
            "141/141 [==============================] - 54s 385ms/step - loss: 0.1137 - accuracy: 0.9665 - val_loss: 0.1069 - val_accuracy: 0.9706\n",
            "Epoch 99/100\n",
            "141/141 [==============================] - 55s 387ms/step - loss: 0.1113 - accuracy: 0.9670 - val_loss: 0.0965 - val_accuracy: 0.9741\n",
            "Epoch 100/100\n",
            "141/141 [==============================] - 54s 385ms/step - loss: 0.1097 - accuracy: 0.9671 - val_loss: 0.0999 - val_accuracy: 0.9725\n"
          ]
        },
        {
          "output_type": "stream",
          "name": "stderr",
          "text": [
            "WARNING:absl:Found untraced functions such as lstm_cell_layer_call_fn, lstm_cell_layer_call_and_return_conditional_losses, lstm_cell_1_layer_call_fn, lstm_cell_1_layer_call_and_return_conditional_losses, lstm_cell_layer_call_fn while saving (showing 5 of 10). These functions will not be directly callable after loading.\n"
          ]
        },
        {
          "output_type": "stream",
          "name": "stdout",
          "text": [
            "INFO:tensorflow:Assets written to: /content/drive/MyDrive/DeepLearning/model/assets\n"
          ]
        },
        {
          "output_type": "stream",
          "name": "stderr",
          "text": [
            "INFO:tensorflow:Assets written to: /content/drive/MyDrive/DeepLearning/model/assets\n",
            "WARNING:absl:<keras.layers.recurrent.LSTMCell object at 0x7f9eb24d5610> has the same name 'LSTMCell' as a built-in Keras object. Consider renaming <class 'keras.layers.recurrent.LSTMCell'> to avoid naming conflicts when loading with `tf.keras.models.load_model`. If renaming is not possible, pass the object in the `custom_objects` parameter of the load function.\n",
            "WARNING:absl:<keras.layers.recurrent.LSTMCell object at 0x7f9eaec17750> has the same name 'LSTMCell' as a built-in Keras object. Consider renaming <class 'keras.layers.recurrent.LSTMCell'> to avoid naming conflicts when loading with `tf.keras.models.load_model`. If renaming is not possible, pass the object in the `custom_objects` parameter of the load function.\n"
          ]
        }
      ]
    },
    {
      "cell_type": "markdown",
      "metadata": {
        "id": "FQ9nT-_AIQGd"
      },
      "source": [
        "## Evaluate Model"
      ]
    },
    {
      "cell_type": "code",
      "metadata": {
        "id": "dVyJd6wIIIqh",
        "colab": {
          "base_uri": "https://localhost:8080/"
        },
        "outputId": "d0340ece-18cb-4953-c654-a0f166198a4f"
      },
      "source": [
        "model.evaluate([encoder_input_data_test, decoder_input_data_test],\n",
        "    decoder_target_data_test)"
      ],
      "execution_count": 20,
      "outputs": [
        {
          "output_type": "stream",
          "name": "stdout",
          "text": [
            "32/32 [==============================] - 2s 78ms/step - loss: 2.1477 - accuracy: 0.6481\n"
          ]
        },
        {
          "output_type": "execute_result",
          "data": {
            "text/plain": [
              "[2.147653579711914, 0.6480588316917419]"
            ]
          },
          "metadata": {},
          "execution_count": 20
        }
      ]
    },
    {
      "cell_type": "markdown",
      "metadata": {
        "id": "abYc26H36Dua"
      },
      "source": [
        ""
      ]
    },
    {
      "cell_type": "code",
      "metadata": {
        "id": "gZIYazoQpM-8"
      },
      "source": [
        "# Define sampling models\n",
        "# Restore the model and construct the encoder and decoder.\n",
        "model = keras.models.load_model(base_path + \"model\")\n",
        "\n",
        "encoder_inputs = model.input[0]  # input_1\n",
        "encoder_outputs, state_h_enc, state_c_enc = model.layers[2].output  # lstm_1\n",
        "encoder_states = [state_h_enc, state_c_enc]\n",
        "encoder_model = keras.Model(encoder_inputs, encoder_states)\n",
        "\n",
        "decoder_inputs = model.input[1]  # input_2\n",
        "decoder_state_input_h = keras.Input(shape=(latent_dim,))\n",
        "decoder_state_input_c = keras.Input(shape=(latent_dim,))\n",
        "decoder_states_inputs = [decoder_state_input_h, decoder_state_input_c]\n",
        "decoder_lstm = model.layers[3]\n",
        "decoder_outputs, state_h_dec, state_c_dec = decoder_lstm(\n",
        "    decoder_inputs, initial_state=decoder_states_inputs\n",
        ")\n",
        "decoder_states = [state_h_dec, state_c_dec]\n",
        "decoder_dense = model.layers[4]\n",
        "decoder_outputs = decoder_dense(decoder_outputs)\n",
        "decoder_model = keras.Model(\n",
        "    [decoder_inputs] + decoder_states_inputs, [decoder_outputs] + decoder_states\n",
        ")\n",
        "\n",
        "# Reverse-lookup token index to decode sequences back to\n",
        "# something readable.\n",
        "reverse_input_char_index = dict((i, char) for char, i in input_token_index.items())\n",
        "reverse_target_char_index = dict((i, char) for char, i in target_token_index.items())"
      ],
      "execution_count": 22,
      "outputs": []
    },
    {
      "cell_type": "code",
      "source": [
        "corpus_scores = list()\n",
        "dim_list = list()"
      ],
      "metadata": {
        "id": "YiYfl3aqkVEj"
      },
      "execution_count": 23,
      "outputs": []
    },
    {
      "cell_type": "code",
      "metadata": {
        "id": "s2O3IcN7fwJC",
        "colab": {
          "base_uri": "https://localhost:8080/",
          "height": 235
        },
        "outputId": "4091e9dc-6fa5-45e4-a452-9c171ba8bd4a"
      },
      "source": [
        "n = len(input_text_test)\n",
        "sentence_scores = list()\n",
        "decoded_sentences = list(list())\n",
        "target_sentences = list(list(list()))\n",
        "\n",
        "\n",
        "for seq_index in range(n):\n",
        "    # Take one sequence (part of the training set)\n",
        "    # for trying out decoding.\n",
        "    input_seq = encoder_input_data_test[seq_index : seq_index + 1]\n",
        "    decoded_sentence = decode_sequence(input_seq)\n",
        "\n",
        "    # sentence score\n",
        "    sentence_scores.add(sentence_bleu([[target_text_test[seq_index]]], [decoded_sentence]))\n",
        "\n",
        "    #corpus score\n",
        "    target_sentences.add([[target_text_test[seq_index]]])\n",
        "    decoded_sentences.add([decoded_sentence])\n",
        "\n",
        "    print(\"-\")\n",
        "    print(\"Input sentence:\", input_text_test[seq_index])\n",
        "    print(\"Target sentence:\", target_text_test[seq_index])\n",
        "    print(\"Decoded sentence:\", decoded_sentence)\n",
        "\n",
        "corpus_scores.add(corpus_bleu(target_sentences, decoded_sentences))\n",
        "dim_list.add(latent_dim)"
      ],
      "execution_count": 26,
      "outputs": [
        {
          "output_type": "error",
          "ename": "AttributeError",
          "evalue": "ignored",
          "traceback": [
            "\u001b[0;31m---------------------------------------------------------------------------\u001b[0m",
            "\u001b[0;31mAttributeError\u001b[0m                            Traceback (most recent call last)",
            "\u001b[0;32m<ipython-input-26-47929fcb4c1a>\u001b[0m in \u001b[0;36m<module>\u001b[0;34m()\u001b[0m\n\u001b[1;32m     12\u001b[0m \u001b[0;34m\u001b[0m\u001b[0m\n\u001b[1;32m     13\u001b[0m     \u001b[0;31m# sentence score\u001b[0m\u001b[0;34m\u001b[0m\u001b[0;34m\u001b[0m\u001b[0;34m\u001b[0m\u001b[0m\n\u001b[0;32m---> 14\u001b[0;31m     \u001b[0msentence_scores\u001b[0m\u001b[0;34m.\u001b[0m\u001b[0madd\u001b[0m\u001b[0;34m(\u001b[0m\u001b[0msentence_bleu\u001b[0m\u001b[0;34m(\u001b[0m\u001b[0;34m[\u001b[0m\u001b[0;34m[\u001b[0m\u001b[0mtarget_text_test\u001b[0m\u001b[0;34m[\u001b[0m\u001b[0mseq_index\u001b[0m\u001b[0;34m]\u001b[0m\u001b[0;34m]\u001b[0m\u001b[0;34m]\u001b[0m\u001b[0;34m,\u001b[0m \u001b[0;34m[\u001b[0m\u001b[0mdecoded_sentence\u001b[0m\u001b[0;34m]\u001b[0m\u001b[0;34m)\u001b[0m\u001b[0;34m)\u001b[0m\u001b[0;34m\u001b[0m\u001b[0;34m\u001b[0m\u001b[0m\n\u001b[0m\u001b[1;32m     15\u001b[0m \u001b[0;34m\u001b[0m\u001b[0m\n\u001b[1;32m     16\u001b[0m     \u001b[0;31m#corpus score\u001b[0m\u001b[0;34m\u001b[0m\u001b[0;34m\u001b[0m\u001b[0;34m\u001b[0m\u001b[0m\n",
            "\u001b[0;31mAttributeError\u001b[0m: 'list' object has no attribute 'add'"
          ]
        }
      ]
    },
    {
      "cell_type": "markdown",
      "source": [
        "### Graph Plot"
      ],
      "metadata": {
        "id": "EqkTccHNQ3Pb"
      }
    },
    {
      "cell_type": "code",
      "source": [
        "# x axis values\n",
        "x = [i in for i in range(len(senetence_scores))]\n",
        "# corresponding y axis values\n",
        "y = sentence_scores\n",
        " \n",
        "# plotting the points\n",
        "plt.plot(x, y)\n",
        " \n",
        "# naming the x axis\n",
        "plt.xlabel('Sentence Indices')\n",
        "# naming the y axis\n",
        "plt.ylabel('Sentence BLEU Score')\n",
        " \n",
        "# giving a title to my graph\n",
        "plt.title('Sentence BLEU Scores for Tests Data')\n",
        " \n",
        "# function to show the plot\n",
        "plt.show()"
      ],
      "metadata": {
        "id": "RE2z2zrlQ4xY"
      },
      "execution_count": null,
      "outputs": []
    },
    {
      "cell_type": "code",
      "source": [
        "corpus_scores "
      ],
      "metadata": {
        "id": "Mmoqpv5mkNtp"
      },
      "execution_count": null,
      "outputs": []
    }
  ]
}