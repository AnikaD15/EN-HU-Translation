{
  "nbformat": 4,
  "nbformat_minor": 0,
  "metadata": {
    "colab": {
      "name": "milestone2.ipynb",
      "provenance": [],
      "collapsed_sections": [],
      "mount_file_id": "https://github.com/AnikaD15/EN-HU-Translation/blob/main/milestone3.ipynb",
      "authorship_tag": "ABX9TyM6TVfw19XHQuWFAI8EXVJX",
      "include_colab_link": true
    },
    "kernelspec": {
      "display_name": "Python 3",
      "name": "python3"
    },
    "language_info": {
      "name": "python"
    }
  },
  "cells": [
    {
      "cell_type": "markdown",
      "metadata": {
        "id": "view-in-github",
        "colab_type": "text"
      },
      "source": [
        "<a href=\"https://colab.research.google.com/github/AnikaD15/EN-HU-Translation/blob/main/milestone3.ipynb\" target=\"_parent\"><img src=\"https://colab.research.google.com/assets/colab-badge.svg\" alt=\"Open In Colab\"/></a>"
      ]
    },
    {
      "cell_type": "code",
      "metadata": {
        "id": "UGMBEXTfhJFd"
      },
      "source": [
        "import numpy as np\n",
        "import tensorflow as tf\n",
        "from tensorflow import keras\n",
        "from tensorflow.keras.callbacks import EarlyStopping\n",
        "from nltk.translate.bleu_score import corpus_bleu\n",
        "from nltk.translate.bleu_score import sentence_bleu"
      ],
      "execution_count": 19,
      "outputs": []
    },
    {
      "cell_type": "code",
      "metadata": {
        "id": "emOrdz_9hvkr"
      },
      "source": [
        "## Config \n",
        "batch_size = 64  # Batch size for training.\n",
        "epochs = 100  # Number of epochs to train for.\n",
        "latent_dim = 256  # Latent dimensionality of the encoding space.\n",
        "num_samples = 10000  # Number of samples to train on.\n",
        "# Path to the data txt file on disk.\n",
        "base_path = \"/content/drive/MyDrive/DeepLearning/\"\n",
        "data_path1 = base_path + \"hun1.txt\"\n",
        "data_path2 = base_path + \"hun2.tsv\""
      ],
      "execution_count": 20,
      "outputs": []
    },
    {
      "cell_type": "markdown",
      "metadata": {
        "id": "c_VN1BTmPytY"
      },
      "source": [
        "# Functions"
      ]
    },
    {
      "cell_type": "code",
      "metadata": {
        "id": "UUPMHdkTP1HY"
      },
      "source": [
        "def getLines(data_path):\n",
        "  with open(data_path1, \"r\", encoding=\"utf-8\") as f:\n",
        "    lines = f.read().split(\"\\n\")\n",
        "  return lines"
      ],
      "execution_count": 21,
      "outputs": []
    },
    {
      "cell_type": "code",
      "metadata": {
        "id": "G-Zu7rYNQJcG"
      },
      "source": [
        "def getTextAndChars(lines):\n",
        "  input_texts = []\n",
        "  target_texts = []\n",
        "  input_characters = set()\n",
        "  target_characters = set()\n",
        "\n",
        "  for line in lines[: min(num_samples, len(lines) - 1)]:\n",
        "    # input_text, target_text, _ = line.split(\"\\t\")\n",
        "    target_text, input_text, _ = line.split(\"\\t\")\n",
        "    # We use \"tab\" as the \"start sequence\" character\n",
        "    # for the targets, and \"\\n\" as \"end sequence\" character.\n",
        "    target_text = \"\\t\" + target_text + \"\\n\"\n",
        "    input_texts.append(input_text)\n",
        "    target_texts.append(target_text)\n",
        "\n",
        "    for char in input_text:\n",
        "        if char not in input_characters:\n",
        "            input_characters.add(char)\n",
        "\n",
        "    for char in target_text:\n",
        "        if char not in target_characters:\n",
        "            target_characters.add(char)\n",
        "\n",
        "  input_characters = sorted(list(input_characters))\n",
        "  target_characters = sorted(list(target_characters)) \n",
        "\n",
        "  return input_texts, target_texts, input_characters, target_characters \n",
        "\n"
      ],
      "execution_count": 22,
      "outputs": []
    },
    {
      "cell_type": "code",
      "metadata": {
        "id": "BH53RsOOQ63h"
      },
      "source": [
        "def numTokens(charSet):\n",
        "  return len(charSet)"
      ],
      "execution_count": 23,
      "outputs": []
    },
    {
      "cell_type": "code",
      "metadata": {
        "id": "FoGsWg2nRdHC"
      },
      "source": [
        "def maxSeqLength(text):\n",
        "  return max([len(txt) for txt in text])"
      ],
      "execution_count": 24,
      "outputs": []
    },
    {
      "cell_type": "code",
      "metadata": {
        "id": "U-D9-S42R1hy"
      },
      "source": [
        "def makeTokenIndex(charSet):\n",
        "  return dict([(char, i) for i, char in enumerate(charSet)])"
      ],
      "execution_count": 25,
      "outputs": []
    },
    {
      "cell_type": "code",
      "metadata": {
        "id": "yqIG0zwoSOss"
      },
      "source": [
        "def setInputAndTargetData(input_text, target_text, input_token_index, target_token_index):\n",
        "  encoder_input_data = np.zeros(\n",
        "      (len(input_texts), max_encoder_seq_length, num_encoder_tokens), dtype=\"float32\"\n",
        "  )\n",
        "  decoder_input_data = np.zeros(\n",
        "      (len(input_texts), max_decoder_seq_length, num_decoder_tokens), dtype=\"float32\"\n",
        "  )\n",
        "  decoder_target_data = np.zeros(\n",
        "      (len(input_texts), max_decoder_seq_length, num_decoder_tokens), dtype=\"float32\"\n",
        "  )\n",
        "\n",
        "  \n",
        "  for i, (input_text, target_text) in enumerate(zip(input_texts, target_texts)):\n",
        "    for t, char in enumerate(input_text):\n",
        "        encoder_input_data[i, t, input_token_index[char]] = 1.0\n",
        "\n",
        "    encoder_input_data[i, t + 1 :, input_token_index[\" \"]] = 1.0\n",
        "    for t, char in enumerate(target_text):\n",
        "        # decoder_target_data is ahead of decoder_input_data by one timestep\n",
        "        decoder_input_data[i, t, target_token_index[char]] = 1.0\n",
        "        if t > 0:\n",
        "            # decoder_target_data will be ahead by one timestep\n",
        "            # and will not include the start character.\n",
        "            decoder_target_data[i, t - 1, target_token_index[char]] = 1.0\n",
        "    decoder_input_data[i, t + 1 :, target_token_index[\" \"]] = 1.0\n",
        "    decoder_target_data[i, t:, target_token_index[\" \"]] = 1.0\n",
        "\n",
        "  return encoder_input_data, decoder_input_data, decoder_target_data"
      ],
      "execution_count": 26,
      "outputs": []
    },
    {
      "cell_type": "code",
      "metadata": {
        "id": "j7O7HqEwj7LM"
      },
      "source": [
        "# Define an input sequence and process it.\n",
        "def getInputsAndOutputs(num_encoder_tokens, num_decoder_tokens):\n",
        "  encoder_inputs = keras.Input(shape=(None, num_encoder_tokens))\n",
        "  encoder = keras.layers.LSTM(latent_dim, return_state=True)\n",
        "  encoder_outputs, state_h, state_c = encoder(encoder_inputs)\n",
        "\n",
        "  # We discard `encoder_outputs` and only keep the states.\n",
        "  encoder_states = [state_h, state_c]\n",
        "\n",
        "  # Set up the decoder, using `encoder_states` as initial state.\n",
        "  decoder_inputs = keras.Input(shape=(None, num_decoder_tokens))\n",
        "\n",
        "  # We set up our decoder to return full output sequences,\n",
        "  # and to return internal states as well. We don't use the\n",
        "  # return states in the training model, but we will use them in inference.\n",
        "  decoder_lstm = keras.layers.LSTM(latent_dim, return_sequences=True, return_state=True)\n",
        "  decoder_outputs, _, _ = decoder_lstm(decoder_inputs, initial_state=encoder_states)\n",
        "  decoder_dense = keras.layers.Dense(num_decoder_tokens, activation=\"softmax\")\n",
        "  decoder_outputs = decoder_dense(decoder_outputs)\n",
        "\n",
        "  return encoder_inputs, decoder_inputs, decoder_outputs"
      ],
      "execution_count": 27,
      "outputs": []
    },
    {
      "cell_type": "code",
      "metadata": {
        "id": "SSZq_5zkYFX-"
      },
      "source": [
        "def splitData(data, valid_split, test_split):\n",
        "  # array index boundary\n",
        "  v_point = int(len(data)*(1-valid_split-test_split))\n",
        "  t_point = int(len(data)*(1-test_split))\n",
        "\n",
        "  data_train = data[:t_point]\n",
        "  data_valid = data[v_point:t_point]\n",
        "  data_test = data[t_point:]\n",
        "\n",
        "  return data_train, data_valid, data_test"
      ],
      "execution_count": 32,
      "outputs": []
    },
    {
      "cell_type": "code",
      "metadata": {
        "id": "ZB8RhX0HpdV0"
      },
      "source": [
        "def decode_sequence(input_seq):\n",
        "    # Encode the input as state vectors.\n",
        "    states_value = encoder_model.predict(input_seq)\n",
        "\n",
        "    # Generate empty target sequence of length 1.\n",
        "    target_seq = np.zeros((1, 1, num_decoder_tokens))\n",
        "    # Populate the first character of target sequence with the start character.\n",
        "    target_seq[0, 0, target_token_index[\"\\t\"]] = 1.0\n",
        "\n",
        "    # Sampling loop for a batch of sequences\n",
        "    # (to simplify, here we assume a batch of size 1).\n",
        "    stop_condition = False\n",
        "    decoded_sentence = \"\"\n",
        "    while not stop_condition:\n",
        "        output_tokens, h, c = decoder_model.predict([target_seq] + states_value)\n",
        "\n",
        "        # Sample a token\n",
        "        sampled_token_index = np.argmax(output_tokens[0, -1, :])\n",
        "        sampled_char = reverse_target_char_index[sampled_token_index]\n",
        "        decoded_sentence += sampled_char\n",
        "\n",
        "        # Exit condition: either hit max length\n",
        "        # or find stop character.\n",
        "        if sampled_char == \"\\n\" or len(decoded_sentence) > max_decoder_seq_length:\n",
        "            stop_condition = True\n",
        "\n",
        "        # Update the target sequence (of length 1).\n",
        "        target_seq = np.zeros((1, 1, num_decoder_tokens))\n",
        "        target_seq[0, 0, sampled_token_index] = 1.0\n",
        "\n",
        "        # Update states\n",
        "        states_value = [h, c]\n",
        "        \n",
        "    return decoded_sentence"
      ],
      "execution_count": 29,
      "outputs": []
    },
    {
      "cell_type": "markdown",
      "metadata": {
        "id": "tn_4qmSN_asO"
      },
      "source": [
        "## Prepare Data"
      ]
    },
    {
      "cell_type": "code",
      "metadata": {
        "colab": {
          "base_uri": "https://localhost:8080/"
        },
        "id": "Zv2Zkpyxh5J9",
        "outputId": "46f53c85-2963-47ef-b7ff-2497d6edb3a7"
      },
      "source": [
        "# Vectorize the data.\n",
        "lines1 = getLines(data_path1)\n",
        "lines2 = getLines(data_path2)\n",
        "\n",
        "lines = lines1+lines2\n",
        "\n",
        "input_text, target_text, input_characters, target_characters = getTextAndChars(lines)\n",
        "\n",
        "num_encoder_tokens = numTokens(input_characters)\n",
        "num_decoder_tokens = numTokens(target_characters)\n",
        "max_encoder_seq_length = maxSeqLength(input_texts)\n",
        "max_decoder_seq_length = maxSeqLength(target_texts)\n",
        "\n",
        "print(\"Number of samples:\", len(input_texts))\n",
        "print(\"Number of unique input tokens:\", num_encoder_tokens)\n",
        "print(\"Number of unique output tokens:\", num_decoder_tokens)\n",
        "print(\"Max sequence length for inputs:\", max_encoder_seq_length)\n",
        "print(\"Max sequence length for outputs:\", max_decoder_seq_length)\n",
        "\n",
        "# character's lexographical order\n",
        "input_token_index = makeTokenIndex(input_characters) \n",
        "target_token_index = makeTokenIndex(target_characters)\n",
        "\n",
        "# encoder_input_data, decoder_input_data, decoder_target_data = setInputAndTargetData(input_text, target_text, input_token_index, target_token_index)\n",
        "                                                                                    \n",
        "encoder_inputs, decoder_inputs, decoder_outputs = getInputsAndOutputs(num_encoder_tokens, num_decoder_tokens)                                                                          \n"
      ],
      "execution_count": 30,
      "outputs": [
        {
          "output_type": "stream",
          "name": "stdout",
          "text": [
            "Number of samples: 10000\n",
            "Number of unique input tokens: 81\n",
            "Number of unique output tokens: 72\n",
            "Max sequence length for inputs: 54\n",
            "Max sequence length for outputs: 17\n"
          ]
        }
      ]
    },
    {
      "cell_type": "markdown",
      "source": [
        "## Split Data"
      ],
      "metadata": {
        "id": "upoHKugRTHyK"
      }
    },
    {
      "cell_type": "code",
      "source": [
        "# training, validation, test data\n",
        "valid_split = 0.2\n",
        "test_split  = 0.1\n",
        "\n",
        "input_text_train, input_text_valid, input_text_test = splitData(input_text, valid_split, test_split)\n",
        "target_text_train, target_text_valid, target_text_test = splitData(target_text, valid_split, test_split)"
      ],
      "metadata": {
        "id": "qohTgHGjTRx9"
      },
      "execution_count": 34,
      "outputs": []
    },
    {
      "cell_type": "markdown",
      "metadata": {
        "id": "CfYXsKzGFqt9"
      },
      "source": [
        "## Define Model"
      ]
    },
    {
      "cell_type": "code",
      "metadata": {
        "id": "_SfoIpUYkyDn"
      },
      "source": [
        "# Define the model that will turn \n",
        "# `encoder_input_data` & `decoder_input_data` into `decoder_target_data`\n",
        "model = keras.Model([encoder_inputs, decoder_inputs], decoder_outputs)"
      ],
      "execution_count": 35,
      "outputs": []
    },
    {
      "cell_type": "markdown",
      "metadata": {
        "id": "lQdAqvrYGhBu"
      },
      "source": [
        "## Train Model"
      ]
    },
    {
      "cell_type": "code",
      "metadata": {
        "id": "o2_L2KVYI6kJ"
      },
      "source": [
        "# training, validation, test encoder/decoder data\n",
        "encoder_input_data_train, decoder_input_data_train, decoder_target_data_train = setInputAndTargetData(input_text_train, target_text_train, input_token_index, target_token_index)\n",
        "encoder_input_data_valid, decoder_input_data_valid, decoder_target_data_valid = setInputAndTargetData(input_text_valid, target_text_valid, input_token_index, target_token_index)\n",
        "encoder_input_data_test, decoder_input_data_test, decoder_target_data_test = setInputAndTargetData(input_text_test, target_text_test, input_token_index, target_token_index)"
      ],
      "execution_count": 36,
      "outputs": []
    },
    {
      "cell_type": "code",
      "metadata": {
        "id": "J99m4f7TpAeX"
      },
      "source": [
        "model.compile(\n",
        "    optimizer=\"rmsprop\", loss=\"categorical_crossentropy\", metrics=[\"accuracy\"]\n",
        ")"
      ],
      "execution_count": 37,
      "outputs": []
    },
    {
      "cell_type": "code",
      "metadata": {
        "id": "SaFvxKaAHrRP"
      },
      "source": [
        "es = EarlyStopping(monitor='val_accuracy', \n",
        "                   patience=20, verbose=1,\n",
        "                   restore_best_weights=True)"
      ],
      "execution_count": 38,
      "outputs": []
    },
    {
      "cell_type": "code",
      "metadata": {
        "id": "Yi13jaVCH5Dq",
        "colab": {
          "base_uri": "https://localhost:8080/"
        },
        "outputId": "c3d8d318-7179-42ed-e9a0-4f8eda4246af"
      },
      "source": [
        "model.fit(\n",
        "    [encoder_input_data_train, decoder_input_data_train],\n",
        "    decoder_target_data_train,\n",
        "    batch_size=batch_size,\n",
        "    callbacks=[es],\n",
        "    epochs=epochs,\n",
        "    validation_data = ([encoder_input_data_valid, decoder_input_data_valid],\n",
        "    decoder_target_data_valid)\n",
        ")\n",
        "# Save model\n",
        "model.save(base_path + \"model\")"
      ],
      "execution_count": null,
      "outputs": [
        {
          "output_type": "stream",
          "name": "stdout",
          "text": [
            "Epoch 1/100\n",
            "157/157 [==============================] - ETA: 0s - loss: 2.3947 - accuracy: 0.3578"
          ]
        }
      ]
    },
    {
      "cell_type": "markdown",
      "metadata": {
        "id": "FQ9nT-_AIQGd"
      },
      "source": [
        "## Evaluate Model"
      ]
    },
    {
      "cell_type": "code",
      "metadata": {
        "id": "dVyJd6wIIIqh"
      },
      "source": [
        "model.evaluate([encoder_input_data_test, decoder_input_data_test],\n",
        "    decoder_target_data_test)"
      ],
      "execution_count": null,
      "outputs": []
    },
    {
      "cell_type": "markdown",
      "metadata": {
        "id": "abYc26H36Dua"
      },
      "source": [
        ""
      ]
    },
    {
      "cell_type": "code",
      "metadata": {
        "id": "gZIYazoQpM-8"
      },
      "source": [
        "# Define sampling models\n",
        "# Restore the model and construct the encoder and decoder.\n",
        "  model = keras.models.load_model(base_path + data_path)\n",
        "  \n",
        "  encoder_inputs = model.input[0]  # input_1\n",
        "  encoder_outputs, state_h_enc, state_c_enc = model.layers[2].output  # lstm_1\n",
        "  encoder_states = [state_h_enc, state_c_enc]\n",
        "  encoder_model = keras.Model(encoder_inputs, encoder_states)\n",
        "\n",
        "  decoder_inputs = model.input[1]  # input_2\n",
        "  decoder_state_input_h = keras.Input(shape=(latent_dim,))\n",
        "  decoder_state_input_c = keras.Input(shape=(latent_dim,))\n",
        "  decoder_states_inputs = [decoder_state_input_h, decoder_state_input_c]\n",
        "  decoder_lstm = model.layers[3]\n",
        "  decoder_outputs, state_h_dec, state_c_dec = decoder_lstm(\n",
        "      decoder_inputs, initial_state=decoder_states_inputs\n",
        "  )\n",
        "  decoder_states = [state_h_dec, state_c_dec]\n",
        "  decoder_dense = model.layers[4]\n",
        "  decoder_outputs = decoder_dense(decoder_outputs)\n",
        "  decoder_model = keras.Model(\n",
        "      [decoder_inputs] + decoder_states_inputs, [decoder_outputs] + decoder_states\n",
        "  )\n",
        "\n",
        "  # Reverse-lookup token index to decode sequences back to\n",
        "  # something readable.\n",
        "  reverse_input_char_index = dict((i, char) for char, i in input_token_index.items())\n",
        "  reverse_target_char_index = dict((i, char) for char, i in target_token_index.items())"
      ],
      "execution_count": null,
      "outputs": []
    },
    {
      "cell_type": "code",
      "metadata": {
        "id": "s2O3IcN7fwJC"
      },
      "source": [
        "n = len(input_texts)\n",
        "sentence_scores = list()\n",
        "decoded_sentences = list(list())\n",
        "target_sentences = list(list(list()))\n",
        "\n",
        "\n",
        "for seq_index in range(n):\n",
        "    # Take one sequence (part of the training set)\n",
        "    # for trying out decoding.\n",
        "    input_seq = encoder_input_data[seq_index : seq_index + 1]\n",
        "    decoded_sentence = decode_sequence(input_seq)\n",
        "\n",
        "    # sentence score\n",
        "    senetence_scores.add(sentence_bleu([[target_texts[seq_index]]], [decoded_sentence]))\n",
        "\n",
        "    #corpus score\n",
        "    target_sentences.add([[target_texts[seq_index]]])\n",
        "    decoded_sentences.add([decoded_sentence])\n",
        "\n",
        "    print(\"-\")\n",
        "    print(\"Input sentence:\", input_texts[seq_index])\n",
        "    print(\"Target sentence:\", target_texts[seq_index])\n",
        "    print(\"Decoded sentence:\", decoded_sentence)\n",
        "\n",
        "corpus_bleu(target_sentences, decoded_sentences)"
      ],
      "execution_count": null,
      "outputs": []
    },
    {
      "cell_type": "markdown",
      "source": [
        "### Graph Plot"
      ],
      "metadata": {
        "id": "EqkTccHNQ3Pb"
      }
    },
    {
      "cell_type": "code",
      "source": [
        "# x axis values\n",
        "x = [i in for i in range(len(senetence_scores))]\n",
        "# corresponding y axis values\n",
        "y = sentence_scores\n",
        " \n",
        "# plotting the points\n",
        "plt.plot(x, y)\n",
        " \n",
        "# naming the x axis\n",
        "plt.xlabel('Sentence Indices')\n",
        "# naming the y axis\n",
        "plt.ylabel('Sentence BLEU Score')\n",
        " \n",
        "# giving a title to my graph\n",
        "plt.title('Sentence BLEU Scores for Tests Data')\n",
        " \n",
        "# function to show the plot\n",
        "plt.show()"
      ],
      "metadata": {
        "id": "RE2z2zrlQ4xY"
      },
      "execution_count": null,
      "outputs": []
    }
  ]
}