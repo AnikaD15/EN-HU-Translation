{
  "nbformat": 4,
  "nbformat_minor": 0,
  "metadata": {
    "colab": {
      "name": "milestone2.ipynb",
      "provenance": [],
      "collapsed_sections": [],
      "mount_file_id": "https://github.com/AnikaD15/EN-HU-Translation/blob/main/milestone3.ipynb",
      "authorship_tag": "ABX9TyNEkNyPHWPHsoLAVPCg0WcJ",
      "include_colab_link": true
    },
    "kernelspec": {
      "display_name": "Python 3",
      "name": "python3"
    },
    "language_info": {
      "name": "python"
    },
    "accelerator": "GPU"
  },
  "cells": [
    {
      "cell_type": "markdown",
      "metadata": {
        "id": "view-in-github",
        "colab_type": "text"
      },
      "source": [
        "<a href=\"https://colab.research.google.com/github/AnikaD15/EN-HU-Translation/blob/main/milestone3.ipynb\" target=\"_parent\"><img src=\"https://colab.research.google.com/assets/colab-badge.svg\" alt=\"Open In Colab\"/></a>"
      ]
    },
    {
      "cell_type": "code",
      "metadata": {
        "id": "UGMBEXTfhJFd"
      },
      "source": [
        "import numpy as np\n",
        "import tensorflow as tf\n",
        "from tensorflow import keras\n",
        "from tensorflow.keras.callbacks import EarlyStopping\n",
        "from nltk.translate.bleu_score import corpus_bleu\n",
        "from nltk.translate.bleu_score import sentence_bleu\n",
        "import pandas as pd"
      ],
      "execution_count": 1,
      "outputs": []
    },
    {
      "cell_type": "code",
      "metadata": {
        "id": "emOrdz_9hvkr"
      },
      "source": [
        "## Config \n",
        "batch_size = 64  # Batch size for training.\n",
        "epochs = 100  # Number of epochs to train for.\n",
        "latent_dim = 256  # Latent dimensionality of the encoding space.\n",
        "num_samples = 10000  # Number of samples to train on.\n",
        "# Path to the data txt file on disk.\n",
        "base_path = \"/content/drive/MyDrive/DeepLearning/\"\n",
        "data_path1 = base_path + \"hun1.txt\"\n",
        "data_path2 = base_path + \"hun2.tsv\""
      ],
      "execution_count": 2,
      "outputs": []
    },
    {
      "cell_type": "markdown",
      "metadata": {
        "id": "c_VN1BTmPytY"
      },
      "source": [
        "# Functions"
      ]
    },
    {
      "cell_type": "code",
      "metadata": {
        "id": "UUPMHdkTP1HY"
      },
      "source": [
        "def getLines(data_path):\n",
        "  with open(data_path, \"r\", encoding=\"utf-8\") as f:\n",
        "    lines = f.read().split(\"\\n\")\n",
        "    new_lines = list()\n",
        "\n",
        "    # initializing punctuations string\n",
        "    punc = '''!()-[]{};:'\"\\,<>./?@#$%^&*_~'''\n",
        "\n",
        "    # Removing punctuations in string\n",
        "    # Using loop + punctuation string\n",
        "    for line in lines:\n",
        "      for ele in line:\n",
        "          if ele in punc:\n",
        "              line = line.replace(ele, \"\")\n",
        "      new_lines.append(line)\n",
        "\n",
        "  return new_lines"
      ],
      "execution_count": 28,
      "outputs": []
    },
    {
      "cell_type": "code",
      "metadata": {
        "id": "G-Zu7rYNQJcG"
      },
      "source": [
        "def getTextAndChars(lines):\n",
        "  input_texts = []\n",
        "  target_texts = []\n",
        "  input_characters = set()\n",
        "  target_characters = set()\n",
        "\n",
        "  for line in lines[: min(num_samples, len(lines) - 1)]:\n",
        "    # input_text, target_text, _ = line.split(\"\\t\")\n",
        "    target_text, input_text, _ = line.split(\"\\t\")\n",
        "    # We use \"tab\" as the \"start sequence\" character\n",
        "    # for the targets, and \"\\n\" as \"end sequence\" character.\n",
        "    target_text = \"\\t\" + target_text + \"\\n\"\n",
        "    input_texts.append(input_text)\n",
        "    target_texts.append(target_text)\n",
        "\n",
        "    for char in input_text:\n",
        "        if char not in input_characters:\n",
        "            input_characters.add(char)\n",
        "\n",
        "    for char in target_text:\n",
        "        if char not in target_characters:\n",
        "            target_characters.add(char)\n",
        "\n",
        "  input_characters = sorted(list(input_characters))\n",
        "  target_characters = sorted(list(target_characters)) \n",
        "\n",
        "  return input_texts, target_texts, input_characters, target_characters \n",
        "\n"
      ],
      "execution_count": 4,
      "outputs": []
    },
    {
      "cell_type": "code",
      "metadata": {
        "id": "BH53RsOOQ63h"
      },
      "source": [
        "def numTokens(charSet):\n",
        "  return len(charSet)"
      ],
      "execution_count": 5,
      "outputs": []
    },
    {
      "cell_type": "code",
      "metadata": {
        "id": "FoGsWg2nRdHC"
      },
      "source": [
        "def maxSeqLength(text):\n",
        "  return max([len(txt) for txt in text])"
      ],
      "execution_count": 6,
      "outputs": []
    },
    {
      "cell_type": "code",
      "metadata": {
        "id": "U-D9-S42R1hy"
      },
      "source": [
        "def makeTokenIndex(charSet):\n",
        "  return dict([(char, i) for i, char in enumerate(charSet)])"
      ],
      "execution_count": 7,
      "outputs": []
    },
    {
      "cell_type": "code",
      "metadata": {
        "id": "yqIG0zwoSOss"
      },
      "source": [
        "def setInputAndTargetData(input_text, target_text, input_token_index, target_token_index):\n",
        "  encoder_input_data = np.zeros(\n",
        "      (len(input_text), max_encoder_seq_length, num_encoder_tokens), dtype=\"float32\"\n",
        "  )\n",
        "  decoder_input_data = np.zeros(\n",
        "      (len(input_text), max_decoder_seq_length, num_decoder_tokens), dtype=\"float32\"\n",
        "  )\n",
        "  decoder_target_data = np.zeros(\n",
        "      (len(input_text), max_decoder_seq_length, num_decoder_tokens), dtype=\"float32\"\n",
        "  )\n",
        "\n",
        "  \n",
        "  for i, (input_text, target_text) in enumerate(zip(input_text, target_text)):\n",
        "    for t, char in enumerate(input_text):\n",
        "        encoder_input_data[i, t, input_token_index[char]] = 1.0\n",
        "\n",
        "    encoder_input_data[i, t + 1 :, input_token_index[\" \"]] = 1.0\n",
        "    for t, char in enumerate(target_text):\n",
        "        # decoder_target_data is ahead of decoder_input_data by one timestep\n",
        "        decoder_input_data[i, t, target_token_index[char]] = 1.0\n",
        "        if t > 0:\n",
        "            # decoder_target_data will be ahead by one timestep\n",
        "            # and will not include the start character.\n",
        "            decoder_target_data[i, t - 1, target_token_index[char]] = 1.0\n",
        "    decoder_input_data[i, t + 1 :, target_token_index[\" \"]] = 1.0\n",
        "    decoder_target_data[i, t:, target_token_index[\" \"]] = 1.0\n",
        "\n",
        "  return encoder_input_data, decoder_input_data, decoder_target_data"
      ],
      "execution_count": 8,
      "outputs": []
    },
    {
      "cell_type": "code",
      "metadata": {
        "id": "j7O7HqEwj7LM"
      },
      "source": [
        "# Define an input sequence and process it.\n",
        "def getInputsAndOutputs(num_encoder_tokens, num_decoder_tokens, latent_dim=latent_dim):\n",
        "  encoder_inputs = keras.Input(shape=(None, num_encoder_tokens))\n",
        "  encoder = keras.layers.LSTM(latent_dim, return_state=True)\n",
        "  encoder_outputs, state_h, state_c = encoder(encoder_inputs)\n",
        "\n",
        "  # We discard `encoder_outputs` and only keep the states.\n",
        "  encoder_states = [state_h, state_c]\n",
        "\n",
        "  # Set up the decoder, using `encoder_states` as initial state.\n",
        "  decoder_inputs = keras.Input(shape=(None, num_decoder_tokens))\n",
        "\n",
        "  # We set up our decoder to return full output sequences,\n",
        "  # and to return internal states as well. We don't use the\n",
        "  # return states in the training model, but we will use them in inference.\n",
        "  decoder_lstm = keras.layers.LSTM(latent_dim, return_sequences=True, return_state=True)\n",
        "  decoder_outputs, _, _ = decoder_lstm(decoder_inputs, initial_state=encoder_states)\n",
        "  decoder_dense = keras.layers.Dense(num_decoder_tokens, activation=\"softmax\")\n",
        "  decoder_outputs = decoder_dense(decoder_outputs)\n",
        "\n",
        "  return encoder_inputs, decoder_inputs, decoder_outputs"
      ],
      "execution_count": 9,
      "outputs": []
    },
    {
      "cell_type": "code",
      "metadata": {
        "id": "SSZq_5zkYFX-"
      },
      "source": [
        "def splitData(data, valid_split, test_split):\n",
        "  # array index boundary\n",
        "  v_point = int(len(data)*(1-valid_split-test_split))\n",
        "  t_point = int(len(data)*(1-test_split))\n",
        "\n",
        "  data_train = data[:t_point]\n",
        "  data_valid = data[v_point:t_point]\n",
        "  data_test = data[t_point:]\n",
        "\n",
        "  return data_train, data_valid, data_test"
      ],
      "execution_count": 10,
      "outputs": []
    },
    {
      "cell_type": "code",
      "metadata": {
        "id": "ZB8RhX0HpdV0"
      },
      "source": [
        "def decode_sequence(input_seq):\n",
        "    # Encode the input as state vectors.\n",
        "    states_value = encoder_model.predict(input_seq)\n",
        "\n",
        "    # Generate empty target sequence of length 1.\n",
        "    target_seq = np.zeros((1, 1, num_decoder_tokens))\n",
        "    # Populate the first character of target sequence with the start character.\n",
        "    target_seq[0, 0, target_token_index[\"\\t\"]] = 1.0\n",
        "\n",
        "    # Sampling loop for a batch of sequences\n",
        "    # (to simplify, here we assume a batch of size 1).\n",
        "    stop_condition = False\n",
        "    decoded_sentence = \"\"\n",
        "    while not stop_condition:\n",
        "        output_tokens, h, c = decoder_model.predict([target_seq] + states_value)\n",
        "\n",
        "        # Sample a token\n",
        "        sampled_token_index = np.argmax(output_tokens[0, -1, :])\n",
        "        sampled_char = reverse_target_char_index[sampled_token_index]\n",
        "        decoded_sentence += sampled_char\n",
        "\n",
        "        # Exit condition: either hit max length\n",
        "        # or find stop character.\n",
        "        if sampled_char == \"\\n\" or len(decoded_sentence) > max_decoder_seq_length:\n",
        "            stop_condition = True\n",
        "\n",
        "        # Update the target sequence (of length 1).\n",
        "        target_seq = np.zeros((1, 1, num_decoder_tokens))\n",
        "        target_seq[0, 0, sampled_token_index] = 1.0\n",
        "\n",
        "        # Update states\n",
        "        states_value = [h, c]\n",
        "        \n",
        "    return decoded_sentence"
      ],
      "execution_count": 11,
      "outputs": []
    },
    {
      "cell_type": "code",
      "source": [
        "def duplicates(lst, item):\n",
        "  return [i for i, x in enumerate(lst) if x == item]"
      ],
      "metadata": {
        "id": "yx_O0Zly_Hl-"
      },
      "execution_count": 29,
      "outputs": []
    },
    {
      "cell_type": "markdown",
      "metadata": {
        "id": "tn_4qmSN_asO"
      },
      "source": [
        "## Prepare Data"
      ]
    },
    {
      "cell_type": "code",
      "metadata": {
        "colab": {
          "base_uri": "https://localhost:8080/"
        },
        "id": "Zv2Zkpyxh5J9",
        "outputId": "b53e00f7-7a65-4849-c1fa-a3e1fcc0e225"
      },
      "source": [
        "# Vectorize the data.\n",
        "lines1 = getLines(data_path1)\n",
        "lines2 = getLines(data_path2)\n",
        "\n",
        "lines = lines1+lines2\n",
        "\n",
        "input_text, target_text, input_characters, target_characters = getTextAndChars(lines)\n",
        "\n",
        "num_encoder_tokens = numTokens(input_characters)\n",
        "num_decoder_tokens = numTokens(target_characters)\n",
        "max_encoder_seq_length = maxSeqLength(input_text)\n",
        "max_decoder_seq_length = maxSeqLength(target_text)\n",
        "\n",
        "print(\"Number of samples:\", len(input_text))\n",
        "print(\"Number of unique input tokens:\", num_encoder_tokens)\n",
        "print(\"Number of unique output tokens:\", num_decoder_tokens)\n",
        "print(\"Max sequence length for inputs:\", max_encoder_seq_length)\n",
        "print(\"Max sequence length for outputs:\", max_decoder_seq_length)\n",
        "\n",
        "# character's lexographical order\n",
        "input_token_index = makeTokenIndex(input_characters) \n",
        "target_token_index = makeTokenIndex(target_characters)\n",
        "\n",
        "# encoder_input_data, decoder_input_data, decoder_target_data = setInputAndTargetData(input_text, target_text, input_token_index, target_token_index)\n",
        "                                                                                    \n",
        "encoder_inputs, decoder_inputs, decoder_outputs = getInputsAndOutputs(num_encoder_tokens, num_decoder_tokens)                                                                          \n"
      ],
      "execution_count": 12,
      "outputs": [
        {
          "output_type": "stream",
          "name": "stdout",
          "text": [
            "Number of samples: 10000\n",
            "Number of unique input tokens: 81\n",
            "Number of unique output tokens: 72\n",
            "Max sequence length for inputs: 54\n",
            "Max sequence length for outputs: 17\n"
          ]
        }
      ]
    },
    {
      "cell_type": "markdown",
      "source": [
        "## Split Data"
      ],
      "metadata": {
        "id": "upoHKugRTHyK"
      }
    },
    {
      "cell_type": "code",
      "source": [
        "# training, validation, test data\n",
        "valid_split = 0.2\n",
        "test_split  = 0.1\n",
        "\n",
        "input_text_train, input_text_valid, input_text_test = splitData(input_text, valid_split, test_split)\n",
        "target_text_train, target_text_valid, target_text_test = splitData(target_text, valid_split, test_split)"
      ],
      "metadata": {
        "id": "qohTgHGjTRx9"
      },
      "execution_count": 13,
      "outputs": []
    },
    {
      "cell_type": "markdown",
      "metadata": {
        "id": "CfYXsKzGFqt9"
      },
      "source": [
        "## Define Model"
      ]
    },
    {
      "cell_type": "code",
      "metadata": {
        "id": "_SfoIpUYkyDn"
      },
      "source": [
        "# Define the model that will turn \n",
        "# `encoder_input_data` & `decoder_input_data` into `decoder_target_data`\n",
        "model = keras.Model([encoder_inputs, decoder_inputs], decoder_outputs)"
      ],
      "execution_count": 14,
      "outputs": []
    },
    {
      "cell_type": "markdown",
      "metadata": {
        "id": "lQdAqvrYGhBu"
      },
      "source": [
        "## Train Model"
      ]
    },
    {
      "cell_type": "code",
      "metadata": {
        "id": "o2_L2KVYI6kJ"
      },
      "source": [
        "# training, validation, test encoder/decoder data\n",
        "encoder_input_data_train, decoder_input_data_train, decoder_target_data_train = setInputAndTargetData(input_text_train, target_text_train, input_token_index, target_token_index)\n",
        "encoder_input_data_valid, decoder_input_data_valid, decoder_target_data_valid = setInputAndTargetData(input_text_valid, target_text_valid, input_token_index, target_token_index)\n",
        "encoder_input_data_test, decoder_input_data_test, decoder_target_data_test = setInputAndTargetData(input_text_test, target_text_test, input_token_index, target_token_index)"
      ],
      "execution_count": 15,
      "outputs": []
    },
    {
      "cell_type": "code",
      "metadata": {
        "id": "J99m4f7TpAeX"
      },
      "source": [
        "model.compile(\n",
        "    optimizer=\"rmsprop\", loss=\"categorical_crossentropy\", metrics=[\"accuracy\"]\n",
        ")"
      ],
      "execution_count": 16,
      "outputs": []
    },
    {
      "cell_type": "code",
      "metadata": {
        "id": "SaFvxKaAHrRP"
      },
      "source": [
        "es = EarlyStopping(monitor='val_accuracy', \n",
        "                   patience=20, verbose=1,\n",
        "                   restore_best_weights=True)"
      ],
      "execution_count": 17,
      "outputs": []
    },
    {
      "cell_type": "code",
      "metadata": {
        "id": "Yi13jaVCH5Dq",
        "colab": {
          "base_uri": "https://localhost:8080/"
        },
        "outputId": "0f6d5516-ddfa-47b9-cb57-95d7df2cb9f6"
      },
      "source": [
        "model.fit(\n",
        "    [encoder_input_data_train, decoder_input_data_train],\n",
        "    decoder_target_data_train,\n",
        "    batch_size=batch_size,\n",
        "    callbacks=[es],\n",
        "    epochs=epochs,\n",
        "    validation_data = ([encoder_input_data_valid, decoder_input_data_valid],\n",
        "    decoder_target_data_valid)\n",
        ")\n",
        "# Save model\n",
        "model.save(base_path + \"model\")"
      ],
      "execution_count": 18,
      "outputs": [
        {
          "output_type": "stream",
          "name": "stdout",
          "text": [
            "Epoch 1/100\n",
            "141/141 [==============================] - 13s 41ms/step - loss: 2.4193 - accuracy: 0.3588 - val_loss: 2.5268 - val_accuracy: 0.3121\n",
            "Epoch 2/100\n",
            "141/141 [==============================] - 4s 32ms/step - loss: 1.8510 - accuracy: 0.4916 - val_loss: 2.0185 - val_accuracy: 0.4132\n",
            "Epoch 3/100\n",
            "141/141 [==============================] - 5s 32ms/step - loss: 1.5789 - accuracy: 0.5423 - val_loss: 1.7571 - val_accuracy: 0.4871\n",
            "Epoch 4/100\n",
            "141/141 [==============================] - 4s 32ms/step - loss: 1.4538 - accuracy: 0.5745 - val_loss: 1.6585 - val_accuracy: 0.5099\n",
            "Epoch 5/100\n",
            "141/141 [==============================] - 4s 32ms/step - loss: 1.3595 - accuracy: 0.6013 - val_loss: 1.5661 - val_accuracy: 0.5299\n",
            "Epoch 6/100\n",
            "141/141 [==============================] - 4s 32ms/step - loss: 1.2881 - accuracy: 0.6206 - val_loss: 1.5480 - val_accuracy: 0.5391\n",
            "Epoch 7/100\n",
            "141/141 [==============================] - 4s 32ms/step - loss: 1.2266 - accuracy: 0.6371 - val_loss: 1.4434 - val_accuracy: 0.5669\n",
            "Epoch 8/100\n",
            "141/141 [==============================] - 4s 32ms/step - loss: 1.1740 - accuracy: 0.6524 - val_loss: 1.3687 - val_accuracy: 0.5838\n",
            "Epoch 9/100\n",
            "141/141 [==============================] - 4s 32ms/step - loss: 1.1446 - accuracy: 0.6601 - val_loss: 1.3259 - val_accuracy: 0.5973\n",
            "Epoch 10/100\n",
            "141/141 [==============================] - 4s 32ms/step - loss: 1.1383 - accuracy: 0.6628 - val_loss: 1.2870 - val_accuracy: 0.6095\n",
            "Epoch 11/100\n",
            "141/141 [==============================] - 4s 32ms/step - loss: 1.1025 - accuracy: 0.6712 - val_loss: 1.2482 - val_accuracy: 0.6194\n",
            "Epoch 12/100\n",
            "141/141 [==============================] - 4s 32ms/step - loss: 1.0432 - accuracy: 0.6868 - val_loss: 1.1741 - val_accuracy: 0.6469\n",
            "Epoch 13/100\n",
            "141/141 [==============================] - 4s 32ms/step - loss: 1.0094 - accuracy: 0.6963 - val_loss: 1.1501 - val_accuracy: 0.6524\n",
            "Epoch 14/100\n",
            "141/141 [==============================] - 4s 32ms/step - loss: 0.9812 - accuracy: 0.7041 - val_loss: 1.1255 - val_accuracy: 0.6580\n",
            "Epoch 15/100\n",
            "141/141 [==============================] - 4s 32ms/step - loss: 0.9463 - accuracy: 0.7132 - val_loss: 1.0628 - val_accuracy: 0.6763\n",
            "Epoch 16/100\n",
            "141/141 [==============================] - 4s 32ms/step - loss: 0.9130 - accuracy: 0.7236 - val_loss: 1.0291 - val_accuracy: 0.6897\n",
            "Epoch 17/100\n",
            "141/141 [==============================] - 4s 32ms/step - loss: 0.8837 - accuracy: 0.7323 - val_loss: 1.0028 - val_accuracy: 0.6932\n",
            "Epoch 18/100\n",
            "141/141 [==============================] - 4s 32ms/step - loss: 0.8567 - accuracy: 0.7400 - val_loss: 1.0020 - val_accuracy: 0.6898\n",
            "Epoch 19/100\n",
            "141/141 [==============================] - 4s 32ms/step - loss: 0.8297 - accuracy: 0.7486 - val_loss: 0.9378 - val_accuracy: 0.7156\n",
            "Epoch 20/100\n",
            "141/141 [==============================] - 5s 32ms/step - loss: 0.8045 - accuracy: 0.7553 - val_loss: 0.8878 - val_accuracy: 0.7332\n",
            "Epoch 21/100\n",
            "141/141 [==============================] - 5s 32ms/step - loss: 0.7806 - accuracy: 0.7624 - val_loss: 0.8715 - val_accuracy: 0.7348\n",
            "Epoch 22/100\n",
            "141/141 [==============================] - 5s 32ms/step - loss: 0.7578 - accuracy: 0.7691 - val_loss: 0.8404 - val_accuracy: 0.7421\n",
            "Epoch 23/100\n",
            "141/141 [==============================] - 5s 32ms/step - loss: 0.7345 - accuracy: 0.7758 - val_loss: 0.7992 - val_accuracy: 0.7606\n",
            "Epoch 24/100\n",
            "141/141 [==============================] - 5s 32ms/step - loss: 0.7117 - accuracy: 0.7831 - val_loss: 0.7909 - val_accuracy: 0.7622\n",
            "Epoch 25/100\n",
            "141/141 [==============================] - 4s 32ms/step - loss: 0.6913 - accuracy: 0.7891 - val_loss: 0.7560 - val_accuracy: 0.7714\n",
            "Epoch 26/100\n",
            "141/141 [==============================] - 5s 32ms/step - loss: 0.6710 - accuracy: 0.7959 - val_loss: 0.7297 - val_accuracy: 0.7792\n",
            "Epoch 27/100\n",
            "141/141 [==============================] - 4s 32ms/step - loss: 0.6527 - accuracy: 0.8013 - val_loss: 0.7175 - val_accuracy: 0.7840\n",
            "Epoch 28/100\n",
            "141/141 [==============================] - 5s 32ms/step - loss: 0.6349 - accuracy: 0.8067 - val_loss: 0.6923 - val_accuracy: 0.7905\n",
            "Epoch 29/100\n",
            "141/141 [==============================] - 4s 32ms/step - loss: 0.6175 - accuracy: 0.8117 - val_loss: 0.6676 - val_accuracy: 0.7999\n",
            "Epoch 30/100\n",
            "141/141 [==============================] - 4s 32ms/step - loss: 0.6003 - accuracy: 0.8169 - val_loss: 0.6474 - val_accuracy: 0.8042\n",
            "Epoch 31/100\n",
            "141/141 [==============================] - 5s 32ms/step - loss: 0.5841 - accuracy: 0.8211 - val_loss: 0.6276 - val_accuracy: 0.8117\n",
            "Epoch 32/100\n",
            "141/141 [==============================] - 5s 32ms/step - loss: 0.5699 - accuracy: 0.8263 - val_loss: 0.6071 - val_accuracy: 0.8193\n",
            "Epoch 33/100\n",
            "141/141 [==============================] - 4s 32ms/step - loss: 0.5543 - accuracy: 0.8306 - val_loss: 0.5915 - val_accuracy: 0.8257\n",
            "Epoch 34/100\n",
            "141/141 [==============================] - 4s 32ms/step - loss: 0.5391 - accuracy: 0.8351 - val_loss: 0.5713 - val_accuracy: 0.8299\n",
            "Epoch 35/100\n",
            "141/141 [==============================] - 4s 32ms/step - loss: 0.5257 - accuracy: 0.8387 - val_loss: 0.5648 - val_accuracy: 0.8294\n",
            "Epoch 36/100\n",
            "141/141 [==============================] - 4s 32ms/step - loss: 0.5124 - accuracy: 0.8431 - val_loss: 0.5339 - val_accuracy: 0.8417\n",
            "Epoch 37/100\n",
            "141/141 [==============================] - 4s 32ms/step - loss: 0.4987 - accuracy: 0.8473 - val_loss: 0.5213 - val_accuracy: 0.8465\n",
            "Epoch 38/100\n",
            "141/141 [==============================] - 4s 32ms/step - loss: 0.4873 - accuracy: 0.8508 - val_loss: 0.5117 - val_accuracy: 0.8493\n",
            "Epoch 39/100\n",
            "141/141 [==============================] - 4s 31ms/step - loss: 0.4748 - accuracy: 0.8550 - val_loss: 0.4965 - val_accuracy: 0.8496\n",
            "Epoch 40/100\n",
            "141/141 [==============================] - 4s 32ms/step - loss: 0.4629 - accuracy: 0.8583 - val_loss: 0.4845 - val_accuracy: 0.8520\n",
            "Epoch 41/100\n",
            "141/141 [==============================] - 4s 32ms/step - loss: 0.4510 - accuracy: 0.8615 - val_loss: 0.4830 - val_accuracy: 0.8537\n",
            "Epoch 42/100\n",
            "141/141 [==============================] - 5s 34ms/step - loss: 0.4398 - accuracy: 0.8645 - val_loss: 0.4433 - val_accuracy: 0.8689\n",
            "Epoch 43/100\n",
            "141/141 [==============================] - 4s 32ms/step - loss: 0.4282 - accuracy: 0.8689 - val_loss: 0.4487 - val_accuracy: 0.8667\n",
            "Epoch 44/100\n",
            "141/141 [==============================] - 4s 32ms/step - loss: 0.4184 - accuracy: 0.8718 - val_loss: 0.4250 - val_accuracy: 0.8721\n",
            "Epoch 45/100\n",
            "141/141 [==============================] - 4s 32ms/step - loss: 0.4074 - accuracy: 0.8748 - val_loss: 0.4159 - val_accuracy: 0.8741\n",
            "Epoch 46/100\n",
            "141/141 [==============================] - 4s 32ms/step - loss: 0.3978 - accuracy: 0.8781 - val_loss: 0.3986 - val_accuracy: 0.8815\n",
            "Epoch 47/100\n",
            "141/141 [==============================] - 5s 32ms/step - loss: 0.3878 - accuracy: 0.8812 - val_loss: 0.3874 - val_accuracy: 0.8854\n",
            "Epoch 48/100\n",
            "141/141 [==============================] - 4s 31ms/step - loss: 0.3775 - accuracy: 0.8841 - val_loss: 0.3739 - val_accuracy: 0.8889\n",
            "Epoch 49/100\n",
            "141/141 [==============================] - 4s 32ms/step - loss: 0.3687 - accuracy: 0.8865 - val_loss: 0.3709 - val_accuracy: 0.8901\n",
            "Epoch 50/100\n",
            "141/141 [==============================] - 5s 32ms/step - loss: 0.3596 - accuracy: 0.8885 - val_loss: 0.3557 - val_accuracy: 0.8939\n",
            "Epoch 51/100\n",
            "141/141 [==============================] - 4s 32ms/step - loss: 0.3497 - accuracy: 0.8927 - val_loss: 0.3422 - val_accuracy: 0.8979\n",
            "Epoch 52/100\n",
            "141/141 [==============================] - 4s 32ms/step - loss: 0.3416 - accuracy: 0.8948 - val_loss: 0.3421 - val_accuracy: 0.8969\n",
            "Epoch 53/100\n",
            "141/141 [==============================] - 5s 32ms/step - loss: 0.3332 - accuracy: 0.8970 - val_loss: 0.3217 - val_accuracy: 0.9040\n",
            "Epoch 54/100\n",
            "141/141 [==============================] - 5s 32ms/step - loss: 0.3242 - accuracy: 0.9003 - val_loss: 0.3296 - val_accuracy: 0.9011\n",
            "Epoch 55/100\n",
            "141/141 [==============================] - 4s 32ms/step - loss: 0.3160 - accuracy: 0.9028 - val_loss: 0.3170 - val_accuracy: 0.9041\n",
            "Epoch 56/100\n",
            "141/141 [==============================] - 4s 32ms/step - loss: 0.3077 - accuracy: 0.9051 - val_loss: 0.3018 - val_accuracy: 0.9099\n",
            "Epoch 57/100\n",
            "141/141 [==============================] - 4s 32ms/step - loss: 0.3000 - accuracy: 0.9080 - val_loss: 0.2936 - val_accuracy: 0.9124\n",
            "Epoch 58/100\n",
            "141/141 [==============================] - 5s 32ms/step - loss: 0.2926 - accuracy: 0.9099 - val_loss: 0.2844 - val_accuracy: 0.9156\n",
            "Epoch 59/100\n",
            "141/141 [==============================] - 5s 32ms/step - loss: 0.2846 - accuracy: 0.9122 - val_loss: 0.2785 - val_accuracy: 0.9181\n",
            "Epoch 60/100\n",
            "141/141 [==============================] - 5s 33ms/step - loss: 0.2781 - accuracy: 0.9147 - val_loss: 0.2715 - val_accuracy: 0.9195\n",
            "Epoch 61/100\n",
            "141/141 [==============================] - 5s 32ms/step - loss: 0.2697 - accuracy: 0.9173 - val_loss: 0.2572 - val_accuracy: 0.9233\n",
            "Epoch 62/100\n",
            "141/141 [==============================] - 5s 32ms/step - loss: 0.2629 - accuracy: 0.9196 - val_loss: 0.2564 - val_accuracy: 0.9227\n",
            "Epoch 63/100\n",
            "141/141 [==============================] - 5s 33ms/step - loss: 0.2566 - accuracy: 0.9216 - val_loss: 0.2541 - val_accuracy: 0.9238\n",
            "Epoch 64/100\n",
            "141/141 [==============================] - 5s 33ms/step - loss: 0.2493 - accuracy: 0.9238 - val_loss: 0.2399 - val_accuracy: 0.9294\n",
            "Epoch 65/100\n",
            "141/141 [==============================] - 5s 32ms/step - loss: 0.2421 - accuracy: 0.9261 - val_loss: 0.2244 - val_accuracy: 0.9336\n",
            "Epoch 66/100\n",
            "141/141 [==============================] - 5s 32ms/step - loss: 0.2358 - accuracy: 0.9282 - val_loss: 0.2212 - val_accuracy: 0.9360\n",
            "Epoch 67/100\n",
            "141/141 [==============================] - 5s 32ms/step - loss: 0.2302 - accuracy: 0.9294 - val_loss: 0.2126 - val_accuracy: 0.9392\n",
            "Epoch 68/100\n",
            "141/141 [==============================] - 5s 32ms/step - loss: 0.2242 - accuracy: 0.9319 - val_loss: 0.2094 - val_accuracy: 0.9390\n",
            "Epoch 69/100\n",
            "141/141 [==============================] - 5s 32ms/step - loss: 0.2173 - accuracy: 0.9337 - val_loss: 0.2018 - val_accuracy: 0.9422\n",
            "Epoch 70/100\n",
            "141/141 [==============================] - 5s 32ms/step - loss: 0.2108 - accuracy: 0.9356 - val_loss: 0.1988 - val_accuracy: 0.9427\n",
            "Epoch 71/100\n",
            "141/141 [==============================] - 5s 33ms/step - loss: 0.2052 - accuracy: 0.9378 - val_loss: 0.1871 - val_accuracy: 0.9463\n",
            "Epoch 72/100\n",
            "141/141 [==============================] - 5s 32ms/step - loss: 0.1999 - accuracy: 0.9392 - val_loss: 0.1880 - val_accuracy: 0.9452\n",
            "Epoch 73/100\n",
            "141/141 [==============================] - 5s 32ms/step - loss: 0.1948 - accuracy: 0.9414 - val_loss: 0.1733 - val_accuracy: 0.9511\n",
            "Epoch 74/100\n",
            "141/141 [==============================] - 4s 32ms/step - loss: 0.1884 - accuracy: 0.9429 - val_loss: 0.1833 - val_accuracy: 0.9452\n",
            "Epoch 75/100\n",
            "141/141 [==============================] - 5s 32ms/step - loss: 0.1834 - accuracy: 0.9444 - val_loss: 0.1710 - val_accuracy: 0.9504\n",
            "Epoch 76/100\n",
            "141/141 [==============================] - 4s 32ms/step - loss: 0.1781 - accuracy: 0.9466 - val_loss: 0.1594 - val_accuracy: 0.9535\n",
            "Epoch 77/100\n",
            "141/141 [==============================] - 5s 32ms/step - loss: 0.1736 - accuracy: 0.9474 - val_loss: 0.1618 - val_accuracy: 0.9530\n",
            "Epoch 78/100\n",
            "141/141 [==============================] - 5s 32ms/step - loss: 0.1678 - accuracy: 0.9497 - val_loss: 0.1553 - val_accuracy: 0.9560\n",
            "Epoch 79/100\n",
            "141/141 [==============================] - 5s 32ms/step - loss: 0.1637 - accuracy: 0.9505 - val_loss: 0.1549 - val_accuracy: 0.9559\n",
            "Epoch 80/100\n",
            "141/141 [==============================] - 5s 32ms/step - loss: 0.1593 - accuracy: 0.9518 - val_loss: 0.1417 - val_accuracy: 0.9603\n",
            "Epoch 81/100\n",
            "141/141 [==============================] - 5s 32ms/step - loss: 0.1551 - accuracy: 0.9533 - val_loss: 0.1448 - val_accuracy: 0.9589\n",
            "Epoch 82/100\n",
            "141/141 [==============================] - 5s 32ms/step - loss: 0.1513 - accuracy: 0.9546 - val_loss: 0.1357 - val_accuracy: 0.9614\n",
            "Epoch 83/100\n",
            "141/141 [==============================] - 5s 32ms/step - loss: 0.1447 - accuracy: 0.9566 - val_loss: 0.1408 - val_accuracy: 0.9601\n",
            "Epoch 84/100\n",
            "141/141 [==============================] - 5s 32ms/step - loss: 0.1424 - accuracy: 0.9575 - val_loss: 0.1332 - val_accuracy: 0.9621\n",
            "Epoch 85/100\n",
            "141/141 [==============================] - 5s 32ms/step - loss: 0.1383 - accuracy: 0.9592 - val_loss: 0.1288 - val_accuracy: 0.9643\n",
            "Epoch 86/100\n",
            "141/141 [==============================] - 5s 33ms/step - loss: 0.1353 - accuracy: 0.9596 - val_loss: 0.1172 - val_accuracy: 0.9673\n",
            "Epoch 87/100\n",
            "141/141 [==============================] - 5s 32ms/step - loss: 0.1317 - accuracy: 0.9608 - val_loss: 0.1140 - val_accuracy: 0.9688\n",
            "Epoch 88/100\n",
            "141/141 [==============================] - 5s 32ms/step - loss: 0.1278 - accuracy: 0.9620 - val_loss: 0.1104 - val_accuracy: 0.9701\n",
            "Epoch 89/100\n",
            "141/141 [==============================] - 5s 33ms/step - loss: 0.1242 - accuracy: 0.9637 - val_loss: 0.1136 - val_accuracy: 0.9677\n",
            "Epoch 90/100\n",
            "141/141 [==============================] - 5s 33ms/step - loss: 0.1214 - accuracy: 0.9642 - val_loss: 0.1174 - val_accuracy: 0.9672\n",
            "Epoch 91/100\n",
            "141/141 [==============================] - 5s 33ms/step - loss: 0.1184 - accuracy: 0.9650 - val_loss: 0.1044 - val_accuracy: 0.9715\n",
            "Epoch 92/100\n",
            "141/141 [==============================] - 5s 32ms/step - loss: 0.1152 - accuracy: 0.9657 - val_loss: 0.0979 - val_accuracy: 0.9732\n",
            "Epoch 93/100\n",
            "141/141 [==============================] - 5s 32ms/step - loss: 0.1127 - accuracy: 0.9658 - val_loss: 0.0975 - val_accuracy: 0.9737\n",
            "Epoch 94/100\n",
            "141/141 [==============================] - 5s 32ms/step - loss: 0.1095 - accuracy: 0.9678 - val_loss: 0.0967 - val_accuracy: 0.9731\n",
            "Epoch 95/100\n",
            "141/141 [==============================] - 5s 32ms/step - loss: 0.1070 - accuracy: 0.9683 - val_loss: 0.0948 - val_accuracy: 0.9739\n",
            "Epoch 96/100\n",
            "141/141 [==============================] - 5s 32ms/step - loss: 0.1048 - accuracy: 0.9695 - val_loss: 0.0954 - val_accuracy: 0.9747\n",
            "Epoch 97/100\n",
            "141/141 [==============================] - 5s 32ms/step - loss: 0.1021 - accuracy: 0.9701 - val_loss: 0.0977 - val_accuracy: 0.9726\n",
            "Epoch 98/100\n",
            "141/141 [==============================] - 5s 32ms/step - loss: 0.0989 - accuracy: 0.9710 - val_loss: 0.0871 - val_accuracy: 0.9767\n",
            "Epoch 99/100\n",
            "141/141 [==============================] - 5s 33ms/step - loss: 0.0970 - accuracy: 0.9714 - val_loss: 0.0834 - val_accuracy: 0.9782\n",
            "Epoch 100/100\n",
            "141/141 [==============================] - 5s 32ms/step - loss: 0.0952 - accuracy: 0.9723 - val_loss: 0.0810 - val_accuracy: 0.9787\n"
          ]
        },
        {
          "output_type": "stream",
          "name": "stderr",
          "text": [
            "WARNING:absl:Found untraced functions such as lstm_cell_layer_call_fn, lstm_cell_layer_call_and_return_conditional_losses, lstm_cell_1_layer_call_fn, lstm_cell_1_layer_call_and_return_conditional_losses, lstm_cell_layer_call_fn while saving (showing 5 of 10). These functions will not be directly callable after loading.\n"
          ]
        },
        {
          "output_type": "stream",
          "name": "stdout",
          "text": [
            "INFO:tensorflow:Assets written to: /content/drive/MyDrive/DeepLearning/model/assets\n"
          ]
        },
        {
          "output_type": "stream",
          "name": "stderr",
          "text": [
            "INFO:tensorflow:Assets written to: /content/drive/MyDrive/DeepLearning/model/assets\n",
            "WARNING:absl:<keras.layers.recurrent.LSTMCell object at 0x7f6d23b3bb10> has the same name 'LSTMCell' as a built-in Keras object. Consider renaming <class 'keras.layers.recurrent.LSTMCell'> to avoid naming conflicts when loading with `tf.keras.models.load_model`. If renaming is not possible, pass the object in the `custom_objects` parameter of the load function.\n",
            "WARNING:absl:<keras.layers.recurrent.LSTMCell object at 0x7f6d200547d0> has the same name 'LSTMCell' as a built-in Keras object. Consider renaming <class 'keras.layers.recurrent.LSTMCell'> to avoid naming conflicts when loading with `tf.keras.models.load_model`. If renaming is not possible, pass the object in the `custom_objects` parameter of the load function.\n"
          ]
        }
      ]
    },
    {
      "cell_type": "markdown",
      "metadata": {
        "id": "FQ9nT-_AIQGd"
      },
      "source": [
        "## Evaluate Model"
      ]
    },
    {
      "cell_type": "code",
      "source": [
        "# model = keras.models.load_model(base_path + \"model\")\n",
        "# model.compile(\n",
        "#     optimizer=\"rmsprop\", loss=\"categorical_crossentropy\", metrics=[\"accuracy\"]\n",
        "# )"
      ],
      "metadata": {
        "id": "teiWUYSayFpD"
      },
      "execution_count": 19,
      "outputs": []
    },
    {
      "cell_type": "code",
      "metadata": {
        "id": "dVyJd6wIIIqh",
        "colab": {
          "base_uri": "https://localhost:8080/"
        },
        "outputId": "1455a848-ccdf-4512-951a-58e66cb91015"
      },
      "source": [
        "model.evaluate([encoder_input_data_test, decoder_input_data_test], decoder_target_data_test)"
      ],
      "execution_count": 20,
      "outputs": [
        {
          "output_type": "stream",
          "name": "stdout",
          "text": [
            "32/32 [==============================] - 0s 15ms/step - loss: 2.2626 - accuracy: 0.6428\n"
          ]
        },
        {
          "output_type": "execute_result",
          "data": {
            "text/plain": [
              "[2.2625625133514404, 0.6428235173225403]"
            ]
          },
          "metadata": {},
          "execution_count": 20
        }
      ]
    },
    {
      "cell_type": "markdown",
      "metadata": {
        "id": "abYc26H36Dua"
      },
      "source": [
        ""
      ]
    },
    {
      "cell_type": "code",
      "metadata": {
        "id": "gZIYazoQpM-8"
      },
      "source": [
        "# Define sampling models\n",
        "# Restore the model and construct the encoder and decoder.\n",
        "encoder_inputs = model.input[0]  # input_1\n",
        "encoder_outputs, state_h_enc, state_c_enc = model.layers[2].output  # lstm_1\n",
        "encoder_states = [state_h_enc, state_c_enc]\n",
        "encoder_model = keras.Model(encoder_inputs, encoder_states)\n",
        "\n",
        "decoder_inputs = model.input[1]  # input_2\n",
        "decoder_state_input_h = keras.Input(shape=(latent_dim,))\n",
        "decoder_state_input_c = keras.Input(shape=(latent_dim,))\n",
        "decoder_states_inputs = [decoder_state_input_h, decoder_state_input_c]\n",
        "decoder_lstm = model.layers[3]\n",
        "decoder_outputs, state_h_dec, state_c_dec = decoder_lstm(\n",
        "    decoder_inputs, initial_state=decoder_states_inputs\n",
        ")\n",
        "decoder_states = [state_h_dec, state_c_dec]\n",
        "decoder_dense = model.layers[4]\n",
        "decoder_outputs = decoder_dense(decoder_outputs)\n",
        "decoder_model = keras.Model(\n",
        "    [decoder_inputs] + decoder_states_inputs, [decoder_outputs] + decoder_states\n",
        ")\n",
        "\n",
        "# Reverse-lookup token index to decode sequences back to\n",
        "# something readable.\n",
        "reverse_input_char_index = dict((i, char) for char, i in input_token_index.items())\n",
        "reverse_target_char_index = dict((i, char) for char, i in target_token_index.items())"
      ],
      "execution_count": 21,
      "outputs": []
    },
    {
      "cell_type": "code",
      "source": [
        "corpus_scores = list()\n",
        "dim_list = list()"
      ],
      "metadata": {
        "id": "YiYfl3aqkVEj"
      },
      "execution_count": 22,
      "outputs": []
    },
    {
      "cell_type": "code",
      "metadata": {
        "id": "s2O3IcN7fwJC"
      },
      "source": [
        "n = len(input_text_test)\n",
        "sentence_scores = list()\n",
        "sentence_1gram_scores = list()\n",
        "decoded_sentences = list(list())\n",
        "target_sentences = list(list(list()))\n",
        "text=\"\"\"\"\"\"\n",
        "\n",
        "with open(base_path+\"decode.txt\", \"w\") as df: \n",
        "\n",
        "    for seq_index in range(n):\n",
        "        # Take one sequence (part of the training set)\n",
        "        # for trying out decoding.\n",
        "        input_seq = encoder_input_data_test[seq_index : seq_index + 1]\n",
        "        decoded_sentence = decode_sequence(input_seq)\n",
        "\n",
        "        indices = duplicates(input_text, input_text_test[seq_index])\n",
        "\n",
        "        # sentence score\n",
        "        sentence_scores.append(sentence_bleu([[target_text[i] for i in indices]], [decoded_sentence]))\n",
        "        sentence_1gram_scores.append(sentence_bleu([[target_text[i] for i in indices]], [decoded_sentence], weights=(1, 0, 0, 0)))\n",
        "\n",
        "        #corpus score\n",
        "        target_sentences.append([[target_text[i] for i in indices]])\n",
        "        decoded_sentences.append([decoded_sentence])\n",
        "\n",
        "        text+=\"-\"\n",
        "        text+=\"Input sentence:{}\\n\".format(input_text_test[seq_index])\n",
        "        text+=\"Target sentence:\\n\"\n",
        "\n",
        "        for i in indices:\n",
        "            text+=target_text[i]\n",
        "        \n",
        "        text+=\"Decoded sentence:{}\\n\".format(decoded_sentence) \n",
        "\n",
        "    print(text, file=df)\n",
        "    df.close()\n",
        "\n",
        "corpus_scores.append(corpus_bleu(target_sentences, decoded_sentences))\n",
        "dim_list.append(latent_dim)"
      ],
      "execution_count": null,
      "outputs": []
    },
    {
      "cell_type": "markdown",
      "source": [
        "### Graph Plot"
      ],
      "metadata": {
        "id": "EqkTccHNQ3Pb"
      }
    },
    {
      "cell_type": "code",
      "source": [
        "import matplotlib.pyplot as plt\n",
        "# x axis values\n",
        "x = [i for i in range(len(sentence_scores))]\n",
        "\n",
        "# corresponding y axis values\n",
        "y = sentence_scores\n",
        " \n",
        "# plotting the points\n",
        "plt.plot(x, y)\n",
        " \n",
        "# naming the x axis\n",
        "plt.xlabel('Sentence Indices')\n",
        "# naming the y axis\n",
        "plt.ylabel('Sentence BLEU Score')\n",
        " \n",
        "# giving a title to my graph\n",
        "plt.title('Sentence BLEU Scores for Test Data')\n",
        " \n",
        "# function to show the plot\n",
        "plt.show()"
      ],
      "metadata": {
        "id": "RE2z2zrlQ4xY",
        "colab": {
          "base_uri": "https://localhost:8080/",
          "height": 295
        },
        "outputId": "e08ee70e-be3f-46d0-8ec5-455fe8012c36"
      },
      "execution_count": 35,
      "outputs": [
        {
          "output_type": "display_data",
          "data": {
            "image/png": "[encoded data removed]",
            "text/plain": [
              "<Figure size 432x288 with 1 Axes>"
            ]
          },
          "metadata": {
            "needs_background": "light"
          }
        }
      ]
    },
    {
      "cell_type": "code",
      "source": [
        "# x axis values\n",
        "x = [i for i in range(len(sentence_1gram_scores))]\n",
        "\n",
        "# corresponding y axis values\n",
        "y = sentence_1gram_scores\n",
        " \n",
        "# plotting the points\n",
        "plt.plot(x, y)\n",
        " \n",
        "# naming the x axis\n",
        "plt.xlabel('Sentence Indices')\n",
        "# naming the y axis\n",
        "plt.ylabel('Sentence 1-gram BLEU Score')\n",
        " \n",
        "# giving a title to my graph\n",
        "plt.title('Sentence 1-gram BLEU Scores for Test Data')\n",
        " \n",
        "# function to show the plot\n",
        "plt.show()"
      ],
      "metadata": {
        "id": "Mmoqpv5mkNtp",
        "colab": {
          "base_uri": "https://localhost:8080/",
          "height": 295
        },
        "outputId": "b9236159-02b5-4b96-ae71-7df2f4cc495a"
      },
      "execution_count": 37,
      "outputs": [
        {
          "output_type": "display_data",
          "data": {
            "image/png": "[encoded data removed]",
            "text/plain": [
              "<Figure size 432x288 with 1 Axes>"
            ]
          },
          "metadata": {
            "needs_background": "light"
          }
        }
      ]
    }
  ]
}