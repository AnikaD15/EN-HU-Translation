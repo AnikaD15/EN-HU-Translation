{
  "nbformat": 4,
  "nbformat_minor": 0,
  "metadata": {
    "colab": {
      "name": "milestone2.ipynb",
      "provenance": [],
      "collapsed_sections": [],
      "mount_file_id": "https://github.com/AnikaD15/EN-HU-Translation/blob/main/milestone3.ipynb",
      "authorship_tag": "ABX9TyMIpUXirripWR9o+0u5oe78",
      "include_colab_link": true
    },
    "kernelspec": {
      "display_name": "Python 3",
      "name": "python3"
    },
    "language_info": {
      "name": "python"
    }
  },
  "cells": [
    {
      "cell_type": "markdown",
      "metadata": {
        "id": "view-in-github",
        "colab_type": "text"
      },
      "source": [
        "<a href=\"https://colab.research.google.com/github/AnikaD15/EN-HU-Translation/blob/main/milestone3.ipynb\" target=\"_parent\"><img src=\"https://colab.research.google.com/assets/colab-badge.svg\" alt=\"Open In Colab\"/></a>"
      ]
    },
    {
      "cell_type": "code",
      "metadata": {
        "id": "UGMBEXTfhJFd"
      },
      "source": [
        "import numpy as np\n",
        "import tensorflow as tf\n",
        "from tensorflow import keras\n",
        "from tensorflow.keras.callbacks import EarlyStopping\n",
        "from nltk.translate.bleu_score import corpus_bleu\n",
        "from nltk.translate.bleu_score import sentence_bleu\n",
        "import pandas as pd"
      ],
      "execution_count": null,
      "outputs": []
    },
    {
      "cell_type": "code",
      "metadata": {
        "id": "emOrdz_9hvkr"
      },
      "source": [
        "## Config \n",
        "batch_size = 64  # Batch size for training.\n",
        "epochs = 100  # Number of epochs to train for.\n",
        "latent_dim = 256  # Latent dimensionality of the encoding space.\n",
        "num_samples = 10000  # Number of samples to train on.\n",
        "# Path to the data txt file on disk.\n",
        "base_path = \"/content/drive/MyDrive/DeepLearning/\"\n",
        "data_path1 = base_path + \"hun1.txt\"\n",
        "data_path2 = base_path + \"hun2.tsv\""
      ],
      "execution_count": 55,
      "outputs": []
    },
    {
      "cell_type": "markdown",
      "metadata": {
        "id": "c_VN1BTmPytY"
      },
      "source": [
        "# Functions"
      ]
    },
    {
      "cell_type": "code",
      "metadata": {
        "id": "UUPMHdkTP1HY"
      },
      "source": [
        "def getLines(data_path):\n",
        "  with open(data_path, \"r\", encoding=\"utf-8\") as f:\n",
        "    lines = f.read().split(\"\\n\")\n",
        "  return lines"
      ],
      "execution_count": 56,
      "outputs": []
    },
    {
      "cell_type": "code",
      "metadata": {
        "id": "G-Zu7rYNQJcG"
      },
      "source": [
        "def getTextAndChars(lines):\n",
        "  input_texts = []\n",
        "  target_texts = []\n",
        "  input_characters = set()\n",
        "  target_characters = set()\n",
        "\n",
        "  for line in lines[: min(num_samples, len(lines) - 1)]:\n",
        "    # input_text, target_text, _ = line.split(\"\\t\")\n",
        "    target_text, input_text, _ = line.split(\"\\t\")\n",
        "    # We use \"tab\" as the \"start sequence\" character\n",
        "    # for the targets, and \"\\n\" as \"end sequence\" character.\n",
        "    target_text = \"\\t\" + target_text + \"\\n\"\n",
        "    input_texts.append(input_text)\n",
        "    target_texts.append(target_text)\n",
        "\n",
        "    for char in input_text:\n",
        "        if char not in input_characters:\n",
        "            input_characters.add(char)\n",
        "\n",
        "    for char in target_text:\n",
        "        if char not in target_characters:\n",
        "            target_characters.add(char)\n",
        "\n",
        "  input_characters = sorted(list(input_characters))\n",
        "  target_characters = sorted(list(target_characters)) \n",
        "\n",
        "  return input_texts, target_texts, input_characters, target_characters \n",
        "\n"
      ],
      "execution_count": null,
      "outputs": []
    },
    {
      "cell_type": "code",
      "metadata": {
        "id": "BH53RsOOQ63h"
      },
      "source": [
        "def numTokens(charSet):\n",
        "  return len(charSet)"
      ],
      "execution_count": null,
      "outputs": []
    },
    {
      "cell_type": "code",
      "metadata": {
        "id": "FoGsWg2nRdHC"
      },
      "source": [
        "def maxSeqLength(text):\n",
        "  return max([len(txt) for txt in text])"
      ],
      "execution_count": null,
      "outputs": []
    },
    {
      "cell_type": "code",
      "metadata": {
        "id": "U-D9-S42R1hy"
      },
      "source": [
        "def makeTokenIndex(charSet):\n",
        "  return dict([(char, i) for i, char in enumerate(charSet)])"
      ],
      "execution_count": null,
      "outputs": []
    },
    {
      "cell_type": "code",
      "metadata": {
        "id": "yqIG0zwoSOss"
      },
      "source": [
        "def setInputAndTargetData(input_text, target_text, input_token_index, target_token_index):\n",
        "  encoder_input_data = np.zeros(\n",
        "      (len(input_text), max_encoder_seq_length, num_encoder_tokens), dtype=\"float32\"\n",
        "  )\n",
        "  decoder_input_data = np.zeros(\n",
        "      (len(input_text), max_decoder_seq_length, num_decoder_tokens), dtype=\"float32\"\n",
        "  )\n",
        "  decoder_target_data = np.zeros(\n",
        "      (len(input_text), max_decoder_seq_length, num_decoder_tokens), dtype=\"float32\"\n",
        "  )\n",
        "\n",
        "  \n",
        "  for i, (input_text, target_text) in enumerate(zip(input_text, target_text)):\n",
        "    for t, char in enumerate(input_text):\n",
        "        encoder_input_data[i, t, input_token_index[char]] = 1.0\n",
        "\n",
        "    encoder_input_data[i, t + 1 :, input_token_index[\" \"]] = 1.0\n",
        "    for t, char in enumerate(target_text):\n",
        "        # decoder_target_data is ahead of decoder_input_data by one timestep\n",
        "        decoder_input_data[i, t, target_token_index[char]] = 1.0\n",
        "        if t > 0:\n",
        "            # decoder_target_data will be ahead by one timestep\n",
        "            # and will not include the start character.\n",
        "            decoder_target_data[i, t - 1, target_token_index[char]] = 1.0\n",
        "    decoder_input_data[i, t + 1 :, target_token_index[\" \"]] = 1.0\n",
        "    decoder_target_data[i, t:, target_token_index[\" \"]] = 1.0\n",
        "\n",
        "  return encoder_input_data, decoder_input_data, decoder_target_data"
      ],
      "execution_count": null,
      "outputs": []
    },
    {
      "cell_type": "code",
      "metadata": {
        "id": "j7O7HqEwj7LM"
      },
      "source": [
        "# Define an input sequence and process it.\n",
        "def getInputsAndOutputs(num_encoder_tokens, num_decoder_tokens, latent_dim=latent_dim):\n",
        "  encoder_inputs = keras.Input(shape=(None, num_encoder_tokens))\n",
        "  encoder = keras.layers.LSTM(latent_dim, return_state=True)\n",
        "  encoder_outputs, state_h, state_c = encoder(encoder_inputs)\n",
        "\n",
        "  # We discard `encoder_outputs` and only keep the states.\n",
        "  encoder_states = [state_h, state_c]\n",
        "\n",
        "  # Set up the decoder, using `encoder_states` as initial state.\n",
        "  decoder_inputs = keras.Input(shape=(None, num_decoder_tokens))\n",
        "\n",
        "  # We set up our decoder to return full output sequences,\n",
        "  # and to return internal states as well. We don't use the\n",
        "  # return states in the training model, but we will use them in inference.\n",
        "  decoder_lstm = keras.layers.LSTM(latent_dim, return_sequences=True, return_state=True)\n",
        "  decoder_outputs, _, _ = decoder_lstm(decoder_inputs, initial_state=encoder_states)\n",
        "  decoder_dense = keras.layers.Dense(num_decoder_tokens, activation=\"softmax\")\n",
        "  decoder_outputs = decoder_dense(decoder_outputs)\n",
        "\n",
        "  return encoder_inputs, decoder_inputs, decoder_outputs"
      ],
      "execution_count": null,
      "outputs": []
    },
    {
      "cell_type": "code",
      "metadata": {
        "id": "SSZq_5zkYFX-"
      },
      "source": [
        "def splitData(data, valid_split, test_split):\n",
        "  # array index boundary\n",
        "  v_point = int(len(data)*(1-valid_split-test_split))\n",
        "  t_point = int(len(data)*(1-test_split))\n",
        "\n",
        "  data_train = data[:t_point]\n",
        "  data_valid = data[v_point:t_point]\n",
        "  data_test = data[t_point:]\n",
        "\n",
        "  return data_train, data_valid, data_test"
      ],
      "execution_count": null,
      "outputs": []
    },
    {
      "cell_type": "code",
      "metadata": {
        "id": "ZB8RhX0HpdV0"
      },
      "source": [
        "def decode_sequence(input_seq):\n",
        "    # Encode the input as state vectors.\n",
        "    states_value = encoder_model.predict(input_seq)\n",
        "\n",
        "    # Generate empty target sequence of length 1.\n",
        "    target_seq = np.zeros((1, 1, num_decoder_tokens))\n",
        "    # Populate the first character of target sequence with the start character.\n",
        "    target_seq[0, 0, target_token_index[\"\\t\"]] = 1.0\n",
        "\n",
        "    # Sampling loop for a batch of sequences\n",
        "    # (to simplify, here we assume a batch of size 1).\n",
        "    stop_condition = False\n",
        "    decoded_sentence = \"\"\n",
        "    while not stop_condition:\n",
        "        output_tokens, h, c = decoder_model.predict([target_seq] + states_value)\n",
        "\n",
        "        # Sample a token\n",
        "        sampled_token_index = np.argmax(output_tokens[0, -1, :])\n",
        "        sampled_char = reverse_target_char_index[sampled_token_index]\n",
        "        decoded_sentence += sampled_char\n",
        "\n",
        "        # Exit condition: either hit max length\n",
        "        # or find stop character.\n",
        "        if sampled_char == \"\\n\" or len(decoded_sentence) > max_decoder_seq_length:\n",
        "            stop_condition = True\n",
        "\n",
        "        # Update the target sequence (of length 1).\n",
        "        target_seq = np.zeros((1, 1, num_decoder_tokens))\n",
        "        target_seq[0, 0, sampled_token_index] = 1.0\n",
        "\n",
        "        # Update states\n",
        "        states_value = [h, c]\n",
        "        \n",
        "    return decoded_sentence"
      ],
      "execution_count": null,
      "outputs": []
    },
    {
      "cell_type": "markdown",
      "metadata": {
        "id": "tn_4qmSN_asO"
      },
      "source": [
        "## Prepare Data"
      ]
    },
    {
      "cell_type": "code",
      "metadata": {
        "colab": {
          "base_uri": "https://localhost:8080/"
        },
        "id": "Zv2Zkpyxh5J9",
        "outputId": "20890c57-04a5-4978-84a4-0b6e37d79541"
      },
      "source": [
        "# Vectorize the data.\n",
        "lines1 = getLines(data_path1)\n",
        "lines2 = getLines(data_path2)\n",
        "\n",
        "lines = lines1+lines2\n",
        "\n",
        "input_text, target_text, input_characters, target_characters = getTextAndChars(lines)\n",
        "\n",
        "num_encoder_tokens = numTokens(input_characters)\n",
        "num_decoder_tokens = numTokens(target_characters)\n",
        "max_encoder_seq_length = maxSeqLength(input_text)\n",
        "max_decoder_seq_length = maxSeqLength(target_text)\n",
        "\n",
        "print(\"Number of samples:\", len(input_text))\n",
        "print(\"Number of unique input tokens:\", num_encoder_tokens)\n",
        "print(\"Number of unique output tokens:\", num_decoder_tokens)\n",
        "print(\"Max sequence length for inputs:\", max_encoder_seq_length)\n",
        "print(\"Max sequence length for outputs:\", max_decoder_seq_length)\n",
        "\n",
        "# character's lexographical order\n",
        "input_token_index = makeTokenIndex(input_characters) \n",
        "target_token_index = makeTokenIndex(target_characters)\n",
        "\n",
        "# encoder_input_data, decoder_input_data, decoder_target_data = setInputAndTargetData(input_text, target_text, input_token_index, target_token_index)\n",
        "                                                                                    \n",
        "encoder_inputs, decoder_inputs, decoder_outputs = getInputsAndOutputs(num_encoder_tokens, num_decoder_tokens)                                                                          \n"
      ],
      "execution_count": 60,
      "outputs": [
        {
          "output_type": "stream",
          "name": "stdout",
          "text": [
            "Number of samples: 10000\n",
            "Number of unique input tokens: 81\n",
            "Number of unique output tokens: 72\n",
            "Max sequence length for inputs: 54\n",
            "Max sequence length for outputs: 17\n"
          ]
        }
      ]
    },
    {
      "cell_type": "markdown",
      "source": [
        "## Split Data"
      ],
      "metadata": {
        "id": "upoHKugRTHyK"
      }
    },
    {
      "cell_type": "code",
      "source": [
        "# training, validation, test data\n",
        "valid_split = 0.2\n",
        "test_split  = 0.1\n",
        "\n",
        "input_text_train, input_text_valid, input_text_test = splitData(input_text, valid_split, test_split)\n",
        "target_text_train, target_text_valid, target_text_test = splitData(target_text, valid_split, test_split)"
      ],
      "metadata": {
        "id": "qohTgHGjTRx9"
      },
      "execution_count": 61,
      "outputs": []
    },
    {
      "cell_type": "markdown",
      "metadata": {
        "id": "CfYXsKzGFqt9"
      },
      "source": [
        "## Define Model"
      ]
    },
    {
      "cell_type": "code",
      "metadata": {
        "id": "_SfoIpUYkyDn"
      },
      "source": [
        "# Define the model that will turn \n",
        "# `encoder_input_data` & `decoder_input_data` into `decoder_target_data`\n",
        "model = keras.Model([encoder_inputs, decoder_inputs], decoder_outputs)"
      ],
      "execution_count": 62,
      "outputs": []
    },
    {
      "cell_type": "markdown",
      "metadata": {
        "id": "lQdAqvrYGhBu"
      },
      "source": [
        "## Train Model"
      ]
    },
    {
      "cell_type": "code",
      "metadata": {
        "id": "o2_L2KVYI6kJ"
      },
      "source": [
        "# training, validation, test encoder/decoder data\n",
        "encoder_input_data_train, decoder_input_data_train, decoder_target_data_train = setInputAndTargetData(input_text_train, target_text_train, input_token_index, target_token_index)\n",
        "encoder_input_data_valid, decoder_input_data_valid, decoder_target_data_valid = setInputAndTargetData(input_text_valid, target_text_valid, input_token_index, target_token_index)\n",
        "encoder_input_data_test, decoder_input_data_test, decoder_target_data_test = setInputAndTargetData(input_text_test, target_text_test, input_token_index, target_token_index)"
      ],
      "execution_count": 63,
      "outputs": []
    },
    {
      "cell_type": "code",
      "metadata": {
        "id": "J99m4f7TpAeX"
      },
      "source": [
        "model.compile(\n",
        "    optimizer=\"rmsprop\", loss=\"categorical_crossentropy\", metrics=[\"accuracy\"]\n",
        ")"
      ],
      "execution_count": 64,
      "outputs": []
    },
    {
      "cell_type": "code",
      "metadata": {
        "id": "SaFvxKaAHrRP"
      },
      "source": [
        "es = EarlyStopping(monitor='val_accuracy', \n",
        "                   patience=20, verbose=1,\n",
        "                   restore_best_weights=True)"
      ],
      "execution_count": 65,
      "outputs": []
    },
    {
      "cell_type": "code",
      "metadata": {
        "id": "Yi13jaVCH5Dq",
        "colab": {
          "base_uri": "https://localhost:8080/"
        },
        "outputId": "5349ffd8-586b-434b-e805-983ba9e4120d"
      },
      "source": [
        "model.fit(\n",
        "    [encoder_input_data_train, decoder_input_data_train],\n",
        "    decoder_target_data_train,\n",
        "    batch_size=batch_size,\n",
        "    callbacks=[es],\n",
        "    epochs=epochs,\n",
        "    validation_data = ([encoder_input_data_valid, decoder_input_data_valid],\n",
        "    decoder_target_data_valid)\n",
        ")\n",
        "# Save model\n",
        "model.save(base_path + \"model\")"
      ],
      "execution_count": null,
      "outputs": [
        {
          "output_type": "stream",
          "name": "stdout",
          "text": [
            "Epoch 1/100\n",
            "141/141 [==============================] - 59s 387ms/step - loss: 2.4449 - accuracy: 0.3548 - val_loss: 2.4865 - val_accuracy: 0.3366\n",
            "Epoch 2/100\n",
            "141/141 [==============================] - 54s 381ms/step - loss: 1.9094 - accuracy: 0.4779 - val_loss: 1.9683 - val_accuracy: 0.4444\n",
            "Epoch 3/100\n",
            "141/141 [==============================] - 53s 379ms/step - loss: 1.6122 - accuracy: 0.5360 - val_loss: 1.7776 - val_accuracy: 0.4931\n",
            "Epoch 4/100\n",
            "141/141 [==============================] - 53s 377ms/step - loss: 1.4747 - accuracy: 0.5695 - val_loss: 1.7097 - val_accuracy: 0.4869\n",
            "Epoch 5/100\n",
            "141/141 [==============================] - 53s 375ms/step - loss: 1.3854 - accuracy: 0.5913 - val_loss: 1.5828 - val_accuracy: 0.5246\n",
            "Epoch 6/100\n",
            "141/141 [==============================] - 53s 378ms/step - loss: 1.3209 - accuracy: 0.6069 - val_loss: 1.5411 - val_accuracy: 0.5331\n",
            "Epoch 7/100\n",
            "141/141 [==============================] - 53s 379ms/step - loss: 1.2638 - accuracy: 0.6231 - val_loss: 1.4487 - val_accuracy: 0.5687\n",
            "Epoch 8/100\n",
            "141/141 [==============================] - 53s 377ms/step - loss: 1.2112 - accuracy: 0.6367 - val_loss: 1.4108 - val_accuracy: 0.5704\n",
            "Epoch 9/100\n",
            "141/141 [==============================] - 54s 383ms/step - loss: 1.1669 - accuracy: 0.6488 - val_loss: 1.3501 - val_accuracy: 0.5950\n",
            "Epoch 10/100\n",
            "141/141 [==============================] - 54s 380ms/step - loss: 1.1289 - accuracy: 0.6587 - val_loss: 1.2860 - val_accuracy: 0.6097\n",
            "Epoch 11/100\n",
            "141/141 [==============================] - 53s 378ms/step - loss: 1.0934 - accuracy: 0.6685 - val_loss: 1.2533 - val_accuracy: 0.6203\n",
            "Epoch 12/100\n",
            "141/141 [==============================] - 53s 376ms/step - loss: 1.0618 - accuracy: 0.6768 - val_loss: 1.2116 - val_accuracy: 0.6339\n",
            "Epoch 13/100\n",
            "141/141 [==============================] - 53s 377ms/step - loss: 1.0329 - accuracy: 0.6852 - val_loss: 1.1837 - val_accuracy: 0.6359\n",
            "Epoch 14/100\n",
            "141/141 [==============================] - 53s 376ms/step - loss: 1.0034 - accuracy: 0.6934 - val_loss: 1.1683 - val_accuracy: 0.6396\n",
            "Epoch 15/100\n",
            "141/141 [==============================] - 53s 378ms/step - loss: 0.9735 - accuracy: 0.7059 - val_loss: 1.0906 - val_accuracy: 0.6706\n",
            "Epoch 16/100\n",
            "141/141 [==============================] - 53s 376ms/step - loss: 0.9413 - accuracy: 0.7167 - val_loss: 1.0646 - val_accuracy: 0.6711\n",
            "Epoch 17/100\n",
            "141/141 [==============================] - 53s 376ms/step - loss: 0.9116 - accuracy: 0.7259 - val_loss: 1.0187 - val_accuracy: 0.6940\n",
            "Epoch 18/100\n",
            "141/141 [==============================] - 53s 376ms/step - loss: 0.8869 - accuracy: 0.7330 - val_loss: 0.9857 - val_accuracy: 0.7011\n",
            "Epoch 19/100\n",
            "141/141 [==============================] - 54s 380ms/step - loss: 0.8627 - accuracy: 0.7398 - val_loss: 0.9466 - val_accuracy: 0.7142\n",
            "Epoch 20/100\n",
            "141/141 [==============================] - 53s 379ms/step - loss: 0.8407 - accuracy: 0.7466 - val_loss: 0.9334 - val_accuracy: 0.7167\n",
            "Epoch 21/100\n",
            "141/141 [==============================] - 53s 377ms/step - loss: 0.8209 - accuracy: 0.7524 - val_loss: 0.9004 - val_accuracy: 0.7283\n",
            "Epoch 22/100\n",
            "141/141 [==============================] - 53s 378ms/step - loss: 0.8004 - accuracy: 0.7594 - val_loss: 0.8827 - val_accuracy: 0.7361\n",
            "Epoch 23/100\n",
            "141/141 [==============================] - 53s 373ms/step - loss: 0.7827 - accuracy: 0.7642 - val_loss: 0.8599 - val_accuracy: 0.7406\n",
            "Epoch 24/100\n",
            "141/141 [==============================] - 53s 375ms/step - loss: 0.7646 - accuracy: 0.7697 - val_loss: 0.8468 - val_accuracy: 0.7404\n",
            "Epoch 25/100\n",
            "141/141 [==============================] - 53s 379ms/step - loss: 0.7491 - accuracy: 0.7734 - val_loss: 0.8173 - val_accuracy: 0.7513\n",
            "Epoch 26/100\n",
            "141/141 [==============================] - 53s 379ms/step - loss: 0.7324 - accuracy: 0.7787 - val_loss: 0.7909 - val_accuracy: 0.7586\n",
            "Epoch 27/100\n",
            "141/141 [==============================] - 53s 377ms/step - loss: 0.7172 - accuracy: 0.7824 - val_loss: 0.7916 - val_accuracy: 0.7560\n",
            "Epoch 28/100\n",
            "141/141 [==============================] - 53s 378ms/step - loss: 0.7023 - accuracy: 0.7861 - val_loss: 0.7518 - val_accuracy: 0.7766\n",
            "Epoch 29/100\n",
            "141/141 [==============================] - 53s 376ms/step - loss: 0.6870 - accuracy: 0.7905 - val_loss: 0.7243 - val_accuracy: 0.7804\n",
            "Epoch 30/100\n",
            "141/141 [==============================] - 53s 375ms/step - loss: 0.6713 - accuracy: 0.7946 - val_loss: 0.7161 - val_accuracy: 0.7804\n",
            "Epoch 31/100\n",
            "141/141 [==============================] - 53s 378ms/step - loss: 0.6584 - accuracy: 0.7983 - val_loss: 0.6980 - val_accuracy: 0.7871\n",
            "Epoch 32/100\n",
            "141/141 [==============================] - 54s 382ms/step - loss: 0.6447 - accuracy: 0.8022 - val_loss: 0.6968 - val_accuracy: 0.7854\n",
            "Epoch 33/100\n",
            "141/141 [==============================] - 54s 386ms/step - loss: 0.6312 - accuracy: 0.8056 - val_loss: 0.6646 - val_accuracy: 0.7950\n",
            "Epoch 34/100\n",
            "141/141 [==============================] - 53s 378ms/step - loss: 0.6198 - accuracy: 0.8098 - val_loss: 0.6497 - val_accuracy: 0.8019\n",
            "Epoch 35/100\n",
            "141/141 [==============================] - 53s 378ms/step - loss: 0.6075 - accuracy: 0.8123 - val_loss: 0.6366 - val_accuracy: 0.8057\n",
            "Epoch 36/100\n",
            "141/141 [==============================] - 53s 377ms/step - loss: 0.5958 - accuracy: 0.8158 - val_loss: 0.6228 - val_accuracy: 0.8102\n",
            "Epoch 37/100\n",
            "141/141 [==============================] - 53s 376ms/step - loss: 0.5852 - accuracy: 0.8195 - val_loss: 0.6075 - val_accuracy: 0.8140\n",
            "Epoch 38/100\n",
            "141/141 [==============================] - 53s 378ms/step - loss: 0.5741 - accuracy: 0.8224 - val_loss: 0.5923 - val_accuracy: 0.8180\n",
            "Epoch 39/100\n",
            "141/141 [==============================] - 53s 377ms/step - loss: 0.5631 - accuracy: 0.8255 - val_loss: 0.5828 - val_accuracy: 0.8190\n",
            "Epoch 40/100\n",
            "141/141 [==============================] - 53s 379ms/step - loss: 0.5535 - accuracy: 0.8281 - val_loss: 0.5802 - val_accuracy: 0.8211\n",
            "Epoch 41/100\n",
            "141/141 [==============================] - 53s 375ms/step - loss: 0.5434 - accuracy: 0.8310 - val_loss: 0.5525 - val_accuracy: 0.8302\n",
            "Epoch 42/100\n",
            "141/141 [==============================] - 54s 381ms/step - loss: 0.5331 - accuracy: 0.8340 - val_loss: 0.5428 - val_accuracy: 0.8339\n",
            "Epoch 43/100\n",
            "141/141 [==============================] - 54s 381ms/step - loss: 0.5229 - accuracy: 0.8375 - val_loss: 0.5356 - val_accuracy: 0.8342\n",
            "Epoch 44/100\n",
            "141/141 [==============================] - 54s 384ms/step - loss: 0.5130 - accuracy: 0.8406 - val_loss: 0.5338 - val_accuracy: 0.8343\n",
            "Epoch 45/100\n",
            "141/141 [==============================] - 54s 381ms/step - loss: 0.5033 - accuracy: 0.8428 - val_loss: 0.5211 - val_accuracy: 0.8382\n",
            "Epoch 46/100\n",
            "141/141 [==============================] - 54s 381ms/step - loss: 0.4940 - accuracy: 0.8458 - val_loss: 0.5071 - val_accuracy: 0.8455\n",
            "Epoch 47/100\n",
            "141/141 [==============================] - 54s 381ms/step - loss: 0.4852 - accuracy: 0.8490 - val_loss: 0.4868 - val_accuracy: 0.8510\n",
            "Epoch 48/100\n",
            "141/141 [==============================] - 53s 379ms/step - loss: 0.4762 - accuracy: 0.8508 - val_loss: 0.4781 - val_accuracy: 0.8532\n",
            "Epoch 49/100\n",
            "141/141 [==============================] - 53s 378ms/step - loss: 0.4677 - accuracy: 0.8535 - val_loss: 0.4752 - val_accuracy: 0.8516\n",
            "Epoch 50/100\n",
            "141/141 [==============================] - 53s 379ms/step - loss: 0.4592 - accuracy: 0.8558 - val_loss: 0.4634 - val_accuracy: 0.8569\n",
            "Epoch 51/100\n",
            "141/141 [==============================] - 53s 376ms/step - loss: 0.4514 - accuracy: 0.8588 - val_loss: 0.4489 - val_accuracy: 0.8604\n",
            "Epoch 52/100\n",
            "141/141 [==============================] - 53s 374ms/step - loss: 0.4434 - accuracy: 0.8603 - val_loss: 0.4521 - val_accuracy: 0.8594\n",
            "Epoch 53/100\n",
            "141/141 [==============================] - 53s 378ms/step - loss: 0.4357 - accuracy: 0.8630 - val_loss: 0.4363 - val_accuracy: 0.8641\n",
            "Epoch 54/100\n",
            "141/141 [==============================] - 53s 377ms/step - loss: 0.4273 - accuracy: 0.8655 - val_loss: 0.4338 - val_accuracy: 0.8665\n",
            "Epoch 55/100\n",
            "141/141 [==============================] - 53s 376ms/step - loss: 0.4204 - accuracy: 0.8679 - val_loss: 0.4339 - val_accuracy: 0.8664\n",
            "Epoch 56/100\n",
            "141/141 [==============================] - 53s 377ms/step - loss: 0.4136 - accuracy: 0.8695 - val_loss: 0.4153 - val_accuracy: 0.8732\n",
            "Epoch 57/100\n",
            "141/141 [==============================] - 53s 376ms/step - loss: 0.4054 - accuracy: 0.8722 - val_loss: 0.4014 - val_accuracy: 0.8770\n",
            "Epoch 58/100\n",
            "141/141 [==============================] - 53s 376ms/step - loss: 0.3987 - accuracy: 0.8742 - val_loss: 0.3901 - val_accuracy: 0.8813\n",
            "Epoch 59/100\n",
            "141/141 [==============================] - 53s 375ms/step - loss: 0.3921 - accuracy: 0.8758 - val_loss: 0.3852 - val_accuracy: 0.8840\n",
            "Epoch 60/100\n",
            "141/141 [==============================] - 53s 376ms/step - loss: 0.3855 - accuracy: 0.8782 - val_loss: 0.3827 - val_accuracy: 0.8850\n",
            "Epoch 61/100\n",
            "141/141 [==============================] - 53s 377ms/step - loss: 0.3782 - accuracy: 0.8809 - val_loss: 0.3596 - val_accuracy: 0.8914\n",
            "Epoch 62/100\n",
            "141/141 [==============================] - 53s 377ms/step - loss: 0.3713 - accuracy: 0.8829 - val_loss: 0.3629 - val_accuracy: 0.8886\n",
            "Epoch 63/100\n",
            "141/141 [==============================] - 53s 373ms/step - loss: 0.3653 - accuracy: 0.8843 - val_loss: 0.3584 - val_accuracy: 0.8904\n",
            "Epoch 64/100\n",
            "141/141 [==============================] - 53s 376ms/step - loss: 0.3590 - accuracy: 0.8860 - val_loss: 0.3592 - val_accuracy: 0.8902\n",
            "Epoch 65/100\n",
            "141/141 [==============================] - 53s 376ms/step - loss: 0.3525 - accuracy: 0.8888 - val_loss: 0.3442 - val_accuracy: 0.8949\n",
            "Epoch 66/100\n",
            "141/141 [==============================] - 53s 374ms/step - loss: 0.3463 - accuracy: 0.8905 - val_loss: 0.3442 - val_accuracy: 0.8946\n",
            "Epoch 67/100\n",
            "141/141 [==============================] - 53s 377ms/step - loss: 0.3402 - accuracy: 0.8925 - val_loss: 0.3246 - val_accuracy: 0.9031\n",
            "Epoch 68/100\n",
            "141/141 [==============================] - 53s 376ms/step - loss: 0.3338 - accuracy: 0.8944 - val_loss: 0.3150 - val_accuracy: 0.9048\n",
            "Epoch 69/100\n",
            "141/141 [==============================] - 53s 376ms/step - loss: 0.3279 - accuracy: 0.8968 - val_loss: 0.3193 - val_accuracy: 0.9029\n",
            "Epoch 70/100\n",
            "141/141 [==============================] - 53s 377ms/step - loss: 0.3222 - accuracy: 0.8985 - val_loss: 0.3082 - val_accuracy: 0.9066\n",
            "Epoch 71/100\n",
            "141/141 [==============================] - 53s 375ms/step - loss: 0.3165 - accuracy: 0.8997 - val_loss: 0.3056 - val_accuracy: 0.9074\n",
            "Epoch 72/100\n",
            "141/141 [==============================] - 53s 377ms/step - loss: 0.3102 - accuracy: 0.9018 - val_loss: 0.2981 - val_accuracy: 0.9103\n",
            "Epoch 73/100\n",
            "141/141 [==============================] - 53s 376ms/step - loss: 0.3054 - accuracy: 0.9039 - val_loss: 0.2909 - val_accuracy: 0.9132\n",
            "Epoch 74/100\n",
            "141/141 [==============================] - 53s 378ms/step - loss: 0.2996 - accuracy: 0.9054 - val_loss: 0.2921 - val_accuracy: 0.9124\n",
            "Epoch 75/100\n",
            "141/141 [==============================] - 53s 376ms/step - loss: 0.2943 - accuracy: 0.9073 - val_loss: 0.2813 - val_accuracy: 0.9139\n",
            "Epoch 76/100\n",
            "141/141 [==============================] - 53s 375ms/step - loss: 0.2892 - accuracy: 0.9089 - val_loss: 0.2774 - val_accuracy: 0.9153\n",
            "Epoch 77/100\n",
            "141/141 [==============================] - 53s 375ms/step - loss: 0.2837 - accuracy: 0.9104 - val_loss: 0.2663 - val_accuracy: 0.9183\n",
            "Epoch 78/100\n",
            "141/141 [==============================] - 53s 378ms/step - loss: 0.2785 - accuracy: 0.9123 - val_loss: 0.2628 - val_accuracy: 0.9214\n",
            "Epoch 79/100\n",
            "141/141 [==============================] - 53s 375ms/step - loss: 0.2733 - accuracy: 0.9135 - val_loss: 0.2498 - val_accuracy: 0.9250\n",
            "Epoch 80/100\n",
            "141/141 [==============================] - 53s 374ms/step - loss: 0.2675 - accuracy: 0.9154 - val_loss: 0.2585 - val_accuracy: 0.9224\n",
            "Epoch 81/100\n",
            "141/141 [==============================] - 53s 375ms/step - loss: 0.2624 - accuracy: 0.9169 - val_loss: 0.2482 - val_accuracy: 0.9265\n",
            "Epoch 82/100\n",
            "141/141 [==============================] - 53s 375ms/step - loss: 0.2574 - accuracy: 0.9188 - val_loss: 0.2366 - val_accuracy: 0.9286\n",
            "Epoch 83/100\n",
            "106/141 [=====================>........] - ETA: 12s - loss: 0.2516 - accuracy: 0.9211"
          ]
        }
      ]
    },
    {
      "cell_type": "markdown",
      "metadata": {
        "id": "FQ9nT-_AIQGd"
      },
      "source": [
        "## Evaluate Model"
      ]
    },
    {
      "cell_type": "code",
      "metadata": {
        "id": "dVyJd6wIIIqh"
      },
      "source": [
        "model.evaluate([encoder_input_data_test, decoder_input_data_test],\n",
        "    decoder_target_data_test)"
      ],
      "execution_count": null,
      "outputs": []
    },
    {
      "cell_type": "markdown",
      "metadata": {
        "id": "abYc26H36Dua"
      },
      "source": [
        ""
      ]
    },
    {
      "cell_type": "code",
      "metadata": {
        "id": "gZIYazoQpM-8"
      },
      "source": [
        "# Define sampling models\n",
        "# Restore the model and construct the encoder and decoder.\n",
        "model = keras.models.load_model(base_path + \"model\")\n",
        "\n",
        "encoder_inputs = model.input[0]  # input_1\n",
        "encoder_outputs, state_h_enc, state_c_enc = model.layers[2].output  # lstm_1\n",
        "encoder_states = [state_h_enc, state_c_enc]\n",
        "encoder_model = keras.Model(encoder_inputs, encoder_states)\n",
        "\n",
        "decoder_inputs = model.input[1]  # input_2\n",
        "decoder_state_input_h = keras.Input(shape=(latent_dim,))\n",
        "decoder_state_input_c = keras.Input(shape=(latent_dim,))\n",
        "decoder_states_inputs = [decoder_state_input_h, decoder_state_input_c]\n",
        "decoder_lstm = model.layers[3]\n",
        "decoder_outputs, state_h_dec, state_c_dec = decoder_lstm(\n",
        "    decoder_inputs, initial_state=decoder_states_inputs\n",
        ")\n",
        "decoder_states = [state_h_dec, state_c_dec]\n",
        "decoder_dense = model.layers[4]\n",
        "decoder_outputs = decoder_dense(decoder_outputs)\n",
        "decoder_model = keras.Model(\n",
        "    [decoder_inputs] + decoder_states_inputs, [decoder_outputs] + decoder_states\n",
        ")\n",
        "\n",
        "# Reverse-lookup token index to decode sequences back to\n",
        "# something readable.\n",
        "reverse_input_char_index = dict((i, char) for char, i in input_token_index.items())\n",
        "reverse_target_char_index = dict((i, char) for char, i in target_token_index.items())"
      ],
      "execution_count": null,
      "outputs": []
    },
    {
      "cell_type": "code",
      "source": [
        "corpus_scores = list()\n",
        "dim_list = list()"
      ],
      "metadata": {
        "id": "YiYfl3aqkVEj"
      },
      "execution_count": null,
      "outputs": []
    },
    {
      "cell_type": "code",
      "metadata": {
        "id": "s2O3IcN7fwJC"
      },
      "source": [
        "n = len(input_text_test)\n",
        "sentence_scores = list()\n",
        "decoded_sentences = list(list())\n",
        "target_sentences = list(list(list()))\n",
        "\n",
        "\n",
        "for seq_index in range(n):\n",
        "    # Take one sequence (part of the training set)\n",
        "    # for trying out decoding.\n",
        "    input_seq = encoder_input_data_test[seq_index : seq_index + 1]\n",
        "    decoded_sentence = decode_sequence(input_seq)\n",
        "\n",
        "    # sentence score\n",
        "    sentence_scores.append(sentence_bleu([[target_text_test[seq_index]]], [decoded_sentence]))\n",
        "\n",
        "    #corpus score\n",
        "    target_sentences.append([[target_text_test[seq_index]]])\n",
        "    decoded_sentences.append([decoded_sentence])\n",
        "\n",
        "    print(\"-\")\n",
        "    print(\"Input sentence:\", input_text_test[seq_index])\n",
        "    print(\"Target sentence:\", target_text_test[seq_index])\n",
        "    print(\"Decoded sentence:\", decoded_sentence)\n",
        "\n",
        "corpus_scores.append(corpus_bleu(target_sentences, decoded_sentences))\n",
        "dim_list.append(latent_dim)"
      ],
      "execution_count": null,
      "outputs": []
    },
    {
      "cell_type": "markdown",
      "source": [
        "### Graph Plot"
      ],
      "metadata": {
        "id": "EqkTccHNQ3Pb"
      }
    },
    {
      "cell_type": "code",
      "source": [
        "import matplotlib.pyplot as plt\n",
        "# x axis values\n",
        "x = [i for i in range(len(sentence_scores))]\n",
        "\n",
        "# corresponding y axis values\n",
        "y = sentence_scores\n",
        " \n",
        "# plotting the points\n",
        "plt.plot(x, y)\n",
        " \n",
        "# naming the x axis\n",
        "plt.xlabel('Sentence Indices')\n",
        "# naming the y axis\n",
        "plt.ylabel('Sentence BLEU Score')\n",
        " \n",
        "# giving a title to my graph\n",
        "plt.title('Sentence BLEU Scores for Tests Data')\n",
        " \n",
        "# function to show the plot\n",
        "plt.show()"
      ],
      "metadata": {
        "id": "RE2z2zrlQ4xY"
      },
      "execution_count": null,
      "outputs": []
    },
    {
      "cell_type": "code",
      "source": [
        "corpus_scores "
      ],
      "metadata": {
        "id": "Mmoqpv5mkNtp"
      },
      "execution_count": null,
      "outputs": []
    },
    {
      "cell_type": "code",
      "source": [
        "lines1[:5]"
      ],
      "metadata": {
        "id": "yAw5l1Q2OyRz"
      },
      "execution_count": null,
      "outputs": []
    },
    {
      "cell_type": "code",
      "source": [
        "lines2[:5]"
      ],
      "metadata": {
        "id": "84X8SF8cO6Qh"
      },
      "execution_count": null,
      "outputs": []
    }
  ]
}