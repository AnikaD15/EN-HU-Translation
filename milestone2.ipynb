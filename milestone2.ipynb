{
  "nbformat": 4,
  "nbformat_minor": 0,
  "metadata": {
    "colab": {
      "name": "milestone2.ipynb",
      "provenance": [],
      "collapsed_sections": [],
      "mount_file_id": "1snLQZBaDyjjfu-21st5hHxGGEfY8vTn9",
      "authorship_tag": "ABX9TyMKS32YLTTAl8mcPnRxzWzO",
      "include_colab_link": true
    },
    "kernelspec": {
      "display_name": "Python 3",
      "name": "python3"
    },
    "language_info": {
      "name": "python"
    }
  },
  "cells": [
    {
      "cell_type": "markdown",
      "metadata": {
        "id": "view-in-github",
        "colab_type": "text"
      },
      "source": [
        "<a href=\"https://colab.research.google.com/github/AnikaD15/EN-HU-Translation/blob/main/milestone2.ipynb\" target=\"_parent\"><img src=\"https://colab.research.google.com/assets/colab-badge.svg\" alt=\"Open In Colab\"/></a>"
      ]
    },
    {
      "cell_type": "code",
      "metadata": {
        "id": "UGMBEXTfhJFd"
      },
      "source": [
        "import numpy as np\n",
        "import tensorflow as tf\n",
        "from tensorflow import keras\n",
        "from tensorflow.keras.callbacks import EarlyStopping\n",
        "from nltk.translate.bleu_score import corpus_bleu"
      ],
      "execution_count": null,
      "outputs": []
    },
    {
      "cell_type": "code",
      "metadata": {
        "id": "emOrdz_9hvkr"
      },
      "source": [
        "## Config \n",
        "batch_size = 64  # Batch size for training.\n",
        "epochs = 100  # Number of epochs to train for.\n",
        "latent_dim = 256  # Latent dimensionality of the encoding space.\n",
        "num_samples = 10000  # Number of samples to train on.\n",
        "# Path to the data txt file on disk.\n",
        "base_path = \"/content/drive/MyDrive/Deep Learning/\"\n",
        "data_path1 = base_path + \"hun.txt\"\n",
        "data_path2 = \"/content/drive/MyDrive/sentence_pairs.tsv\""
      ],
      "execution_count": null,
      "outputs": []
    },
    {
      "cell_type": "markdown",
      "metadata": {
        "id": "c_VN1BTmPytY"
      },
      "source": [
        "# Functions"
      ]
    },
    {
      "cell_type": "code",
      "metadata": {
        "id": "UUPMHdkTP1HY"
      },
      "source": [
        "def getLines(data_path):\n",
        "  with open(data_path1, \"r\", encoding=\"utf-8\") as f:\n",
        "    lines = f.read().split(\"\\n\")\n",
        "  return lines"
      ],
      "execution_count": null,
      "outputs": []
    },
    {
      "cell_type": "code",
      "metadata": {
        "id": "G-Zu7rYNQJcG"
      },
      "source": [
        "def getTextAndChars(lines):\n",
        "  input_texts = []\n",
        "  target_texts = []\n",
        "  input_characters = set()\n",
        "  target_characters = set()\n",
        "\n",
        "  for line in lines[: min(num_samples, len(lines) - 1)]:\n",
        "    # input_text, target_text, _ = line.split(\"\\t\")\n",
        "    target_text, input_text, _ = line.split(\"\\t\")\n",
        "    # We use \"tab\" as the \"start sequence\" character\n",
        "    # for the targets, and \"\\n\" as \"end sequence\" character.\n",
        "    target_text = \"\\t\" + target_text + \"\\n\"\n",
        "    input_texts.append(input_text)\n",
        "    target_texts.append(target_text)\n",
        "\n",
        "    for char in input_text:\n",
        "        if char not in input_characters:\n",
        "            input_characters.add(char)\n",
        "\n",
        "    for char in target_text:\n",
        "        if char not in target_characters:\n",
        "            target_characters.add(char)\n",
        "\n",
        "  input_characters = sorted(list(input_characters))\n",
        "  target_characters = sorted(list(target_characters)) \n",
        "\n",
        "  return input_texts, target_texts, input_characters, target_characters \n",
        "\n"
      ],
      "execution_count": null,
      "outputs": []
    },
    {
      "cell_type": "code",
      "metadata": {
        "id": "BH53RsOOQ63h"
      },
      "source": [
        "def numTokens(charSet):\n",
        "  return len(charSet)"
      ],
      "execution_count": null,
      "outputs": []
    },
    {
      "cell_type": "code",
      "metadata": {
        "id": "FoGsWg2nRdHC"
      },
      "source": [
        "def maxSeqLength(text):\n",
        "  return max([len(txt) for txt in text])"
      ],
      "execution_count": null,
      "outputs": []
    },
    {
      "cell_type": "code",
      "metadata": {
        "id": "U-D9-S42R1hy"
      },
      "source": [
        "def makeTokenIndex(charSet):\n",
        "  return dict([(char, i) for i, char in enumerate(charSet)])"
      ],
      "execution_count": null,
      "outputs": []
    },
    {
      "cell_type": "code",
      "metadata": {
        "id": "yqIG0zwoSOss"
      },
      "source": [
        "def setInputAndTargetData(input_text, target_text, input_token_index, target_token_index):\n",
        "  encoder_input_data = np.zeros(\n",
        "      (len(input_texts), max_encoder_seq_length, num_encoder_tokens), dtype=\"float32\"\n",
        "  )\n",
        "  decoder_input_data = np.zeros(\n",
        "      (len(input_texts), max_decoder_seq_length, num_decoder_tokens), dtype=\"float32\"\n",
        "  )\n",
        "  decoder_target_data = np.zeros(\n",
        "      (len(input_texts), max_decoder_seq_length, num_decoder_tokens), dtype=\"float32\"\n",
        "  )\n",
        "\n",
        "  \n",
        "  for i, (input_text, target_text) in enumerate(zip(input_texts, target_texts)):\n",
        "    for t, char in enumerate(input_text):\n",
        "        encoder_input_data[i, t, input_token_index[char]] = 1.0\n",
        "\n",
        "    encoder_input_data[i, t + 1 :, input_token_index[\" \"]] = 1.0\n",
        "    for t, char in enumerate(target_text):\n",
        "        # decoder_target_data is ahead of decoder_input_data by one timestep\n",
        "        decoder_input_data[i, t, target_token_index[char]] = 1.0\n",
        "        if t > 0:\n",
        "            # decoder_target_data will be ahead by one timestep\n",
        "            # and will not include the start character.\n",
        "            decoder_target_data[i, t - 1, target_token_index[char]] = 1.0\n",
        "    decoder_input_data[i, t + 1 :, target_token_index[\" \"]] = 1.0\n",
        "    decoder_target_data[i, t:, target_token_index[\" \"]] = 1.0\n",
        "\n",
        "  return encoder_input_data, decoder_input_data, decoder_target_data"
      ],
      "execution_count": null,
      "outputs": []
    },
    {
      "cell_type": "code",
      "metadata": {
        "id": "j7O7HqEwj7LM"
      },
      "source": [
        "# Define an input sequence and process it.\n",
        "def getInputsAndOutputs(num_encoder_tokens, num_decoder_tokens):\n",
        "  encoder_inputs = keras.Input(shape=(None, num_encoder_tokens))\n",
        "  encoder = keras.layers.LSTM(latent_dim, return_state=True)\n",
        "  encoder_outputs, state_h, state_c = encoder(encoder_inputs)\n",
        "\n",
        "  # We discard `encoder_outputs` and only keep the states.\n",
        "  encoder_states = [state_h, state_c]\n",
        "\n",
        "  # Set up the decoder, using `encoder_states` as initial state.\n",
        "  decoder_inputs = keras.Input(shape=(None, num_decoder_tokens))\n",
        "\n",
        "  # We set up our decoder to return full output sequences,\n",
        "  # and to return internal states as well. We don't use the\n",
        "  # return states in the training model, but we will use them in inference.\n",
        "  decoder_lstm = keras.layers.LSTM(latent_dim, return_sequences=True, return_state=True)\n",
        "  decoder_outputs, _, _ = decoder_lstm(decoder_inputs, initial_state=encoder_states)\n",
        "  decoder_dense = keras.layers.Dense(num_decoder_tokens, activation=\"softmax\")\n",
        "  decoder_outputs = decoder_dense(decoder_outputs)\n",
        "\n",
        "  return encoder_inputs, decoder_inputs, decoder_outputs"
      ],
      "execution_count": null,
      "outputs": []
    },
    {
      "cell_type": "code",
      "metadata": {
        "id": "SSZq_5zkYFX-"
      },
      "source": [
        "def splitData(data, valid_split, test_split):\n",
        "  # array index boundary\n",
        "  v_point = int(encoder_input_data.shape[0]*(1-valid_split-test_split))\n",
        "  t_point = int(encoder_input_data.shape[0]*(1-test_split))\n",
        "\n",
        "  data_train = data[:t_point]\n",
        "  data_valid = data[v_point:t_point]\n",
        "  data_test = data[t_point:]\n",
        "\n",
        "  return data_train, data_valid, data_test"
      ],
      "execution_count": null,
      "outputs": []
    },
    {
      "cell_type": "code",
      "metadata": {
        "id": "gZIYazoQpM-8"
      },
      "source": [
        "# Define sampling models\n",
        "# Restore the model and construct the encoder and decoder.\n",
        "def constructEncoderAndDecoder(data_path, input_token_index, target_token_index):\n",
        "  model = keras.models.load_model(base_path + data_path)\n",
        "  \n",
        "  encoder_inputs = model.input[0]  # input_1\n",
        "  encoder_outputs, state_h_enc, state_c_enc = model.layers[2].output  # lstm_1\n",
        "  encoder_states = [state_h_enc, state_c_enc]\n",
        "  encoder_model = keras.Model(encoder_inputs, encoder_states)\n",
        "\n",
        "  decoder_inputs = model.input[1]  # input_2\n",
        "  decoder_state_input_h = keras.Input(shape=(latent_dim,))\n",
        "  decoder_state_input_c = keras.Input(shape=(latent_dim,))\n",
        "  decoder_states_inputs = [decoder_state_input_h, decoder_state_input_c]\n",
        "  decoder_lstm = model.layers[3]\n",
        "  decoder_outputs, state_h_dec, state_c_dec = decoder_lstm(\n",
        "      decoder_inputs, initial_state=decoder_states_inputs\n",
        "  )\n",
        "  decoder_states = [state_h_dec, state_c_dec]\n",
        "  decoder_dense = model.layers[4]\n",
        "  decoder_outputs = decoder_dense(decoder_outputs)\n",
        "  decoder_model = keras.Model(\n",
        "      [decoder_inputs] + decoder_states_inputs, [decoder_outputs] + decoder_states\n",
        "  )\n",
        "\n",
        "  # Reverse-lookup token index to decode sequences back to\n",
        "  # something readable.\n",
        "  reverse_input_char_index = dict((i, char) for char, i in input_token_index.items())\n",
        "  reverse_target_char_index = dict((i, char) for char, i in target_token_index.items())\n",
        "\n",
        "  # decode sentence\n",
        "  decoded_sentences = list()\n",
        "  # Encode the input as state vectors.\n",
        "    states_value = encoder_model.predict(input_seq)\n",
        "\n",
        "    # Generate empty target sequence of length 1.\n",
        "    target_seq = np.zeros((1, 1, num_decoder_tokens))\n",
        "    # Populate the first character of target sequence with the start character.\n",
        "    target_seq[0, 0, target_token_index[\"\\t\"]] = 1.0\n",
        "\n",
        "    # Sampling loop for a batch of sequences\n",
        "    # (to simplify, here we assume a batch of size 1).\n",
        "    stop_condition = False\n",
        "    decoded_sentence = \"\"\n",
        "    while not stop_condition:\n",
        "        output_tokens, h, c = decoder_model.predict([target_seq] + states_value)\n",
        "\n",
        "        # Sample a token\n",
        "        sampled_token_index = np.argmax(output_tokens[0, -1, :])\n",
        "        sampled_char = reverse_target_char_index[sampled_token_index]\n",
        "        decoded_sentence += sampled_char\n",
        "\n",
        "        # Exit condition: either hit max length\n",
        "        # or find stop character.\n",
        "        if sampled_char == \"\\n\" or len(decoded_sentence) > max_decoder_seq_length:\n",
        "            stop_condition = True\n",
        "\n",
        "        # Update the target sequence (of length 1).\n",
        "        target_seq = np.zeros((1, 1, num_decoder_tokens))\n",
        "        target_seq[0, 0, sampled_token_index] = 1.0\n",
        "\n",
        "        # Update states\n",
        "        states_value = [h, c]\n",
        "    decoded_sentences.append(decoded_sentence)"
      ],
      "execution_count": null,
      "outputs": []
    },
    {
      "cell_type": "code",
      "metadata": {
        "colab": {
          "background_save": true
        },
        "id": "ZB8RhX0HpdV0"
      },
      "source": [
        "def decode_sequence(input_seq):\n",
        "    # Encode the input as state vectors.\n",
        "    states_value = encoder_model.predict(input_seq)\n",
        "\n",
        "    # Generate empty target sequence of length 1.\n",
        "    target_seq = np.zeros((1, 1, num_decoder_tokens))\n",
        "    # Populate the first character of target sequence with the start character.\n",
        "    target_seq[0, 0, target_token_index[\"\\t\"]] = 1.0\n",
        "\n",
        "    # Sampling loop for a batch of sequences\n",
        "    # (to simplify, here we assume a batch of size 1).\n",
        "    stop_condition = False\n",
        "    decoded_sentence = \"\"\n",
        "    while not stop_condition:\n",
        "        output_tokens, h, c = decoder_model.predict([target_seq] + states_value)\n",
        "\n",
        "        # Sample a token\n",
        "        sampled_token_index = np.argmax(output_tokens[0, -1, :])\n",
        "        sampled_char = reverse_target_char_index[sampled_token_index]\n",
        "        decoded_sentence += sampled_char\n",
        "\n",
        "        # Exit condition: either hit max length\n",
        "        # or find stop character.\n",
        "        if sampled_char == \"\\n\" or len(decoded_sentence) > max_decoder_seq_length:\n",
        "            stop_condition = True\n",
        "\n",
        "        # Update the target sequence (of length 1).\n",
        "        target_seq = np.zeros((1, 1, num_decoder_tokens))\n",
        "        target_seq[0, 0, sampled_token_index] = 1.0\n",
        "\n",
        "        # Update states\n",
        "        states_value = [h, c]\n",
        "        \n",
        "    return decoded_sentence"
      ],
      "execution_count": null,
      "outputs": []
    },
    {
      "cell_type": "code",
      "metadata": {
        "id": "mlk5Ov4PpiCm"
      },
      "source": [
        "def evalTranslation(encoder_input_data):\n",
        "  n = len(input_texts)\n",
        "  decoded_sentences = list()\n",
        "\n",
        "  for seq_index in range(n):\n",
        "      # Take one sequence (part of the training set)\n",
        "      # for trying out decoding.\n",
        "      input_seq = encoder_input_data[seq_index : seq_index + 1]\n",
        "      decoded_sentence = decode_sequence(input_seq)\n",
        "      # print(\"-\")\n",
        "      # print(\"Input sentence:\", input_texts[seq_index])\n",
        "      # print(\"Decoded sentence:\", decoded_sentence)"
      ],
      "execution_count": null,
      "outputs": []
    },
    {
      "cell_type": "markdown",
      "metadata": {
        "id": "7srSh350MgLq"
      },
      "source": [
        "# Model A #"
      ]
    },
    {
      "cell_type": "markdown",
      "metadata": {
        "id": "tn_4qmSN_asO"
      },
      "source": [
        "## Prepare Data"
      ]
    },
    {
      "cell_type": "code",
      "metadata": {
        "colab": {
          "base_uri": "https://localhost:8080/"
        },
        "id": "Zv2Zkpyxh5J9",
        "outputId": "234b3464-c6ff-402e-db7f-b6a22f03fdba"
      },
      "source": [
        "# Vectorize the data.\n",
        "lines = getLines(data_path1)\n",
        "\n",
        "input_texts, target_texts, input_characters, target_characters = getTextAndChars(lines)\n",
        "\n",
        "num_encoder_tokens = numTokens(input_characters)\n",
        "num_decoder_tokens = numTokens(target_characters)\n",
        "max_encoder_seq_length = maxSeqLength(input_texts)\n",
        "max_decoder_seq_length = maxSeqLength(target_texts)\n",
        "\n",
        "print(\"Number of samples:\", len(input_texts))\n",
        "print(\"Number of unique input tokens:\", num_encoder_tokens)\n",
        "print(\"Number of unique output tokens:\", num_decoder_tokens)\n",
        "print(\"Max sequence length for inputs:\", max_encoder_seq_length)\n",
        "print(\"Max sequence length for outputs:\", max_decoder_seq_length)\n",
        "\n",
        "# character's lexographical order\n",
        "input_token_index = makeTokenIndex(input_characters) \n",
        "target_token_index = makeTokenIndex(target_characters)\n",
        "\n",
        "encoder_input_data, decoder_input_data, decoder_target_data = setInputAndTargetData(input_texts, target_texts, input_token_index, target_token_index)\n",
        "                                                                                    \n",
        "encoder_inputs, decoder_inputs, decoder_outputs = getInputsAndOutputs(num_encoder_tokens, num_decoder_tokens)                                                                          \n"
      ],
      "execution_count": null,
      "outputs": [
        {
          "output_type": "stream",
          "name": "stdout",
          "text": [
            "Number of samples: 10000\n",
            "Number of unique input tokens: 81\n",
            "Number of unique output tokens: 72\n",
            "Max sequence length for inputs: 54\n",
            "Max sequence length for outputs: 17\n"
          ]
        }
      ]
    },
    {
      "cell_type": "markdown",
      "metadata": {
        "id": "CfYXsKzGFqt9"
      },
      "source": [
        "## Define Model"
      ]
    },
    {
      "cell_type": "code",
      "metadata": {
        "id": "_SfoIpUYkyDn"
      },
      "source": [
        "# Define the model that will turn \n",
        "# `encoder_input_data` & `decoder_input_data` into `decoder_target_data`\n",
        "modelA = keras.Model([encoder_inputs, decoder_inputs], decoder_outputs)"
      ],
      "execution_count": null,
      "outputs": []
    },
    {
      "cell_type": "markdown",
      "metadata": {
        "id": "lQdAqvrYGhBu"
      },
      "source": [
        "## Train Model"
      ]
    },
    {
      "cell_type": "code",
      "metadata": {
        "id": "o2_L2KVYI6kJ"
      },
      "source": [
        "# training, validation, test data\n",
        "valid_split = 0.2\n",
        "test_split  = 0.1\n",
        "\n",
        "encoder_input_data_train, encoder_input_data_valid, encoder_input_data_test = splitData(encoder_input_data, valid_split, test_split)\n",
        "decoder_input_data_train, decoder_input_data_valid, decoder_input_data_test = splitData(decoder_input_data, valid_split, test_split)\n",
        "decoder_target_data_train, decoder_target_data_valid, decoder_target_data_test = splitData(decoder_target_data, valid_split, test_split)"
      ],
      "execution_count": null,
      "outputs": []
    },
    {
      "cell_type": "code",
      "metadata": {
        "id": "J99m4f7TpAeX"
      },
      "source": [
        "modelA.compile(\n",
        "    optimizer=\"rmsprop\", loss=\"categorical_crossentropy\", metrics=[\"accuracy\"]\n",
        ")"
      ],
      "execution_count": null,
      "outputs": []
    },
    {
      "cell_type": "code",
      "metadata": {
        "id": "SaFvxKaAHrRP"
      },
      "source": [
        "es = EarlyStopping(monitor='val_accuracy', \n",
        "                   patience=20, verbose=1,\n",
        "                   restore_best_weights=True)"
      ],
      "execution_count": null,
      "outputs": []
    },
    {
      "cell_type": "code",
      "metadata": {
        "colab": {
          "base_uri": "https://localhost:8080/"
        },
        "id": "Yi13jaVCH5Dq",
        "outputId": "5d74ad3b-59de-4e76-ecbe-1154b4485db9"
      },
      "source": [
        "modelA.fit(\n",
        "    [encoder_input_data_train, decoder_input_data_train],\n",
        "    decoder_target_data_train,\n",
        "    batch_size=batch_size,\n",
        "    callbacks=[es],\n",
        "    epochs=epochs,\n",
        "    validation_data = ([encoder_input_data_valid, decoder_input_data_valid],\n",
        "    decoder_target_data_valid)\n",
        ")\n",
        "# Save model\n",
        "modelA.save(base_path + \"modelA\")"
      ],
      "execution_count": null,
      "outputs": [
        {
          "metadata": {
            "tags": null
          },
          "name": "stdout",
          "output_type": "stream",
          "text": [
            "Epoch 1/100\n",
            "141/141 [==============================] - 49s 322ms/step - loss: 2.4295 - accuracy: 0.3552 - val_loss: 2.3555 - val_accuracy: 0.3547\n",
            "Epoch 2/100\n",
            "141/141 [==============================] - 45s 318ms/step - loss: 1.8713 - accuracy: 0.4903 - val_loss: 1.9679 - val_accuracy: 0.4430\n",
            "Epoch 3/100\n",
            "141/141 [==============================] - 45s 318ms/step - loss: 1.6016 - accuracy: 0.5394 - val_loss: 1.7626 - val_accuracy: 0.4827\n",
            "Epoch 4/100\n",
            "141/141 [==============================] - 45s 320ms/step - loss: 1.4707 - accuracy: 0.5693 - val_loss: 1.7020 - val_accuracy: 0.4995\n",
            "Epoch 5/100\n",
            "141/141 [==============================] - 45s 321ms/step - loss: 1.3819 - accuracy: 0.5913 - val_loss: 1.5792 - val_accuracy: 0.5256\n",
            "Epoch 6/100\n",
            "141/141 [==============================] - 45s 322ms/step - loss: 1.3110 - accuracy: 0.6100 - val_loss: 1.4852 - val_accuracy: 0.5567\n",
            "Epoch 7/100\n",
            "141/141 [==============================] - 45s 322ms/step - loss: 1.2494 - accuracy: 0.6269 - val_loss: 1.4307 - val_accuracy: 0.5714\n",
            "Epoch 8/100\n",
            "141/141 [==============================] - 45s 322ms/step - loss: 1.1977 - accuracy: 0.6407 - val_loss: 1.4095 - val_accuracy: 0.5740\n",
            "Epoch 9/100\n",
            "141/141 [==============================] - 45s 319ms/step - loss: 1.1568 - accuracy: 0.6518 - val_loss: 1.3176 - val_accuracy: 0.6021\n",
            "Epoch 10/100\n",
            "141/141 [==============================] - 45s 320ms/step - loss: 1.1206 - accuracy: 0.6605 - val_loss: 1.3194 - val_accuracy: 0.5970\n",
            "Epoch 11/100\n",
            "141/141 [==============================] - 45s 321ms/step - loss: 1.0869 - accuracy: 0.6704 - val_loss: 1.2320 - val_accuracy: 0.6270\n",
            "Epoch 12/100\n",
            "141/141 [==============================] - 45s 319ms/step - loss: 1.0555 - accuracy: 0.6792 - val_loss: 1.1934 - val_accuracy: 0.6372\n",
            "Epoch 13/100\n",
            "141/141 [==============================] - 46s 323ms/step - loss: 1.0263 - accuracy: 0.6865 - val_loss: 1.1633 - val_accuracy: 0.6468\n",
            "Epoch 14/100\n",
            "141/141 [==============================] - 45s 322ms/step - loss: 0.9991 - accuracy: 0.6945 - val_loss: 1.1452 - val_accuracy: 0.6478\n",
            "Epoch 15/100\n",
            "141/141 [==============================] - 45s 322ms/step - loss: 0.9751 - accuracy: 0.7010 - val_loss: 1.0909 - val_accuracy: 0.6726\n",
            "Epoch 16/100\n",
            "141/141 [==============================] - 45s 317ms/step - loss: 0.9459 - accuracy: 0.7107 - val_loss: 1.0594 - val_accuracy: 0.6777\n",
            "Epoch 17/100\n",
            "141/141 [==============================] - 45s 323ms/step - loss: 0.9110 - accuracy: 0.7237 - val_loss: 1.0102 - val_accuracy: 0.6906\n",
            "Epoch 18/100\n",
            "141/141 [==============================] - 46s 324ms/step - loss: 0.8830 - accuracy: 0.7336 - val_loss: 0.9903 - val_accuracy: 0.7014\n",
            "Epoch 19/100\n",
            "141/141 [==============================] - 46s 327ms/step - loss: 0.8609 - accuracy: 0.7403 - val_loss: 0.9578 - val_accuracy: 0.7103\n",
            "Epoch 20/100\n",
            "141/141 [==============================] - 45s 322ms/step - loss: 0.8398 - accuracy: 0.7467 - val_loss: 0.9316 - val_accuracy: 0.7158\n",
            "Epoch 21/100\n",
            "141/141 [==============================] - 46s 323ms/step - loss: 0.8197 - accuracy: 0.7525 - val_loss: 0.9281 - val_accuracy: 0.7138\n",
            "Epoch 22/100\n",
            "141/141 [==============================] - 45s 320ms/step - loss: 0.8025 - accuracy: 0.7578 - val_loss: 0.8788 - val_accuracy: 0.7354\n",
            "Epoch 23/100\n",
            "141/141 [==============================] - 45s 320ms/step - loss: 0.7847 - accuracy: 0.7621 - val_loss: 0.8629 - val_accuracy: 0.7432\n",
            "Epoch 24/100\n",
            "141/141 [==============================] - 45s 320ms/step - loss: 0.7681 - accuracy: 0.7671 - val_loss: 0.8509 - val_accuracy: 0.7356\n",
            "Epoch 25/100\n",
            "141/141 [==============================] - 45s 321ms/step - loss: 0.7531 - accuracy: 0.7726 - val_loss: 0.8176 - val_accuracy: 0.7512\n",
            "Epoch 26/100\n",
            "141/141 [==============================] - 46s 324ms/step - loss: 0.7380 - accuracy: 0.7772 - val_loss: 0.8080 - val_accuracy: 0.7531\n",
            "Epoch 27/100\n",
            "141/141 [==============================] - 45s 321ms/step - loss: 0.7228 - accuracy: 0.7815 - val_loss: 0.7860 - val_accuracy: 0.7629\n",
            "Epoch 28/100\n",
            "141/141 [==============================] - 45s 319ms/step - loss: 0.7099 - accuracy: 0.7856 - val_loss: 0.7598 - val_accuracy: 0.7715\n",
            "Epoch 29/100\n",
            "141/141 [==============================] - 45s 320ms/step - loss: 0.6961 - accuracy: 0.7898 - val_loss: 0.7448 - val_accuracy: 0.7750\n",
            "Epoch 30/100\n",
            "141/141 [==============================] - 45s 322ms/step - loss: 0.6839 - accuracy: 0.7934 - val_loss: 0.7252 - val_accuracy: 0.7825\n",
            "Epoch 31/100\n",
            "141/141 [==============================] - 45s 321ms/step - loss: 0.6724 - accuracy: 0.7963 - val_loss: 0.7275 - val_accuracy: 0.7772\n",
            "Epoch 32/100\n",
            "141/141 [==============================] - 45s 320ms/step - loss: 0.6602 - accuracy: 0.7993 - val_loss: 0.6945 - val_accuracy: 0.7909\n",
            "Epoch 33/100\n",
            "141/141 [==============================] - 45s 320ms/step - loss: 0.6482 - accuracy: 0.8027 - val_loss: 0.6901 - val_accuracy: 0.7934\n",
            "Epoch 34/100\n",
            "141/141 [==============================] - 45s 323ms/step - loss: 0.6372 - accuracy: 0.8054 - val_loss: 0.6717 - val_accuracy: 0.7949\n",
            "Epoch 35/100\n",
            "141/141 [==============================] - 45s 323ms/step - loss: 0.6265 - accuracy: 0.8075 - val_loss: 0.6527 - val_accuracy: 0.8024\n",
            "Epoch 36/100\n",
            "141/141 [==============================] - 45s 321ms/step - loss: 0.6152 - accuracy: 0.8113 - val_loss: 0.6383 - val_accuracy: 0.8099\n",
            "Epoch 37/100\n",
            "141/141 [==============================] - 45s 322ms/step - loss: 0.6042 - accuracy: 0.8143 - val_loss: 0.6310 - val_accuracy: 0.8064\n",
            "Epoch 38/100\n",
            "141/141 [==============================] - 45s 321ms/step - loss: 0.5937 - accuracy: 0.8171 - val_loss: 0.6296 - val_accuracy: 0.8091\n",
            "Epoch 39/100\n",
            "141/141 [==============================] - 45s 321ms/step - loss: 0.5842 - accuracy: 0.8201 - val_loss: 0.6122 - val_accuracy: 0.8141\n",
            "Epoch 40/100\n",
            "141/141 [==============================] - 45s 320ms/step - loss: 0.5731 - accuracy: 0.8235 - val_loss: 0.5993 - val_accuracy: 0.8149\n",
            "Epoch 41/100\n",
            "141/141 [==============================] - 45s 322ms/step - loss: 0.5639 - accuracy: 0.8255 - val_loss: 0.5801 - val_accuracy: 0.8239\n",
            "Epoch 42/100\n",
            "141/141 [==============================] - 45s 318ms/step - loss: 0.5543 - accuracy: 0.8278 - val_loss: 0.5753 - val_accuracy: 0.8239\n",
            "Epoch 43/100\n",
            "141/141 [==============================] - 45s 321ms/step - loss: 0.5447 - accuracy: 0.8315 - val_loss: 0.5621 - val_accuracy: 0.8282\n",
            "Epoch 44/100\n",
            "141/141 [==============================] - 45s 321ms/step - loss: 0.5362 - accuracy: 0.8333 - val_loss: 0.5637 - val_accuracy: 0.8255\n",
            "Epoch 45/100\n",
            "141/141 [==============================] - 45s 322ms/step - loss: 0.5278 - accuracy: 0.8359 - val_loss: 0.5469 - val_accuracy: 0.8295\n",
            "Epoch 46/100\n",
            "141/141 [==============================] - 45s 322ms/step - loss: 0.5189 - accuracy: 0.8385 - val_loss: 0.5356 - val_accuracy: 0.8338\n",
            "Epoch 47/100\n",
            "141/141 [==============================] - 45s 322ms/step - loss: 0.5125 - accuracy: 0.8394 - val_loss: 0.5216 - val_accuracy: 0.8396\n",
            "Epoch 48/100\n",
            "141/141 [==============================] - 45s 320ms/step - loss: 0.5037 - accuracy: 0.8419 - val_loss: 0.5063 - val_accuracy: 0.8411\n",
            "Epoch 49/100\n",
            "141/141 [==============================] - 45s 321ms/step - loss: 0.4958 - accuracy: 0.8446 - val_loss: 0.5056 - val_accuracy: 0.8451\n",
            "Epoch 50/100\n",
            "141/141 [==============================] - 45s 322ms/step - loss: 0.4892 - accuracy: 0.8466 - val_loss: 0.4991 - val_accuracy: 0.8467\n",
            "Epoch 51/100\n",
            "141/141 [==============================] - 45s 321ms/step - loss: 0.4813 - accuracy: 0.8489 - val_loss: 0.4980 - val_accuracy: 0.8449\n",
            "Epoch 52/100\n",
            "141/141 [==============================] - 45s 321ms/step - loss: 0.4750 - accuracy: 0.8508 - val_loss: 0.4762 - val_accuracy: 0.8521\n",
            "Epoch 53/100\n",
            "141/141 [==============================] - 45s 321ms/step - loss: 0.4676 - accuracy: 0.8530 - val_loss: 0.4773 - val_accuracy: 0.8493\n",
            "Epoch 54/100\n",
            "141/141 [==============================] - 46s 324ms/step - loss: 0.4602 - accuracy: 0.8550 - val_loss: 0.4648 - val_accuracy: 0.8532\n",
            "Epoch 55/100\n",
            "141/141 [==============================] - 46s 325ms/step - loss: 0.4541 - accuracy: 0.8565 - val_loss: 0.4636 - val_accuracy: 0.8544\n",
            "Epoch 56/100\n",
            "141/141 [==============================] - 46s 324ms/step - loss: 0.4475 - accuracy: 0.8590 - val_loss: 0.4488 - val_accuracy: 0.8589\n",
            "Epoch 57/100\n",
            "141/141 [==============================] - 46s 323ms/step - loss: 0.4402 - accuracy: 0.8601 - val_loss: 0.4412 - val_accuracy: 0.8627\n",
            "Epoch 58/100\n",
            "141/141 [==============================] - 45s 322ms/step - loss: 0.4334 - accuracy: 0.8631 - val_loss: 0.4466 - val_accuracy: 0.8612\n",
            "Epoch 59/100\n",
            "141/141 [==============================] - 46s 323ms/step - loss: 0.4273 - accuracy: 0.8648 - val_loss: 0.4208 - val_accuracy: 0.8664\n",
            "Epoch 60/100\n",
            "141/141 [==============================] - 46s 323ms/step - loss: 0.4197 - accuracy: 0.8663 - val_loss: 0.4339 - val_accuracy: 0.8626\n",
            "Epoch 61/100\n",
            "141/141 [==============================] - 45s 319ms/step - loss: 0.4135 - accuracy: 0.8684 - val_loss: 0.4221 - val_accuracy: 0.8652\n",
            "Epoch 62/100\n",
            "141/141 [==============================] - 45s 319ms/step - loss: 0.4074 - accuracy: 0.8704 - val_loss: 0.4103 - val_accuracy: 0.8711\n",
            "Epoch 63/100\n",
            "141/141 [==============================] - 45s 320ms/step - loss: 0.4006 - accuracy: 0.8725 - val_loss: 0.4009 - val_accuracy: 0.8735\n",
            "Epoch 64/100\n",
            "141/141 [==============================] - 45s 318ms/step - loss: 0.3943 - accuracy: 0.8745 - val_loss: 0.3907 - val_accuracy: 0.8773\n",
            "Epoch 65/100\n",
            "141/141 [==============================] - 45s 319ms/step - loss: 0.3882 - accuracy: 0.8761 - val_loss: 0.3899 - val_accuracy: 0.8770\n",
            "Epoch 66/100\n",
            "141/141 [==============================] - 45s 321ms/step - loss: 0.3817 - accuracy: 0.8782 - val_loss: 0.3782 - val_accuracy: 0.8794\n",
            "Epoch 67/100\n",
            "141/141 [==============================] - 45s 321ms/step - loss: 0.3756 - accuracy: 0.8806 - val_loss: 0.3648 - val_accuracy: 0.8847\n",
            "Epoch 68/100\n",
            "141/141 [==============================] - 45s 320ms/step - loss: 0.3703 - accuracy: 0.8822 - val_loss: 0.3619 - val_accuracy: 0.8863\n",
            "Epoch 69/100\n",
            "141/141 [==============================] - 45s 320ms/step - loss: 0.3634 - accuracy: 0.8847 - val_loss: 0.3625 - val_accuracy: 0.8858\n",
            "Epoch 70/100\n",
            "141/141 [==============================] - 45s 321ms/step - loss: 0.3577 - accuracy: 0.8858 - val_loss: 0.3520 - val_accuracy: 0.8896\n",
            "Epoch 71/100\n",
            "141/141 [==============================] - 45s 321ms/step - loss: 0.3519 - accuracy: 0.8884 - val_loss: 0.3403 - val_accuracy: 0.8946\n",
            "Epoch 72/100\n",
            "141/141 [==============================] - 45s 320ms/step - loss: 0.3470 - accuracy: 0.8898 - val_loss: 0.3415 - val_accuracy: 0.8945\n",
            "Epoch 73/100\n",
            "141/141 [==============================] - 45s 321ms/step - loss: 0.3405 - accuracy: 0.8916 - val_loss: 0.3381 - val_accuracy: 0.8943\n",
            "Epoch 74/100\n",
            "141/141 [==============================] - 45s 321ms/step - loss: 0.3354 - accuracy: 0.8930 - val_loss: 0.3202 - val_accuracy: 0.9009\n",
            "Epoch 75/100\n",
            "141/141 [==============================] - 45s 322ms/step - loss: 0.3298 - accuracy: 0.8948 - val_loss: 0.3278 - val_accuracy: 0.8983\n",
            "Epoch 76/100\n",
            "141/141 [==============================] - 45s 320ms/step - loss: 0.3240 - accuracy: 0.8971 - val_loss: 0.3198 - val_accuracy: 0.9004\n",
            "Epoch 77/100\n",
            "141/141 [==============================] - 45s 322ms/step - loss: 0.3186 - accuracy: 0.8992 - val_loss: 0.3148 - val_accuracy: 0.9023\n",
            "Epoch 78/100\n",
            "141/141 [==============================] - 45s 320ms/step - loss: 0.3134 - accuracy: 0.9007 - val_loss: 0.3019 - val_accuracy: 0.9066\n",
            "Epoch 79/100\n",
            "141/141 [==============================] - 45s 320ms/step - loss: 0.3084 - accuracy: 0.9027 - val_loss: 0.3052 - val_accuracy: 0.9038\n",
            "Epoch 80/100\n",
            "141/141 [==============================] - 45s 322ms/step - loss: 0.3024 - accuracy: 0.9042 - val_loss: 0.2911 - val_accuracy: 0.9106\n",
            "Epoch 81/100\n",
            "141/141 [==============================] - 46s 326ms/step - loss: 0.2981 - accuracy: 0.9063 - val_loss: 0.2945 - val_accuracy: 0.9088\n",
            "Epoch 82/100\n",
            "141/141 [==============================] - 45s 323ms/step - loss: 0.2929 - accuracy: 0.9070 - val_loss: 0.2739 - val_accuracy: 0.9167\n",
            "Epoch 83/100\n",
            "141/141 [==============================] - 45s 321ms/step - loss: 0.2875 - accuracy: 0.9088 - val_loss: 0.2765 - val_accuracy: 0.9168\n",
            "Epoch 84/100\n",
            "141/141 [==============================] - 46s 324ms/step - loss: 0.2820 - accuracy: 0.9107 - val_loss: 0.2666 - val_accuracy: 0.9197\n",
            "Epoch 85/100\n",
            "141/141 [==============================] - 46s 324ms/step - loss: 0.2772 - accuracy: 0.9121 - val_loss: 0.2651 - val_accuracy: 0.9185\n",
            "Epoch 86/100\n",
            "141/141 [==============================] - 47s 330ms/step - loss: 0.2727 - accuracy: 0.9142 - val_loss: 0.2569 - val_accuracy: 0.9216\n",
            "Epoch 87/100\n",
            "141/141 [==============================] - 45s 323ms/step - loss: 0.2676 - accuracy: 0.9158 - val_loss: 0.2584 - val_accuracy: 0.9198\n",
            "Epoch 88/100\n",
            "141/141 [==============================] - 46s 324ms/step - loss: 0.2630 - accuracy: 0.9169 - val_loss: 0.2516 - val_accuracy: 0.9234\n",
            "Epoch 89/100\n",
            "141/141 [==============================] - 46s 323ms/step - loss: 0.2579 - accuracy: 0.9182 - val_loss: 0.2437 - val_accuracy: 0.9261\n",
            "Epoch 90/100\n",
            "141/141 [==============================] - 46s 323ms/step - loss: 0.2530 - accuracy: 0.9201 - val_loss: 0.2413 - val_accuracy: 0.9266\n",
            "Epoch 91/100\n",
            "141/141 [==============================] - 45s 323ms/step - loss: 0.2491 - accuracy: 0.9215 - val_loss: 0.2282 - val_accuracy: 0.9298\n",
            "Epoch 92/100\n",
            "141/141 [==============================] - 46s 324ms/step - loss: 0.2449 - accuracy: 0.9224 - val_loss: 0.2326 - val_accuracy: 0.9296\n",
            "Epoch 93/100\n",
            "141/141 [==============================] - 45s 322ms/step - loss: 0.2401 - accuracy: 0.9242 - val_loss: 0.2265 - val_accuracy: 0.9308\n",
            "Epoch 94/100\n",
            "141/141 [==============================] - 45s 322ms/step - loss: 0.2352 - accuracy: 0.9261 - val_loss: 0.2234 - val_accuracy: 0.9317\n",
            "Epoch 95/100\n",
            "141/141 [==============================] - 45s 321ms/step - loss: 0.2308 - accuracy: 0.9274 - val_loss: 0.2177 - val_accuracy: 0.9349\n",
            "Epoch 96/100\n",
            "141/141 [==============================] - 45s 323ms/step - loss: 0.2267 - accuracy: 0.9286 - val_loss: 0.2131 - val_accuracy: 0.9350\n",
            "Epoch 97/100\n",
            "141/141 [==============================] - 45s 320ms/step - loss: 0.2226 - accuracy: 0.9302 - val_loss: 0.2161 - val_accuracy: 0.9340\n",
            "Epoch 98/100\n",
            "141/141 [==============================] - 46s 324ms/step - loss: 0.2177 - accuracy: 0.9317 - val_loss: 0.2033 - val_accuracy: 0.9388\n",
            "Epoch 99/100\n",
            "141/141 [==============================] - 45s 322ms/step - loss: 0.2133 - accuracy: 0.9332 - val_loss: 0.2022 - val_accuracy: 0.9396\n",
            "Epoch 100/100\n",
            "141/141 [==============================] - 46s 324ms/step - loss: 0.2095 - accuracy: 0.9347 - val_loss: 0.1971 - val_accuracy: 0.9409\n"
          ]
        },
        {
          "output_type": "stream",
          "name": "stderr",
          "text": [
            "WARNING:absl:Found untraced functions such as lstm_cell_layer_call_fn, lstm_cell_layer_call_and_return_conditional_losses, lstm_cell_1_layer_call_fn, lstm_cell_1_layer_call_and_return_conditional_losses, lstm_cell_layer_call_fn while saving (showing 5 of 10). These functions will not be directly callable after loading.\n"
          ]
        },
        {
          "output_type": "stream",
          "name": "stdout",
          "text": [
            "INFO:tensorflow:Assets written to: /content/drive/MyDrive/Deep Learning/modelA/assets\n"
          ]
        },
        {
          "output_type": "stream",
          "name": "stderr",
          "text": [
            "INFO:tensorflow:Assets written to: /content/drive/MyDrive/Deep Learning/modelA/assets\n",
            "WARNING:absl:<keras.layers.recurrent.LSTMCell object at 0x7f6688e162d0> has the same name 'LSTMCell' as a built-in Keras object. Consider renaming <class 'keras.layers.recurrent.LSTMCell'> to avoid naming conflicts when loading with `tf.keras.models.load_model`. If renaming is not possible, pass the object in the `custom_objects` parameter of the load function.\n",
            "WARNING:absl:<keras.layers.recurrent.LSTMCell object at 0x7f66887b37d0> has the same name 'LSTMCell' as a built-in Keras object. Consider renaming <class 'keras.layers.recurrent.LSTMCell'> to avoid naming conflicts when loading with `tf.keras.models.load_model`. If renaming is not possible, pass the object in the `custom_objects` parameter of the load function.\n"
          ]
        }
      ]
    },
    {
      "cell_type": "markdown",
      "metadata": {
        "id": "FQ9nT-_AIQGd"
      },
      "source": [
        "## Evaluate Model"
      ]
    },
    {
      "cell_type": "code",
      "metadata": {
        "colab": {
          "base_uri": "https://localhost:8080/"
        },
        "id": "dVyJd6wIIIqh",
        "outputId": "5ffc8351-0ee6-4817-e3d4-cf57352dc062"
      },
      "source": [
        "modelA.evaluate([encoder_input_data_test, decoder_input_data_test],\n",
        "    decoder_target_data_test)"
      ],
      "execution_count": null,
      "outputs": [
        {
          "output_type": "stream",
          "name": "stdout",
          "text": [
            "32/32 [==============================] - 2s 67ms/step - loss: 2.0079 - accuracy: 0.6439\n"
          ]
        },
        {
          "output_type": "execute_result",
          "data": {
            "text/plain": [
              "[2.007884979248047, 0.6438823342323303]"
            ]
          },
          "metadata": {},
          "execution_count": 25
        }
      ]
    },
    {
      "cell_type": "markdown",
      "metadata": {
        "id": "abYc26H36Dua"
      },
      "source": [
        "##### Model A accuracy: 0.6439\n",
        "##### Loss: 2.0079"
      ]
    },
    {
      "cell_type": "markdown",
      "metadata": {
        "id": "eVNTRhU8PF6v"
      },
      "source": [
        "# Model B#"
      ]
    },
    {
      "cell_type": "markdown",
      "metadata": {
        "id": "6f3w_q7rPIiQ"
      },
      "source": [
        "### Prepare Data "
      ]
    },
    {
      "cell_type": "code",
      "metadata": {
        "colab": {
          "base_uri": "https://localhost:8080/"
        },
        "id": "uqRl-mc2PL_F",
        "outputId": "7e3ee455-6820-4095-f2ba-9ab7173cea39"
      },
      "source": [
        "# Vectorize the data.\n",
        "lines = getLines(data_path1)\n",
        "\n",
        "input_texts, target_texts, input_characters, target_characters = getTextAndChars(lines)\n",
        "\n",
        "num_encoder_tokens = numTokens(input_characters)\n",
        "num_decoder_tokens = numTokens(target_characters)\n",
        "max_encoder_seq_length = maxSeqLength(input_texts)\n",
        "max_decoder_seq_length = maxSeqLength(target_texts)\n",
        "\n",
        "print(\"Number of samples:\", len(input_texts))\n",
        "print(\"Number of unique input tokens:\", num_encoder_tokens)\n",
        "print(\"Number of unique output tokens:\", num_decoder_tokens)\n",
        "print(\"Max sequence length for inputs:\", max_encoder_seq_length)\n",
        "print(\"Max sequence length for outputs:\", max_decoder_seq_length)\n",
        "\n",
        "# character's lexographical order\n",
        "input_token_index = makeTokenIndex(input_characters) \n",
        "target_token_index = makeTokenIndex(target_characters)\n",
        "\n",
        "encoder_input_data, decoder_input_data, decoder_target_data = setInputAndTargetData(input_texts, target_texts, input_token_index, target_token_index)\n",
        "encoder_inputs, decoder_inputs, decoder_outputs = getInputsAndOutputs(num_encoder_tokens, num_decoder_tokens)               "
      ],
      "execution_count": null,
      "outputs": [
        {
          "output_type": "stream",
          "name": "stdout",
          "text": [
            "Number of samples: 10000\n",
            "Number of unique input tokens: 81\n",
            "Number of unique output tokens: 72\n",
            "Max sequence length for inputs: 54\n",
            "Max sequence length for outputs: 17\n"
          ]
        }
      ]
    },
    {
      "cell_type": "markdown",
      "metadata": {
        "id": "TUXpygX5AL_4"
      },
      "source": [
        "## Define Model"
      ]
    },
    {
      "cell_type": "code",
      "metadata": {
        "id": "rttJkwtF_Xhg"
      },
      "source": [
        "# Define the model that will turn \n",
        "# `encoder_input_data` & `decoder_input_data` into `decoder_target_data`\n",
        "modelB = keras.Model([encoder_inputs, decoder_inputs], decoder_outputs)"
      ],
      "execution_count": null,
      "outputs": []
    },
    {
      "cell_type": "markdown",
      "metadata": {
        "id": "IGMb2thvAP4y"
      },
      "source": [
        "## Train Model"
      ]
    },
    {
      "cell_type": "code",
      "metadata": {
        "id": "6q1g5v1h_fDe"
      },
      "source": [
        "# training, validation, test data\n",
        "valid_split = 0.2\n",
        "test_split  = 0.1\n",
        "\n",
        "encoder_input_data_train, encoder_input_data_valid, encoder_input_data_test = splitData(encoder_input_data, valid_split, test_split)\n",
        "decoder_input_data_train, decoder_input_data_valid, decoder_input_data_test = splitData(decoder_input_data, valid_split, test_split)\n",
        "decoder_target_data_train, decoder_target_data_valid, decoder_target_data_test = splitData(decoder_target_data, valid_split, test_split)"
      ],
      "execution_count": null,
      "outputs": []
    },
    {
      "cell_type": "code",
      "metadata": {
        "id": "OiD2CEQ7_kVK"
      },
      "source": [
        "modelB.compile(\n",
        "    optimizer=\"rmsprop\", loss=\"categorical_crossentropy\", metrics=[\"accuracy\"]\n",
        ")"
      ],
      "execution_count": null,
      "outputs": []
    },
    {
      "cell_type": "code",
      "metadata": {
        "id": "5Gh8fF07_pZr"
      },
      "source": [
        "es = EarlyStopping(monitor='val_accuracy', \n",
        "                   patience=20, verbose=1,\n",
        "                   restore_best_weights=True)"
      ],
      "execution_count": null,
      "outputs": []
    },
    {
      "cell_type": "code",
      "metadata": {
        "colab": {
          "base_uri": "https://localhost:8080/"
        },
        "id": "FUiGzzJg_vNE",
        "outputId": "7f311c17-ffed-4a76-a05b-e3bc93c56edb"
      },
      "source": [
        "modelB.fit(\n",
        "    [encoder_input_data_train, decoder_input_data_train],\n",
        "    decoder_target_data_train,\n",
        "    batch_size=batch_size,\n",
        "    callbacks=[es],\n",
        "    epochs=epochs,\n",
        "    validation_data = ([encoder_input_data_valid, decoder_input_data_valid],\n",
        "    decoder_target_data_valid)\n",
        ")\n",
        "# Save model\n",
        "modelB.save(base_path + \"modelB\")"
      ],
      "execution_count": null,
      "outputs": [
        {
          "metadata": {
            "tags": null
          },
          "name": "stdout",
          "output_type": "stream",
          "text": [
            "Epoch 1/100\n",
            "141/141 [==============================] - 50s 327ms/step - loss: 2.4360 - accuracy: 0.3566 - val_loss: 2.3650 - val_accuracy: 0.3600\n",
            "Epoch 2/100\n",
            "141/141 [==============================] - 46s 324ms/step - loss: 1.8807 - accuracy: 0.4885 - val_loss: 2.0327 - val_accuracy: 0.4178\n",
            "Epoch 3/100\n",
            "141/141 [==============================] - 45s 321ms/step - loss: 1.6670 - accuracy: 0.5276 - val_loss: 1.8199 - val_accuracy: 0.4814\n",
            "Epoch 4/100\n",
            "141/141 [==============================] - 45s 323ms/step - loss: 1.4989 - accuracy: 0.5620 - val_loss: 1.7118 - val_accuracy: 0.4981\n",
            "Epoch 5/100\n",
            "141/141 [==============================] - 46s 325ms/step - loss: 1.4146 - accuracy: 0.5817 - val_loss: 1.6034 - val_accuracy: 0.5246\n",
            "Epoch 6/100\n",
            "141/141 [==============================] - 45s 322ms/step - loss: 1.3319 - accuracy: 0.6064 - val_loss: 1.5390 - val_accuracy: 0.5366\n",
            "Epoch 7/100\n",
            "141/141 [==============================] - 45s 322ms/step - loss: 1.2648 - accuracy: 0.6264 - val_loss: 1.4456 - val_accuracy: 0.5712\n",
            "Epoch 8/100\n",
            "141/141 [==============================] - 46s 324ms/step - loss: 1.2098 - accuracy: 0.6416 - val_loss: 1.4210 - val_accuracy: 0.5759\n",
            "Epoch 9/100\n",
            "141/141 [==============================] - 46s 328ms/step - loss: 1.1617 - accuracy: 0.6549 - val_loss: 1.3364 - val_accuracy: 0.5959\n",
            "Epoch 10/100\n",
            "141/141 [==============================] - 46s 323ms/step - loss: 1.1204 - accuracy: 0.6662 - val_loss: 1.2839 - val_accuracy: 0.6124\n",
            "Epoch 11/100\n",
            "141/141 [==============================] - 45s 323ms/step - loss: 1.0837 - accuracy: 0.6760 - val_loss: 1.2621 - val_accuracy: 0.6162\n",
            "Epoch 12/100\n",
            "141/141 [==============================] - 46s 323ms/step - loss: 1.0523 - accuracy: 0.6846 - val_loss: 1.2721 - val_accuracy: 0.6111\n",
            "Epoch 13/100\n",
            "141/141 [==============================] - 46s 324ms/step - loss: 1.0217 - accuracy: 0.6927 - val_loss: 1.1927 - val_accuracy: 0.6370\n",
            "Epoch 14/100\n",
            "141/141 [==============================] - 46s 323ms/step - loss: 0.9919 - accuracy: 0.7018 - val_loss: 1.1484 - val_accuracy: 0.6482\n",
            "Epoch 15/100\n",
            "141/141 [==============================] - 45s 323ms/step - loss: 0.9662 - accuracy: 0.7082 - val_loss: 1.1053 - val_accuracy: 0.6647\n",
            "Epoch 16/100\n",
            "141/141 [==============================] - 46s 330ms/step - loss: 0.9410 - accuracy: 0.7162 - val_loss: 1.0613 - val_accuracy: 0.6750\n",
            "Epoch 17/100\n",
            "141/141 [==============================] - 46s 323ms/step - loss: 0.9163 - accuracy: 0.7234 - val_loss: 1.0384 - val_accuracy: 0.6818\n",
            "Epoch 18/100\n",
            "141/141 [==============================] - 46s 323ms/step - loss: 0.8933 - accuracy: 0.7304 - val_loss: 1.0023 - val_accuracy: 0.6933\n",
            "Epoch 19/100\n",
            "141/141 [==============================] - 46s 323ms/step - loss: 0.8719 - accuracy: 0.7362 - val_loss: 1.0016 - val_accuracy: 0.6902\n",
            "Epoch 20/100\n",
            "141/141 [==============================] - 46s 327ms/step - loss: 0.8495 - accuracy: 0.7420 - val_loss: 0.9515 - val_accuracy: 0.7114\n",
            "Epoch 21/100\n",
            "141/141 [==============================] - 46s 327ms/step - loss: 0.8280 - accuracy: 0.7474 - val_loss: 0.9240 - val_accuracy: 0.7212\n",
            "Epoch 22/100\n",
            "141/141 [==============================] - 47s 332ms/step - loss: 0.8074 - accuracy: 0.7542 - val_loss: 0.8942 - val_accuracy: 0.7276\n",
            "Epoch 23/100\n",
            "141/141 [==============================] - 47s 331ms/step - loss: 0.7866 - accuracy: 0.7608 - val_loss: 0.8660 - val_accuracy: 0.7371\n",
            "Epoch 24/100\n",
            "141/141 [==============================] - 47s 330ms/step - loss: 0.8083 - accuracy: 0.7568 - val_loss: 0.9530 - val_accuracy: 0.7065\n",
            "Epoch 25/100\n",
            "141/141 [==============================] - 46s 328ms/step - loss: 0.7966 - accuracy: 0.7588 - val_loss: 0.8817 - val_accuracy: 0.7334\n",
            "Epoch 26/100\n",
            "141/141 [==============================] - 47s 331ms/step - loss: 0.7604 - accuracy: 0.7694 - val_loss: 0.8093 - val_accuracy: 0.7545\n",
            "Epoch 27/100\n",
            "141/141 [==============================] - 47s 335ms/step - loss: 0.7261 - accuracy: 0.7771 - val_loss: 0.7924 - val_accuracy: 0.7578\n",
            "Epoch 28/100\n",
            "141/141 [==============================] - 46s 328ms/step - loss: 0.7068 - accuracy: 0.7847 - val_loss: 0.7654 - val_accuracy: 0.7695\n",
            "Epoch 29/100\n",
            "141/141 [==============================] - 47s 331ms/step - loss: 0.6903 - accuracy: 0.7891 - val_loss: 0.7535 - val_accuracy: 0.7725\n",
            "Epoch 30/100\n",
            "141/141 [==============================] - 46s 326ms/step - loss: 0.6740 - accuracy: 0.7944 - val_loss: 0.7289 - val_accuracy: 0.7802\n",
            "Epoch 31/100\n",
            "141/141 [==============================] - 46s 328ms/step - loss: 0.6576 - accuracy: 0.7986 - val_loss: 0.7177 - val_accuracy: 0.7794\n",
            "Epoch 32/100\n",
            "141/141 [==============================] - 47s 333ms/step - loss: 0.6441 - accuracy: 0.8027 - val_loss: 0.7292 - val_accuracy: 0.7768\n",
            "Epoch 33/100\n",
            "141/141 [==============================] - 46s 329ms/step - loss: 0.6295 - accuracy: 0.8072 - val_loss: 0.6698 - val_accuracy: 0.7946\n",
            "Epoch 34/100\n",
            "141/141 [==============================] - 47s 331ms/step - loss: 0.6161 - accuracy: 0.8098 - val_loss: 0.6580 - val_accuracy: 0.7996\n",
            "Epoch 35/100\n",
            "141/141 [==============================] - 47s 330ms/step - loss: 0.6028 - accuracy: 0.8141 - val_loss: 0.6414 - val_accuracy: 0.8029\n",
            "Epoch 36/100\n",
            "141/141 [==============================] - 47s 335ms/step - loss: 0.5907 - accuracy: 0.8180 - val_loss: 0.6158 - val_accuracy: 0.8146\n",
            "Epoch 37/100\n",
            "141/141 [==============================] - 47s 333ms/step - loss: 0.5782 - accuracy: 0.8206 - val_loss: 0.6043 - val_accuracy: 0.8151\n",
            "Epoch 38/100\n",
            "141/141 [==============================] - 47s 332ms/step - loss: 0.5662 - accuracy: 0.8255 - val_loss: 0.5883 - val_accuracy: 0.8230\n",
            "Epoch 39/100\n",
            "141/141 [==============================] - 47s 332ms/step - loss: 0.5546 - accuracy: 0.8289 - val_loss: 0.5710 - val_accuracy: 0.8267\n",
            "Epoch 40/100\n",
            "141/141 [==============================] - 47s 332ms/step - loss: 0.5441 - accuracy: 0.8317 - val_loss: 0.5633 - val_accuracy: 0.8282\n",
            "Epoch 41/100\n",
            "141/141 [==============================] - 46s 329ms/step - loss: 0.5327 - accuracy: 0.8354 - val_loss: 0.5510 - val_accuracy: 0.8330\n",
            "Epoch 42/100\n",
            "141/141 [==============================] - 48s 337ms/step - loss: 0.5225 - accuracy: 0.8381 - val_loss: 0.5427 - val_accuracy: 0.8339\n",
            "Epoch 43/100\n",
            "141/141 [==============================] - 47s 334ms/step - loss: 0.5112 - accuracy: 0.8419 - val_loss: 0.5295 - val_accuracy: 0.8386\n",
            "Epoch 44/100\n",
            "141/141 [==============================] - 47s 336ms/step - loss: 0.5017 - accuracy: 0.8450 - val_loss: 0.5363 - val_accuracy: 0.8367\n",
            "Epoch 45/100\n",
            "141/141 [==============================] - 47s 331ms/step - loss: 0.4922 - accuracy: 0.8472 - val_loss: 0.5045 - val_accuracy: 0.8491\n",
            "Epoch 46/100\n",
            "141/141 [==============================] - 47s 333ms/step - loss: 0.4829 - accuracy: 0.8501 - val_loss: 0.4882 - val_accuracy: 0.8532\n",
            "Epoch 47/100\n",
            "141/141 [==============================] - 47s 330ms/step - loss: 0.4735 - accuracy: 0.8530 - val_loss: 0.4847 - val_accuracy: 0.8533\n",
            "Epoch 48/100\n",
            "141/141 [==============================] - 46s 330ms/step - loss: 0.4646 - accuracy: 0.8558 - val_loss: 0.4755 - val_accuracy: 0.8572\n",
            "Epoch 49/100\n",
            "141/141 [==============================] - 46s 327ms/step - loss: 0.4552 - accuracy: 0.8586 - val_loss: 0.4648 - val_accuracy: 0.8615\n",
            "Epoch 50/100\n",
            "141/141 [==============================] - 46s 328ms/step - loss: 0.4464 - accuracy: 0.8607 - val_loss: 0.4569 - val_accuracy: 0.8623\n",
            "Epoch 51/100\n",
            "141/141 [==============================] - 47s 332ms/step - loss: 0.4388 - accuracy: 0.8635 - val_loss: 0.4363 - val_accuracy: 0.8679\n",
            "Epoch 52/100\n",
            "141/141 [==============================] - 46s 329ms/step - loss: 0.4300 - accuracy: 0.8659 - val_loss: 0.4280 - val_accuracy: 0.8723\n",
            "Epoch 53/100\n",
            "141/141 [==============================] - 47s 332ms/step - loss: 0.4226 - accuracy: 0.8686 - val_loss: 0.4254 - val_accuracy: 0.8711\n",
            "Epoch 54/100\n",
            "141/141 [==============================] - 47s 335ms/step - loss: 0.4145 - accuracy: 0.8704 - val_loss: 0.4199 - val_accuracy: 0.8731\n",
            "Epoch 55/100\n",
            "141/141 [==============================] - 47s 331ms/step - loss: 0.4063 - accuracy: 0.8731 - val_loss: 0.4163 - val_accuracy: 0.8763\n",
            "Epoch 56/100\n",
            "141/141 [==============================] - 47s 335ms/step - loss: 0.3988 - accuracy: 0.8748 - val_loss: 0.3984 - val_accuracy: 0.8791\n",
            "Epoch 57/100\n",
            "141/141 [==============================] - 46s 330ms/step - loss: 0.3922 - accuracy: 0.8772 - val_loss: 0.3811 - val_accuracy: 0.8846\n",
            "Epoch 58/100\n",
            "141/141 [==============================] - 47s 336ms/step - loss: 0.3852 - accuracy: 0.8798 - val_loss: 0.3695 - val_accuracy: 0.8892\n",
            "Epoch 59/100\n",
            "141/141 [==============================] - 48s 340ms/step - loss: 0.3774 - accuracy: 0.8820 - val_loss: 0.3734 - val_accuracy: 0.8868\n",
            "Epoch 60/100\n",
            "141/141 [==============================] - 48s 341ms/step - loss: 0.3703 - accuracy: 0.8839 - val_loss: 0.3598 - val_accuracy: 0.8923\n",
            "Epoch 61/100\n",
            "141/141 [==============================] - 46s 325ms/step - loss: 0.3634 - accuracy: 0.8858 - val_loss: 0.3527 - val_accuracy: 0.8937\n",
            "Epoch 62/100\n",
            "141/141 [==============================] - 47s 331ms/step - loss: 0.3571 - accuracy: 0.8878 - val_loss: 0.3497 - val_accuracy: 0.8944\n",
            "Epoch 63/100\n",
            "141/141 [==============================] - 47s 334ms/step - loss: 0.3508 - accuracy: 0.8902 - val_loss: 0.3427 - val_accuracy: 0.8968\n",
            "Epoch 64/100\n",
            "141/141 [==============================] - 46s 330ms/step - loss: 0.3436 - accuracy: 0.8920 - val_loss: 0.3364 - val_accuracy: 0.8976\n",
            "Epoch 65/100\n",
            "141/141 [==============================] - 47s 331ms/step - loss: 0.3373 - accuracy: 0.8943 - val_loss: 0.3276 - val_accuracy: 0.9018\n",
            "Epoch 66/100\n",
            "141/141 [==============================] - 46s 329ms/step - loss: 0.3304 - accuracy: 0.8963 - val_loss: 0.3223 - val_accuracy: 0.9029\n",
            "Epoch 67/100\n",
            "141/141 [==============================] - 46s 328ms/step - loss: 0.3249 - accuracy: 0.8975 - val_loss: 0.3056 - val_accuracy: 0.9077\n",
            "Epoch 68/100\n",
            "141/141 [==============================] - 46s 329ms/step - loss: 0.3176 - accuracy: 0.9003 - val_loss: 0.3148 - val_accuracy: 0.9060\n",
            "Epoch 69/100\n",
            "141/141 [==============================] - 46s 330ms/step - loss: 0.3115 - accuracy: 0.9024 - val_loss: 0.3025 - val_accuracy: 0.9096\n",
            "Epoch 70/100\n",
            "141/141 [==============================] - 46s 328ms/step - loss: 0.3065 - accuracy: 0.9038 - val_loss: 0.2932 - val_accuracy: 0.9109\n",
            "Epoch 71/100\n",
            "141/141 [==============================] - 47s 331ms/step - loss: 0.3002 - accuracy: 0.9056 - val_loss: 0.2913 - val_accuracy: 0.9116\n",
            "Epoch 72/100\n",
            "141/141 [==============================] - 46s 330ms/step - loss: 0.2947 - accuracy: 0.9070 - val_loss: 0.2766 - val_accuracy: 0.9174\n",
            "Epoch 73/100\n",
            "141/141 [==============================] - 46s 328ms/step - loss: 0.2891 - accuracy: 0.9091 - val_loss: 0.2835 - val_accuracy: 0.9141\n",
            "Epoch 74/100\n",
            "141/141 [==============================] - 46s 329ms/step - loss: 0.2830 - accuracy: 0.9109 - val_loss: 0.2677 - val_accuracy: 0.9204\n",
            "Epoch 75/100\n",
            "141/141 [==============================] - 47s 332ms/step - loss: 0.2774 - accuracy: 0.9126 - val_loss: 0.2732 - val_accuracy: 0.9182\n",
            "Epoch 76/100\n",
            "141/141 [==============================] - 46s 329ms/step - loss: 0.2719 - accuracy: 0.9141 - val_loss: 0.2567 - val_accuracy: 0.9237\n",
            "Epoch 77/100\n",
            "141/141 [==============================] - 47s 331ms/step - loss: 0.2667 - accuracy: 0.9163 - val_loss: 0.2429 - val_accuracy: 0.9269\n",
            "Epoch 78/100\n",
            "141/141 [==============================] - 46s 329ms/step - loss: 0.2612 - accuracy: 0.9182 - val_loss: 0.2509 - val_accuracy: 0.9238\n",
            "Epoch 79/100\n",
            "141/141 [==============================] - 46s 326ms/step - loss: 0.2549 - accuracy: 0.9204 - val_loss: 0.2412 - val_accuracy: 0.9281\n",
            "Epoch 80/100\n",
            "141/141 [==============================] - 47s 333ms/step - loss: 0.2506 - accuracy: 0.9217 - val_loss: 0.2354 - val_accuracy: 0.9321\n",
            "Epoch 81/100\n",
            "141/141 [==============================] - 46s 330ms/step - loss: 0.2461 - accuracy: 0.9232 - val_loss: 0.2362 - val_accuracy: 0.9289\n",
            "Epoch 82/100\n",
            "141/141 [==============================] - 47s 332ms/step - loss: 0.2403 - accuracy: 0.9251 - val_loss: 0.2320 - val_accuracy: 0.9303\n",
            "Epoch 83/100\n",
            "141/141 [==============================] - 47s 331ms/step - loss: 0.2354 - accuracy: 0.9262 - val_loss: 0.2166 - val_accuracy: 0.9356\n",
            "Epoch 84/100\n",
            "141/141 [==============================] - 46s 329ms/step - loss: 0.2317 - accuracy: 0.9274 - val_loss: 0.2185 - val_accuracy: 0.9344\n",
            "Epoch 85/100\n",
            "141/141 [==============================] - 46s 329ms/step - loss: 0.2259 - accuracy: 0.9299 - val_loss: 0.2163 - val_accuracy: 0.9353\n",
            "Epoch 86/100\n",
            "141/141 [==============================] - 46s 328ms/step - loss: 0.2223 - accuracy: 0.9306 - val_loss: 0.2034 - val_accuracy: 0.9405\n",
            "Epoch 87/100\n",
            "141/141 [==============================] - 47s 331ms/step - loss: 0.2167 - accuracy: 0.9325 - val_loss: 0.2013 - val_accuracy: 0.9415\n",
            "Epoch 88/100\n",
            "141/141 [==============================] - 46s 328ms/step - loss: 0.2130 - accuracy: 0.9332 - val_loss: 0.2101 - val_accuracy: 0.9366\n",
            "Epoch 89/100\n",
            "141/141 [==============================] - 46s 326ms/step - loss: 0.2065 - accuracy: 0.9358 - val_loss: 0.1975 - val_accuracy: 0.9420\n",
            "Epoch 90/100\n",
            "141/141 [==============================] - 46s 329ms/step - loss: 0.2029 - accuracy: 0.9368 - val_loss: 0.1842 - val_accuracy: 0.9456\n",
            "Epoch 91/100\n",
            "141/141 [==============================] - 47s 332ms/step - loss: 0.1989 - accuracy: 0.9381 - val_loss: 0.1862 - val_accuracy: 0.9452\n",
            "Epoch 92/100\n",
            "141/141 [==============================] - 47s 332ms/step - loss: 0.1948 - accuracy: 0.9391 - val_loss: 0.1742 - val_accuracy: 0.9499\n",
            "Epoch 93/100\n",
            "141/141 [==============================] - 47s 331ms/step - loss: 0.1915 - accuracy: 0.9405 - val_loss: 0.1751 - val_accuracy: 0.9497\n",
            "Epoch 94/100\n",
            "141/141 [==============================] - 46s 329ms/step - loss: 0.1875 - accuracy: 0.9420 - val_loss: 0.1655 - val_accuracy: 0.9521\n",
            "Epoch 95/100\n",
            "141/141 [==============================] - 47s 330ms/step - loss: 0.1829 - accuracy: 0.9441 - val_loss: 0.1743 - val_accuracy: 0.9486\n",
            "Epoch 96/100\n",
            "141/141 [==============================] - 46s 328ms/step - loss: 0.1792 - accuracy: 0.9446 - val_loss: 0.1601 - val_accuracy: 0.9524\n",
            "Epoch 97/100\n",
            "141/141 [==============================] - 46s 330ms/step - loss: 0.1756 - accuracy: 0.9463 - val_loss: 0.1810 - val_accuracy: 0.9471\n",
            "Epoch 98/100\n",
            "141/141 [==============================] - 47s 333ms/step - loss: 0.1723 - accuracy: 0.9469 - val_loss: 0.1600 - val_accuracy: 0.9518\n",
            "Epoch 99/100\n",
            "141/141 [==============================] - 46s 330ms/step - loss: 0.1688 - accuracy: 0.9483 - val_loss: 0.1585 - val_accuracy: 0.9546\n",
            "Epoch 100/100\n",
            "141/141 [==============================] - 47s 331ms/step - loss: 0.1642 - accuracy: 0.9494 - val_loss: 0.1499 - val_accuracy: 0.9572\n"
          ]
        },
        {
          "output_type": "stream",
          "name": "stderr",
          "text": [
            "WARNING:absl:Found untraced functions such as lstm_cell_2_layer_call_fn, lstm_cell_2_layer_call_and_return_conditional_losses, lstm_cell_3_layer_call_fn, lstm_cell_3_layer_call_and_return_conditional_losses, lstm_cell_2_layer_call_fn while saving (showing 5 of 10). These functions will not be directly callable after loading.\n"
          ]
        },
        {
          "output_type": "stream",
          "name": "stdout",
          "text": [
            "INFO:tensorflow:Assets written to: /content/drive/MyDrive/Deep Learning/modelB/assets\n"
          ]
        },
        {
          "output_type": "stream",
          "name": "stderr",
          "text": [
            "INFO:tensorflow:Assets written to: /content/drive/MyDrive/Deep Learning/modelB/assets\n",
            "WARNING:absl:<keras.layers.recurrent.LSTMCell object at 0x7f667ab1d3d0> has the same name 'LSTMCell' as a built-in Keras object. Consider renaming <class 'keras.layers.recurrent.LSTMCell'> to avoid naming conflicts when loading with `tf.keras.models.load_model`. If renaming is not possible, pass the object in the `custom_objects` parameter of the load function.\n",
            "WARNING:absl:<keras.layers.recurrent.LSTMCell object at 0x7f667ac7ec90> has the same name 'LSTMCell' as a built-in Keras object. Consider renaming <class 'keras.layers.recurrent.LSTMCell'> to avoid naming conflicts when loading with `tf.keras.models.load_model`. If renaming is not possible, pass the object in the `custom_objects` parameter of the load function.\n"
          ]
        }
      ]
    },
    {
      "cell_type": "markdown",
      "metadata": {
        "id": "eldcISrfAYSS"
      },
      "source": [
        "## Evaluate Model"
      ]
    },
    {
      "cell_type": "code",
      "metadata": {
        "colab": {
          "base_uri": "https://localhost:8080/"
        },
        "id": "yQlFaooi__3k",
        "outputId": "95d73987-2656-4eba-dba6-d038fec0961c"
      },
      "source": [
        "modelB.evaluate([encoder_input_data_test, decoder_input_data_test],\n",
        "    decoder_target_data_test)"
      ],
      "execution_count": null,
      "outputs": [
        {
          "output_type": "stream",
          "name": "stdout",
          "text": [
            "32/32 [==============================] - 4s 113ms/step - loss: 2.0742 - accuracy: 0.6385\n"
          ]
        },
        {
          "output_type": "execute_result",
          "data": {
            "text/plain": [
              "[2.0741889476776123, 0.6385294198989868]"
            ]
          },
          "metadata": {},
          "execution_count": 36
        }
      ]
    },
    {
      "cell_type": "markdown",
      "metadata": {
        "id": "bZLxu1bb6Ntn"
      },
      "source": [
        "##### Model B accuracy: 0.6385\n",
        "##### Loss: 2.0742"
      ]
    },
    {
      "cell_type": "code",
      "metadata": {
        "id": "s2O3IcN7fwJC"
      },
      "source": [
        ""
      ],
      "execution_count": null,
      "outputs": []
    }
  ]
}